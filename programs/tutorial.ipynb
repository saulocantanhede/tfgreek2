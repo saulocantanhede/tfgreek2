{
 "cells": [
  {
   "cell_type": "code",
   "execution_count": 1,
   "id": "ef6e376b-7c3c-4c76-81ca-b7a38f8b3f11",
   "metadata": {},
   "outputs": [],
   "source": [
    "%load_ext autoreload\n",
    "%autoreload 2\n",
    "\n",
    "from tf.fabric import Fabric\n",
    "from tf.app import use"
   ]
  },
  {
   "cell_type": "code",
   "execution_count": 2,
   "id": "9fa3d687-7e22-4f26-8afb-899d54cf48d3",
   "metadata": {},
   "outputs": [
    {
     "data": {
      "text/markdown": [
       "**Locating corpus resources ...**"
      ],
      "text/plain": [
       "<IPython.core.display.Markdown object>"
      ]
     },
     "metadata": {},
     "output_type": "display_data"
    },
    {
     "data": {
      "text/html": [
       "<b title=\"local release\">app:</b> <span title=\"rv0.4.0=#g61756f28da3d0fdf8053448afbccb9b20607c60c offline under C:/Users/TF/text-fabric-data/github\">~/text-fabric-data/github/ETCBC/nestle1904/app</span>"
      ],
      "text/plain": [
       "<IPython.core.display.HTML object>"
      ]
     },
     "metadata": {},
     "output_type": "display_data"
    },
    {
     "data": {
      "text/html": [
       "<b title=\"local release\">data:</b> <span title=\"rv0.4.0=#g61756f28da3d0fdf8053448afbccb9b20607c60c offline under C:/Users/TF/text-fabric-data/github\">~/text-fabric-data/github/ETCBC/nestle1904/tf/0.4.0</span>"
      ],
      "text/plain": [
       "<IPython.core.display.HTML object>"
      ]
     },
     "metadata": {},
     "output_type": "display_data"
    },
    {
     "data": {
      "text/html": [
       "\n",
       "            <b>Text-Fabric:</b> <a target=\"_blank\" href=\"https://annotation.github.io/text-fabric/tf/cheatsheet.html\" title=\"text-fabric-api\">Text-Fabric API 11.4.13</a>, <a target=\"_blank\" href=\"https://github.com/ETCBC/nestle1904/blob/main/app\" title=\"ETCBC/nestle1904 app\">ETCBC/nestle1904/app  v3</a>, <a target=\"_blank\" href=\"https://annotation.github.io/text-fabric/tf/about/searchusage.html\" title=\"Search Templates Introduction and Reference\">Search Reference</a><br>\n",
       "            <b>Data:</b> <a target=\"_blank\" href=\"https://github.com/ETCBC/nestle1904/blob/main/docs/about.md\" title=\"provenance of ETCBC - nestle1904/tf\">ETCBC - nestle1904 0.4.0</a>, <a target=\"_blank\" href=\"https://annotation.github.io/text-fabric/tf/writing/greek.html\" title=\"How TF features represent text\">Character table</a>, <a target=\"_blank\" href=\"https://github.com/ETCBC/nestle1904/blob/main/docs/transcription.md\" title=\"ETCBC - nestle1904 feature documentation\">Feature docs</a><br>\n",
       "            <details class=\"nodeinfo\"><summary><b>Node types</b></summary>\n",
       "<table class=\"nodeinfo\">\n",
       "    <tr>\n",
       "        <th>Name</th>\n",
       "        <th># of nodes</th>\n",
       "        <th># slots/node</th>\n",
       "        <th>% coverage</th>\n",
       "    </tr>\n",
       "\n",
       "<tr>\n",
       "    <th>book</th>\n",
       "    <td>27</td>\n",
       "    <td>5102.93</td>\n",
       "    <td><b>100</b></td>\n",
       "</tr>\n",
       "\n",
       "<tr>\n",
       "    <th>chapter</th>\n",
       "    <td>260</td>\n",
       "    <td>529.92</td>\n",
       "    <td><b>100</b></td>\n",
       "</tr>\n",
       "\n",
       "<tr>\n",
       "    <th>verse</th>\n",
       "    <td>7944</td>\n",
       "    <td>17.34</td>\n",
       "    <td><b>100</b></td>\n",
       "</tr>\n",
       "\n",
       "<tr>\n",
       "    <th>sentence</th>\n",
       "    <td>8011</td>\n",
       "    <td>17.20</td>\n",
       "    <td><b>100</b></td>\n",
       "</tr>\n",
       "\n",
       "<tr>\n",
       "    <th>wg</th>\n",
       "    <td>114879</td>\n",
       "    <td>7.60</td>\n",
       "    <td><i>633</i></td>\n",
       "</tr>\n",
       "\n",
       "<tr>\n",
       "    <th>clause</th>\n",
       "    <td>30152</td>\n",
       "    <td>7.37</td>\n",
       "    <td><i>161</i></td>\n",
       "</tr>\n",
       "\n",
       "<tr>\n",
       "    <th>phrase</th>\n",
       "    <td>42636</td>\n",
       "    <td>3.21</td>\n",
       "    <td>99</td>\n",
       "</tr>\n",
       "\n",
       "<tr>\n",
       "    <th><i>w</i></th>\n",
       "    <td>137779</td>\n",
       "    <td>1.00</td>\n",
       "    <td><b>100</b></td>\n",
       "</tr>\n",
       "</table></details>\n",
       "            <b>Sets:</b> no custom sets<br>\n",
       "            <b>Features:</b><br>\n",
       "<details><summary><b>ETCBC - nestle1904/tf</b></summary>\n",
       "    <div class=\"fcorpus\">\n",
       "\n",
       "<div class=\"frow\">\n",
       "    <div class=\"fnamecat \">\n",
       "<a target=\"_blank\" href=\"https://github.com/ETCBC/nestle1904/blob/main/docs/transcription.md\" title=\"~/text-fabric-data/github/ETCBC/nestle1904/tf/0.4.0/after.tf\">after</a>\n",
       "</div>\n",
       "<div class=\"fmono\">str</div>\n",
       "\n",
       "<span> material after the end of the word</span>\n",
       "\n",
       "</div>\n",
       "\n",
       "<div class=\"frow\">\n",
       "    <div class=\"fnamecat \">\n",
       "<a target=\"_blank\" href=\"https://github.com/ETCBC/nestle1904/blob/main/docs/transcription.md\" title=\"~/text-fabric-data/github/ETCBC/nestle1904/tf/0.4.0/appositioncontainer.tf\">appositioncontainer</a>\n",
       "</div>\n",
       "<div class=\"fmono\">int</div>\n",
       "\n",
       "<span> 1 if it is an apposition container</span>\n",
       "\n",
       "</div>\n",
       "\n",
       "<div class=\"frow\">\n",
       "    <div class=\"fnamecat \">\n",
       "<a target=\"_blank\" href=\"https://github.com/ETCBC/nestle1904/blob/main/docs/transcription.md\" title=\"~/text-fabric-data/github/ETCBC/nestle1904/tf/0.4.0/articular.tf\">articular</a>\n",
       "</div>\n",
       "<div class=\"fmono\">int</div>\n",
       "\n",
       "<span> 1 if the wg has an article</span>\n",
       "\n",
       "</div>\n",
       "\n",
       "<div class=\"frow\">\n",
       "    <div class=\"fnamecat \">\n",
       "<a target=\"_blank\" href=\"https://github.com/ETCBC/nestle1904/blob/main/docs/transcription.md\" title=\"~/text-fabric-data/github/ETCBC/nestle1904/tf/0.4.0/book.tf\">book</a>\n",
       "</div>\n",
       "<div class=\"fmono\">str</div>\n",
       "\n",
       "<span> book name (abbreviated), from ref attribute in xml</span>\n",
       "\n",
       "</div>\n",
       "\n",
       "<div class=\"frow\">\n",
       "    <div class=\"fnamecat \">\n",
       "<a target=\"_blank\" href=\"https://github.com/ETCBC/nestle1904/blob/main/docs/transcription.md\" title=\"~/text-fabric-data/github/ETCBC/nestle1904/tf/0.4.0/case.tf\">case</a>\n",
       "</div>\n",
       "<div class=\"fmono\">str</div>\n",
       "\n",
       "<span> grammatical case</span>\n",
       "\n",
       "</div>\n",
       "\n",
       "<div class=\"frow\">\n",
       "    <div class=\"fnamecat \">\n",
       "<a target=\"_blank\" href=\"https://github.com/ETCBC/nestle1904/blob/main/docs/transcription.md\" title=\"~/text-fabric-data/github/ETCBC/nestle1904/tf/0.4.0/chapter.tf\">chapter</a>\n",
       "</div>\n",
       "<div class=\"fmono\">int</div>\n",
       "\n",
       "<span> chapter number, from ref attribute in xml</span>\n",
       "\n",
       "</div>\n",
       "\n",
       "<div class=\"frow\">\n",
       "    <div class=\"fnamecat \">\n",
       "<a target=\"_blank\" href=\"https://github.com/ETCBC/nestle1904/blob/main/docs/transcription.md\" title=\"~/text-fabric-data/github/ETCBC/nestle1904/tf/0.4.0/clauseType.tf\">clauseType</a>\n",
       "</div>\n",
       "<div class=\"fmono\">str</div>\n",
       "\n",
       "<span> clause type</span>\n",
       "\n",
       "</div>\n",
       "\n",
       "<div class=\"frow\">\n",
       "    <div class=\"fnamecat \">\n",
       "<a target=\"_blank\" href=\"https://github.com/ETCBC/nestle1904/blob/main/docs/transcription.md\" title=\"~/text-fabric-data/github/ETCBC/nestle1904/tf/0.4.0/cls.tf\">cls</a>\n",
       "</div>\n",
       "<div class=\"fmono\">str</div>\n",
       "\n",
       "<span> this is XML attribute cls</span>\n",
       "\n",
       "</div>\n",
       "\n",
       "<div class=\"frow\">\n",
       "    <div class=\"fnamecat \">\n",
       "<a target=\"_blank\" href=\"https://github.com/ETCBC/nestle1904/blob/main/docs/transcription.md\" title=\"~/text-fabric-data/github/ETCBC/nestle1904/tf/0.4.0/cltype.tf\">cltype</a>\n",
       "</div>\n",
       "<div class=\"fmono\">str</div>\n",
       "\n",
       "<span> clause type for verbless, verb-elided, and minor clauses</span>\n",
       "\n",
       "</div>\n",
       "\n",
       "<div class=\"frow\">\n",
       "    <div class=\"fnamecat \">\n",
       "<a target=\"_blank\" href=\"https://github.com/ETCBC/nestle1904/blob/main/docs/transcription.md\" title=\"~/text-fabric-data/github/ETCBC/nestle1904/tf/0.4.0/crule.tf\">crule</a>\n",
       "</div>\n",
       "<div class=\"fmono\">str</div>\n",
       "\n",
       "<span> clause rule (from xml attribute Rule)</span>\n",
       "\n",
       "</div>\n",
       "\n",
       "<div class=\"frow\">\n",
       "    <div class=\"fnamecat \">\n",
       "<a target=\"_blank\" href=\"https://github.com/ETCBC/nestle1904/blob/main/docs/transcription.md\" title=\"~/text-fabric-data/github/ETCBC/nestle1904/tf/0.4.0/degree.tf\">degree</a>\n",
       "</div>\n",
       "<div class=\"fmono\">str</div>\n",
       "\n",
       "<span> grammatical degree</span>\n",
       "\n",
       "</div>\n",
       "\n",
       "<div class=\"frow\">\n",
       "    <div class=\"fnamecat \">\n",
       "<a target=\"_blank\" href=\"https://github.com/ETCBC/nestle1904/blob/main/docs/transcription.md\" title=\"~/text-fabric-data/github/ETCBC/nestle1904/tf/0.4.0/discontinuous.tf\">discontinuous</a>\n",
       "</div>\n",
       "<div class=\"fmono\">int</div>\n",
       "\n",
       "<span> 1 if the word is out of sequence in the xml</span>\n",
       "\n",
       "</div>\n",
       "\n",
       "<div class=\"frow\">\n",
       "    <div class=\"fnamecat \">\n",
       "<a target=\"_blank\" href=\"https://github.com/ETCBC/nestle1904/blob/main/docs/transcription.md\" title=\"~/text-fabric-data/github/ETCBC/nestle1904/tf/0.4.0/domain.tf\">domain</a>\n",
       "</div>\n",
       "<div class=\"fmono\">str</div>\n",
       "\n",
       "<span> domain</span>\n",
       "\n",
       "</div>\n",
       "\n",
       "<div class=\"frow\">\n",
       "    <div class=\"fnamecat \">\n",
       "<a target=\"_blank\" href=\"https://github.com/ETCBC/nestle1904/blob/main/docs/transcription.md\" title=\"~/text-fabric-data/github/ETCBC/nestle1904/tf/0.4.0/framespec.tf\">framespec</a>\n",
       "</div>\n",
       "<div class=\"fmono\">str</div>\n",
       "\n",
       "<span> this is XML attribute framespec</span>\n",
       "\n",
       "</div>\n",
       "\n",
       "<div class=\"frow\">\n",
       "    <div class=\"fnamecat \">\n",
       "<a target=\"_blank\" href=\"https://github.com/ETCBC/nestle1904/blob/main/docs/transcription.md\" title=\"~/text-fabric-data/github/ETCBC/nestle1904/tf/0.4.0/gender.tf\">gender</a>\n",
       "</div>\n",
       "<div class=\"fmono\">str</div>\n",
       "\n",
       "<span> grammatical gender</span>\n",
       "\n",
       "</div>\n",
       "\n",
       "<div class=\"frow\">\n",
       "    <div class=\"fnamecat \">\n",
       "<a target=\"_blank\" href=\"https://github.com/ETCBC/nestle1904/blob/main/docs/transcription.md\" title=\"~/text-fabric-data/github/ETCBC/nestle1904/tf/0.4.0/gloss.tf\">gloss</a>\n",
       "</div>\n",
       "<div class=\"fmono\">str</div>\n",
       "\n",
       "<span> short translation</span>\n",
       "\n",
       "</div>\n",
       "\n",
       "<div class=\"frow\">\n",
       "    <div class=\"fnamecat \">\n",
       "<a target=\"_blank\" href=\"https://github.com/ETCBC/nestle1904/blob/main/docs/transcription.md\" title=\"~/text-fabric-data/github/ETCBC/nestle1904/tf/0.4.0/id.tf\">id</a>\n",
       "</div>\n",
       "<div class=\"fmono\">str</div>\n",
       "\n",
       "<span> xml id</span>\n",
       "\n",
       "</div>\n",
       "\n",
       "<div class=\"frow\">\n",
       "    <div class=\"fnamecat \">\n",
       "<a target=\"_blank\" href=\"https://github.com/ETCBC/nestle1904/blob/main/docs/transcription.md\" title=\"~/text-fabric-data/github/ETCBC/nestle1904/tf/0.4.0/junction.tf\">junction</a>\n",
       "</div>\n",
       "<div class=\"fmono\">str</div>\n",
       "\n",
       "<span> type of junction</span>\n",
       "\n",
       "</div>\n",
       "\n",
       "<div class=\"frow\">\n",
       "    <div class=\"fnamecat \">\n",
       "<a target=\"_blank\" href=\"https://github.com/ETCBC/nestle1904/blob/main/docs/transcription.md\" title=\"~/text-fabric-data/github/ETCBC/nestle1904/tf/0.4.0/lang.tf\">lang</a>\n",
       "</div>\n",
       "<div class=\"fmono\">str</div>\n",
       "\n",
       "<span> language the text is in</span>\n",
       "\n",
       "</div>\n",
       "\n",
       "<div class=\"frow\">\n",
       "    <div class=\"fnamecat \">\n",
       "<a target=\"_blank\" href=\"https://github.com/ETCBC/nestle1904/blob/main/docs/transcription.md\" title=\"~/text-fabric-data/github/ETCBC/nestle1904/tf/0.4.0/lemma.tf\">lemma</a>\n",
       "</div>\n",
       "<div class=\"fmono\">str</div>\n",
       "\n",
       "<span> lexical lemma</span>\n",
       "\n",
       "</div>\n",
       "\n",
       "<div class=\"frow\">\n",
       "    <div class=\"fnamecat \">\n",
       "<a target=\"_blank\" href=\"https://github.com/ETCBC/nestle1904/blob/main/docs/transcription.md\" title=\"~/text-fabric-data/github/ETCBC/nestle1904/tf/0.4.0/ln.tf\">ln</a>\n",
       "</div>\n",
       "<div class=\"fmono\">str</div>\n",
       "\n",
       "<span> ln</span>\n",
       "\n",
       "</div>\n",
       "\n",
       "<div class=\"frow\">\n",
       "    <div class=\"fnamecat \">\n",
       "<a target=\"_blank\" href=\"https://github.com/ETCBC/nestle1904/blob/main/docs/transcription.md\" title=\"~/text-fabric-data/github/ETCBC/nestle1904/tf/0.4.0/mood.tf\">mood</a>\n",
       "</div>\n",
       "<div class=\"fmono\">str</div>\n",
       "\n",
       "<span> verbal mood</span>\n",
       "\n",
       "</div>\n",
       "\n",
       "<div class=\"frow\">\n",
       "    <div class=\"fnamecat \">\n",
       "<a target=\"_blank\" href=\"https://github.com/ETCBC/nestle1904/blob/main/docs/transcription.md\" title=\"~/text-fabric-data/github/ETCBC/nestle1904/tf/0.4.0/morph.tf\">morph</a>\n",
       "</div>\n",
       "<div class=\"fmono\">str</div>\n",
       "\n",
       "<span> morphological code</span>\n",
       "\n",
       "</div>\n",
       "\n",
       "<div class=\"frow\">\n",
       "    <div class=\"fnamecat \">\n",
       "<a target=\"_blank\" href=\"https://github.com/ETCBC/nestle1904/blob/main/docs/transcription.md\" title=\"~/text-fabric-data/github/ETCBC/nestle1904/tf/0.4.0/nodeId.tf\">nodeId</a>\n",
       "</div>\n",
       "<div class=\"fmono\">int</div>\n",
       "\n",
       "<span> node id (as in the XML source data</span>\n",
       "\n",
       "</div>\n",
       "\n",
       "<div class=\"frow\">\n",
       "    <div class=\"fnamecat \">\n",
       "<a target=\"_blank\" href=\"https://github.com/ETCBC/nestle1904/blob/main/docs/transcription.md\" title=\"~/text-fabric-data/github/ETCBC/nestle1904/tf/0.4.0/normalized.tf\">normalized</a>\n",
       "</div>\n",
       "<div class=\"fmono\">str</div>\n",
       "\n",
       "<span> lemma normalized</span>\n",
       "\n",
       "</div>\n",
       "\n",
       "<div class=\"frow\">\n",
       "    <div class=\"fnamecat \">\n",
       "<a target=\"_blank\" href=\"https://github.com/ETCBC/nestle1904/blob/main/docs/transcription.md\" title=\"~/text-fabric-data/github/ETCBC/nestle1904/tf/0.4.0/note.tf\">note</a>\n",
       "</div>\n",
       "<div class=\"fmono\">str</div>\n",
       "\n",
       "<span> annotation of linguistic nature</span>\n",
       "\n",
       "</div>\n",
       "\n",
       "<div class=\"frow\">\n",
       "    <div class=\"fnamecat \">\n",
       "<a target=\"_blank\" href=\"https://github.com/ETCBC/nestle1904/blob/main/docs/transcription.md\" title=\"~/text-fabric-data/github/ETCBC/nestle1904/tf/0.4.0/num.tf\">num</a>\n",
       "</div>\n",
       "<div class=\"fmono\">int</div>\n",
       "\n",
       "<span> generated number (not in xml):  book: (Matthew=1, Mark=2, ..., Revelation=27);  sentence: numbered per chapter;  word: numbered per verse.</span>\n",
       "\n",
       "</div>\n",
       "\n",
       "<div class=\"frow\">\n",
       "    <div class=\"fnamecat \">\n",
       "<a target=\"_blank\" href=\"https://github.com/ETCBC/nestle1904/blob/main/docs/transcription.md\" title=\"~/text-fabric-data/github/ETCBC/nestle1904/tf/0.4.0/number.tf\">number</a>\n",
       "</div>\n",
       "<div class=\"fmono\">str</div>\n",
       "\n",
       "<span> grammatical number</span>\n",
       "\n",
       "</div>\n",
       "\n",
       "<div class=\"frow\">\n",
       "    <div class=\"fnamecat \">\n",
       "<a target=\"_blank\" href=\"https://github.com/ETCBC/nestle1904/blob/main/docs/transcription.md\" title=\"~/text-fabric-data/github/ETCBC/nestle1904/tf/0.4.0/otype.tf\">otype</a>\n",
       "</div>\n",
       "<div class=\"fmono\">str</div>\n",
       "\n",
       "<span> </span>\n",
       "\n",
       "</div>\n",
       "\n",
       "<div class=\"frow\">\n",
       "    <div class=\"fnamecat \">\n",
       "<a target=\"_blank\" href=\"https://github.com/ETCBC/nestle1904/blob/main/docs/transcription.md\" title=\"~/text-fabric-data/github/ETCBC/nestle1904/tf/0.4.0/person.tf\">person</a>\n",
       "</div>\n",
       "<div class=\"fmono\">str</div>\n",
       "\n",
       "<span> grammatical person</span>\n",
       "\n",
       "</div>\n",
       "\n",
       "<div class=\"frow\">\n",
       "    <div class=\"fnamecat \">\n",
       "<a target=\"_blank\" href=\"https://github.com/ETCBC/nestle1904/blob/main/docs/transcription.md\" title=\"~/text-fabric-data/github/ETCBC/nestle1904/tf/0.4.0/ref.tf\">ref</a>\n",
       "</div>\n",
       "<div class=\"fmono\">str</div>\n",
       "\n",
       "<span> biblical reference with word counting</span>\n",
       "\n",
       "</div>\n",
       "\n",
       "<div class=\"frow\">\n",
       "    <div class=\"fnamecat \">\n",
       "<a target=\"_blank\" href=\"https://github.com/ETCBC/nestle1904/blob/main/docs/transcription.md\" title=\"~/text-fabric-data/github/ETCBC/nestle1904/tf/0.4.0/referent.tf\">referent</a>\n",
       "</div>\n",
       "<div class=\"fmono\">str</div>\n",
       "\n",
       "<span> number of referent</span>\n",
       "\n",
       "</div>\n",
       "\n",
       "<div class=\"frow\">\n",
       "    <div class=\"fnamecat \">\n",
       "<a target=\"_blank\" href=\"https://github.com/ETCBC/nestle1904/blob/main/docs/transcription.md\" title=\"~/text-fabric-data/github/ETCBC/nestle1904/tf/0.4.0/role.tf\">role</a>\n",
       "</div>\n",
       "<div class=\"fmono\">str</div>\n",
       "\n",
       "<span> role of word or wordgroup</span>\n",
       "\n",
       "</div>\n",
       "\n",
       "<div class=\"frow\">\n",
       "    <div class=\"fnamecat \">\n",
       "<a target=\"_blank\" href=\"https://github.com/ETCBC/nestle1904/blob/main/docs/transcription.md\" title=\"~/text-fabric-data/github/ETCBC/nestle1904/tf/0.4.0/rule.tf\">rule</a>\n",
       "</div>\n",
       "<div class=\"fmono\">str</div>\n",
       "\n",
       "<span> syntactical rule</span>\n",
       "\n",
       "</div>\n",
       "\n",
       "<div class=\"frow\">\n",
       "    <div class=\"fnamecat \">\n",
       "<a target=\"_blank\" href=\"https://github.com/ETCBC/nestle1904/blob/main/docs/transcription.md\" title=\"~/text-fabric-data/github/ETCBC/nestle1904/tf/0.4.0/strong.tf\">strong</a>\n",
       "</div>\n",
       "<div class=\"fmono\">int</div>\n",
       "\n",
       "<span> strong number</span>\n",
       "\n",
       "</div>\n",
       "\n",
       "<div class=\"frow\">\n",
       "    <div class=\"fnamecat \">\n",
       "<a target=\"_blank\" href=\"https://github.com/ETCBC/nestle1904/blob/main/docs/transcription.md\" title=\"~/text-fabric-data/github/ETCBC/nestle1904/tf/0.4.0/subjrefspec.tf\">subjrefspec</a>\n",
       "</div>\n",
       "<div class=\"fmono\">str</div>\n",
       "\n",
       "<span> subject referent</span>\n",
       "\n",
       "</div>\n",
       "\n",
       "<div class=\"frow\">\n",
       "    <div class=\"fnamecat \">\n",
       "<a target=\"_blank\" href=\"https://github.com/ETCBC/nestle1904/blob/main/docs/transcription.md\" title=\"~/text-fabric-data/github/ETCBC/nestle1904/tf/0.4.0/tense.tf\">tense</a>\n",
       "</div>\n",
       "<div class=\"fmono\">str</div>\n",
       "\n",
       "<span> verbal tense</span>\n",
       "\n",
       "</div>\n",
       "\n",
       "<div class=\"frow\">\n",
       "    <div class=\"fnamecat \">\n",
       "<a target=\"_blank\" href=\"https://github.com/ETCBC/nestle1904/blob/main/docs/transcription.md\" title=\"~/text-fabric-data/github/ETCBC/nestle1904/tf/0.4.0/text.tf\">text</a>\n",
       "</div>\n",
       "<div class=\"fmono\">str</div>\n",
       "\n",
       "<span> the text of a word</span>\n",
       "\n",
       "</div>\n",
       "\n",
       "<div class=\"frow\">\n",
       "    <div class=\"fnamecat \">\n",
       "<a target=\"_blank\" href=\"https://github.com/ETCBC/nestle1904/blob/main/docs/transcription.md\" title=\"~/text-fabric-data/github/ETCBC/nestle1904/tf/0.4.0/type.tf\">type</a>\n",
       "</div>\n",
       "<div class=\"fmono\">str</div>\n",
       "\n",
       "<span> type of (pro)noun (on w); type of word group (on wg)</span>\n",
       "\n",
       "</div>\n",
       "\n",
       "<div class=\"frow\">\n",
       "    <div class=\"fnamecat \">\n",
       "<a target=\"_blank\" href=\"https://github.com/ETCBC/nestle1904/blob/main/docs/transcription.md\" title=\"~/text-fabric-data/github/ETCBC/nestle1904/tf/0.4.0/unicode.tf\">unicode</a>\n",
       "</div>\n",
       "<div class=\"fmono\">str</div>\n",
       "\n",
       "<span> surface greek form of the word in unicode, contains material after it</span>\n",
       "\n",
       "</div>\n",
       "\n",
       "<div class=\"frow\">\n",
       "    <div class=\"fnamecat \">\n",
       "<a target=\"_blank\" href=\"https://github.com/ETCBC/nestle1904/blob/main/docs/transcription.md\" title=\"~/text-fabric-data/github/ETCBC/nestle1904/tf/0.4.0/verse.tf\">verse</a>\n",
       "</div>\n",
       "<div class=\"fmono\">int</div>\n",
       "\n",
       "<span> verse number, from ref attribute in xml</span>\n",
       "\n",
       "</div>\n",
       "\n",
       "<div class=\"frow\">\n",
       "    <div class=\"fnamecat \">\n",
       "<a target=\"_blank\" href=\"https://github.com/ETCBC/nestle1904/blob/main/docs/transcription.md\" title=\"~/text-fabric-data/github/ETCBC/nestle1904/tf/0.4.0/voice.tf\">voice</a>\n",
       "</div>\n",
       "<div class=\"fmono\">str</div>\n",
       "\n",
       "<span> verbal voice</span>\n",
       "\n",
       "</div>\n",
       "\n",
       "<div class=\"frow\">\n",
       "    <div class=\"fnamecat edge\">\n",
       "<a target=\"_blank\" href=\"https://github.com/ETCBC/nestle1904/blob/main/docs/transcription.md\" title=\"~/text-fabric-data/github/ETCBC/nestle1904/tf/0.4.0/frame.tf\">frame</a>\n",
       "</div>\n",
       "<div class=\"fmono\">str</div>\n",
       "\n",
       "<span> links to nodes that are part of the frame; labelled as A0, A1 etc.</span>\n",
       "\n",
       "</div>\n",
       "\n",
       "<div class=\"frow\">\n",
       "    <div class=\"fnamecat edge\">\n",
       "<a target=\"_blank\" href=\"https://github.com/ETCBC/nestle1904/blob/main/docs/transcription.md\" title=\"~/text-fabric-data/github/ETCBC/nestle1904/tf/0.4.0/oslots.tf\">oslots</a>\n",
       "</div>\n",
       "<div class=\"fmono\">none</div>\n",
       "\n",
       "<span> </span>\n",
       "\n",
       "</div>\n",
       "\n",
       "<div class=\"frow\">\n",
       "    <div class=\"fnamecat edge\">\n",
       "<a target=\"_blank\" href=\"https://github.com/ETCBC/nestle1904/blob/main/docs/transcription.md\" title=\"~/text-fabric-data/github/ETCBC/nestle1904/tf/0.4.0/parent.tf\">parent</a>\n",
       "</div>\n",
       "<div class=\"fmono\">none</div>\n",
       "\n",
       "<span> edge between a node and its parent node</span>\n",
       "\n",
       "</div>\n",
       "\n",
       "<div class=\"frow\">\n",
       "    <div class=\"fnamecat edge\">\n",
       "<a target=\"_blank\" href=\"https://github.com/ETCBC/nestle1904/blob/main/docs/transcription.md\" title=\"~/text-fabric-data/github/ETCBC/nestle1904/tf/0.4.0/sibling.tf\">sibling</a>\n",
       "</div>\n",
       "<div class=\"fmono\">int</div>\n",
       "\n",
       "<span> edge between a node and its preceding sibling nodes;  labelled with the distance between them</span>\n",
       "\n",
       "</div>\n",
       "\n",
       "<div class=\"frow\">\n",
       "    <div class=\"fnamecat edge\">\n",
       "<a target=\"_blank\" href=\"https://github.com/ETCBC/nestle1904/blob/main/docs/transcription.md\" title=\"~/text-fabric-data/github/ETCBC/nestle1904/tf/0.4.0/subjref.tf\">subjref</a>\n",
       "</div>\n",
       "<div class=\"fmono\">none</div>\n",
       "\n",
       "<span> links to the node that carries the subject</span>\n",
       "\n",
       "</div>\n",
       "\n",
       "    </div>\n",
       "</details>\n",
       "\n"
      ],
      "text/plain": [
       "<IPython.core.display.HTML object>"
      ]
     },
     "metadata": {},
     "output_type": "display_data"
    },
    {
     "data": {
      "text/html": [
       "<style>tr.tf.ltr, td.tf.ltr, th.tf.ltr { text-align: left ! important;}\n",
       "tr.tf.rtl, td.tf.rtl, th.tf.rtl { text-align: right ! important;}\n",
       "@font-face {\n",
       "  font-family: \"Gentium Plus\";\n",
       "  src: local('Gentium Plus'), local('GentiumPlus'),\n",
       "    url('/server/static/fonts/GentiumPlus-R.woff') format('woff'),\n",
       "    url('https://github.com/annotation/text-fabric/blob/master/tf/server/static/fonts/GentiumPlus-R.woff?raw=true') format('woff');\n",
       "}\n",
       "\n",
       "@font-face {\n",
       "  font-family: \"Ezra SIL\";\n",
       "  src: local('Ezra SIL'), local('EzraSIL'),\n",
       "    url('/server/static/fonts/SILEOT.woff') format('woff'),\n",
       "    url('https://github.com/annotation/text-fabric/blob/master/tf/server/static/fonts/SILEOT.woff?raw=true') format('woff');\n",
       "}\n",
       "\n",
       "@font-face {\n",
       "  font-family: \"SBL Hebrew\";\n",
       "  src: local('SBL Hebrew'), local('SBLHebrew'),\n",
       "    url('/server/static/fonts/SBL_Hbrw.woff') format('woff'),\n",
       "    url('https://github.com/annotation/text-fabric/blob/master/tf/server/static/fonts/SBL_Hbrw.woff?raw=true') format('woff');\n",
       "}\n",
       "\n",
       "@font-face {\n",
       "  font-family: \"Estrangelo Edessa\";\n",
       "  src: local('Estrangelo Edessa'), local('EstrangeloEdessa');\n",
       "    url('/server/static/fonts/SyrCOMEdessa.woff') format('woff'),\n",
       "    url('https://github.com/annotation/text-fabric/blob/master/tf/server/static/fonts/SyrCOMEdessa.woff?raw=true') format('woff');\n",
       "}\n",
       "\n",
       "@font-face {\n",
       "  font-family: AmiriQuran;\n",
       "  font-style: normal;\n",
       "  font-weight: 400;\n",
       "  src: local('Amiri Quran'), local('AmiriQuran'),\n",
       "    url('/server/static/fonts/AmiriQuran.woff') format('woff'),\n",
       "    url('https://github.com/annotation/text-fabric/blob/master/tf/server/static/fonts/AmiriQuran.woff?raw=true') format('woff');\n",
       "}\n",
       "\n",
       "@font-face {\n",
       "  font-family: AmiriQuranColored;\n",
       "  font-style: normal;\n",
       "  font-weight: 400;\n",
       "  src: local('Amiri Quran Colored'), local('AmiriQuranColored'),\n",
       "    url('/server/static/fonts/AmiriQuranColored.woff') format('woff'),\n",
       "    url('https://github.com/annotation/text-fabric/blob/master/tf/server/static/fonts/AmiriQuranColored.woff?raw=true') format('woff');\n",
       "}\n",
       "\n",
       "@font-face {\n",
       "  font-family: \"Santakku\";\n",
       "  src: local('Santakku'),\n",
       "    url('/server/static/fonts/Santakku.woff') format('woff'),\n",
       "    url('https://github.com/annotation/text-fabric/blob/master/tf/server/static/fonts/Santakku.woff?raw=true') format('woff');\n",
       "}\n",
       "\n",
       "@font-face {\n",
       "  font-family: \"SantakkuM\";\n",
       "  src: local('SantakkuM'),\n",
       "    url('/server/static/fonts/SantakkuM.woff') format('woff'),\n",
       "    url('https://github.com/annotation/text-fabric/blob/master/tf/server/static/fonts/SantakkuM.woff?raw=true') format('woff');\n",
       "}\n",
       "/* bypassing some classical notebook settings */\n",
       "div#notebook {\n",
       "  line-height: unset;\n",
       "}\n",
       "/* neutral text */\n",
       ".txtn,.txtn a:visited,.txtn a:link {\n",
       "    font-family: sans-serif;\n",
       "    font-size: medium;\n",
       "    direction: ltr;\n",
       "    unicode-bidi: embed;\n",
       "    text-decoration: none;\n",
       "    color: var(--text-color);\n",
       "}\n",
       "/* transcription text */\n",
       ".txtt,.txtt a:visited,.txtt a:link {\n",
       "    font-family: monospace;\n",
       "    font-size: medium;\n",
       "    direction: ltr;\n",
       "    unicode-bidi: embed;\n",
       "    text-decoration: none;\n",
       "    color: var(--text-color);\n",
       "}\n",
       "/* source text */\n",
       ".txto,.txto a:visited,.txto a:link {\n",
       "    font-family: serif;\n",
       "    font-size: medium;\n",
       "    direction: ltr;\n",
       "    unicode-bidi: embed;\n",
       "    text-decoration: none;\n",
       "    color: var(--text-color);\n",
       "}\n",
       "/* phonetic text */\n",
       ".txtp,.txtp a:visited,.txtp a:link {\n",
       "    font-family: Gentium, sans-serif;\n",
       "    font-size: medium;\n",
       "    direction: ltr;\n",
       "    unicode-bidi: embed;\n",
       "    text-decoration: none;\n",
       "    color: var(--text-color);\n",
       "}\n",
       "/* original script text */\n",
       ".txtu,.txtu a:visited,.txtu a:link {\n",
       "    font-family: Gentium, sans-serif;\n",
       "    font-size: medium;\n",
       "    text-decoration: none;\n",
       "    color: var(--text-color);\n",
       "}\n",
       "/* hebrew */\n",
       ".txtu.hbo,.lex.hbo {\n",
       "    font-family: \"Ezra SIL\", \"SBL Hebrew\", sans-serif;\n",
       "    font-size: large;\n",
       "    direction: rtl ! important;\n",
       "    unicode-bidi: embed;\n",
       "}\n",
       "/* syriac */\n",
       ".txtu.syc,.lex.syc {\n",
       "    font-family: \"Estrangelo Edessa\", sans-serif;\n",
       "    font-size: medium;\n",
       "    direction: rtl ! important;\n",
       "    unicode-bidi: embed;\n",
       "}\n",
       "/* neo aramaic */\n",
       ".txtu.cld,.lex.cld {\n",
       "    font-family: \"CharisSIL-R\", sans-serif;\n",
       "    font-size: medium;\n",
       "    direction: ltr ! important;\n",
       "    unicode-bidi: embed;\n",
       "}\n",
       "/* standard arabic */\n",
       ".txtu.ara,.lex.ara {\n",
       "    font-family: \"AmiriQuran\", sans-serif;\n",
       "    font-size: large;\n",
       "    direction: rtl ! important;\n",
       "    unicode-bidi: embed;\n",
       "}\n",
       "/* cuneiform */\n",
       ".txtu.akk,.lex.akk {\n",
       "    font-family: Santakku, sans-serif;\n",
       "    font-size: large;\n",
       "    direction: ltr ! important;\n",
       "    unicode-bidi: embed;\n",
       "}\n",
       "/* greek */\n",
       ".txtu.grc,.lex.grc a:link {\n",
       "    font-family: Gentium, sans-serif;\n",
       "    font-size: medium;\n",
       "    direction: ltr ! important;\n",
       "    unicode-bidi: embed;\n",
       "}\n",
       "a:hover {\n",
       "    text-decoration: underline | important;\n",
       "    color: #0000ff | important;\n",
       "}\n",
       ".ltr {\n",
       "    direction: ltr ! important;\n",
       "    unicode-bidi: embed;\n",
       "}\n",
       ".rtl {\n",
       "    direction: rtl ! important;\n",
       "    unicode-bidi: embed;\n",
       "}\n",
       ".ubd {\n",
       "    unicode-bidi: embed;\n",
       "}\n",
       ".col {\n",
       "   display: inline-block;\n",
       "}\n",
       ".features {\n",
       "    font-family: monospace;\n",
       "    font-size: medium;\n",
       "    font-weight: bold;\n",
       "    color: var(--features);\n",
       "    display: flex;\n",
       "    flex-flow: column nowrap;\n",
       "    justify-content: flex-start;\n",
       "    align-items: flex-start;\n",
       "    align-content: flex-start;\n",
       "    padding: 2px;\n",
       "    margin: 2px;\n",
       "    direction: ltr;\n",
       "    unicode-bidi: embed;\n",
       "    border: var(--meta-width) solid var(--meta-color);\n",
       "    border-radius: var(--meta-width);\n",
       "}\n",
       ".features div,.features span {\n",
       "    padding: 0;\n",
       "    margin: -2px 0;\n",
       "}\n",
       ".features .f {\n",
       "    font-family: sans-serif;\n",
       "    font-size: small;\n",
       "    font-weight: normal;\n",
       "    color: #5555bb;\n",
       "}\n",
       ".features .xft {\n",
       "  color: #000000;\n",
       "  background-color: #eeeeee;\n",
       "  font-size: medium;\n",
       "  margin: 2px 0px;\n",
       "}\n",
       ".features .xft .f {\n",
       "  color: #000000;\n",
       "  background-color: #eeeeee;\n",
       "  font-size: small;\n",
       "  font-weight: normal;\n",
       "}\n",
       ".tfsechead {\n",
       "    font-family: sans-serif;\n",
       "    font-size: small;\n",
       "    font-weight: bold;\n",
       "    color: var(--tfsechead);\n",
       "    unicode-bidi: embed;\n",
       "    text-align: start;\n",
       "}\n",
       ".structure {\n",
       "    font-family: sans-serif;\n",
       "    font-size: small;\n",
       "    font-weight: bold;\n",
       "    color: var(--structure);\n",
       "    unicode-bidi: embed;\n",
       "    text-align: start;\n",
       "}\n",
       ".comments {\n",
       "    display: flex;\n",
       "    justify-content: flex-start;\n",
       "    align-items: flex-start;\n",
       "    align-content: flex-start;\n",
       "    flex-flow: column nowrap;\n",
       "}\n",
       ".nd, a:link.nd {\n",
       "    font-family: sans-serif;\n",
       "    font-size: small;\n",
       "    color: var(--node);\n",
       "    vertical-align: super;\n",
       "    direction: ltr ! important;\n",
       "    unicode-bidi: embed;\n",
       "}\n",
       ".lex {\n",
       "  color: var(--lex-color);;\n",
       "}\n",
       ".children,.children.ltr {\n",
       "    display: flex;\n",
       "    border: 0;\n",
       "    background-color: #ffffff;\n",
       "    justify-content: flex-start;\n",
       "    align-items: flex-start;\n",
       "    align-content: flex-start;\n",
       "}\n",
       ".children.stretch {\n",
       "    align-items: stretch;\n",
       "}\n",
       ".children.hor {\n",
       "    flex-flow: row nowrap;\n",
       "}\n",
       ".children.hor.wrap {\n",
       "    flex-flow: row wrap;\n",
       "}\n",
       ".children.ver {\n",
       "    flex-flow: column nowrap;\n",
       "}\n",
       ".children.ver.wrap {\n",
       "    flex-flow: column wrap;\n",
       "}\n",
       ".contnr {\n",
       "    width: fit-content;\n",
       "    display: flex;\n",
       "    justify-content: flex-start;\n",
       "    align-items: flex-start;\n",
       "    align-content: flex-start;\n",
       "    flex-flow: column nowrap;\n",
       "    background: #ffffff none repeat scroll 0 0;\n",
       "    padding:  10px 2px 2px 2px;\n",
       "    margin: 16px 2px 2px 2px;\n",
       "    border-style: solid;\n",
       "    font-size: small;\n",
       "}\n",
       ".contnr.trm {\n",
       "    background-attachment: local;\n",
       "}\n",
       ".contnr.cnul {\n",
       "    padding:  0;\n",
       "    margin: 0;\n",
       "    border-style: solid;\n",
       "    font-size: xx-small;\n",
       "}\n",
       ".contnr.cnul,.lbl.cnul {\n",
       "    border-color: var(--border-color-nul);\n",
       "    border-width: var(--border-width-nul);\n",
       "    border-radius: var(--border-width-nul);\n",
       "}\n",
       ".contnr.c0,.lbl.c0 {\n",
       "    border-color: var(--border-color0);\n",
       "    border-width: var(--border-width0);\n",
       "    border-radius: var(--border-width0);\n",
       "}\n",
       ".contnr.c1,.lbl.c1 {\n",
       "    border-color: var(--border-color1);\n",
       "    border-width: var(--border-width1);\n",
       "    border-radius: var(--border-width1);\n",
       "}\n",
       ".contnr.c2,.lbl.c2 {\n",
       "    border-color: var(--border-color2);\n",
       "    border-width: var(--border-width2);\n",
       "    border-radius: var(--border-width2);\n",
       "}\n",
       ".contnr.c3,.lbl.c3 {\n",
       "    border-color: var(--border-color3);\n",
       "    border-width: var(--border-width3);\n",
       "    border-radius: var(--border-width3);\n",
       "}\n",
       ".contnr.c4,.lbl.c4 {\n",
       "    border-color: var(--border-color4);\n",
       "    border-width: var(--border-width4);\n",
       "    border-radius: var(--border-width4);\n",
       "}\n",
       "span.plain {\n",
       "    /*display: inline-block;*/\n",
       "    display: inline-flex;\n",
       "    flex-flow: row wrap;\n",
       "    white-space: pre-wrap;\n",
       "}\n",
       "span.break {\n",
       "  flex-basis: 100%;\n",
       "  height: 0;\n",
       "}\n",
       ".plain {\n",
       "    background-color: #ffffff;\n",
       "}\n",
       ".plain.l,.contnr.l,.contnr.l>.lbl {\n",
       "    border-left-style: dotted\n",
       "}\n",
       ".plain.r,.contnr.r,.contnr.r>.lbl {\n",
       "    border-right-style: dotted\n",
       "}\n",
       ".plain.lno,.contnr.lno,.contnr.lno>.lbl {\n",
       "    border-left-style: none\n",
       "}\n",
       ".plain.rno,.contnr.rno,.contnr.rno>.lbl {\n",
       "    border-right-style: none\n",
       "}\n",
       ".plain.l {\n",
       "    padding-left: 4px;\n",
       "    margin-left: 2px;\n",
       "    border-width: var(--border-width-plain);\n",
       "}\n",
       ".plain.r {\n",
       "    padding-right: 4px;\n",
       "    margin-right: 2px;\n",
       "    border-width: var(--border-width-plain);\n",
       "}\n",
       ".lbl {\n",
       "    font-family: monospace;\n",
       "    margin-top: -24px;\n",
       "    margin-left: 20px;\n",
       "    background: #ffffff none repeat scroll 0 0;\n",
       "    padding: 0 6px;\n",
       "    border-style: solid;\n",
       "    display: block;\n",
       "    color: var(--label)\n",
       "}\n",
       ".lbl.trm {\n",
       "    background-attachment: local;\n",
       "    margin-top: 2px;\n",
       "    margin-left: 2px;\n",
       "    padding: 2px 2px;\n",
       "    border-style: none;\n",
       "}\n",
       ".lbl.cnul {\n",
       "    font-size: xx-small;\n",
       "}\n",
       ".lbl.c0 {\n",
       "    font-size: small;\n",
       "}\n",
       ".lbl.c1 {\n",
       "    font-size: small;\n",
       "}\n",
       ".lbl.c2 {\n",
       "    font-size: medium;\n",
       "}\n",
       ".lbl.c3 {\n",
       "    font-size: medium;\n",
       "}\n",
       ".lbl.c4 {\n",
       "    font-size: large;\n",
       "}\n",
       ".occs, a:link.occs {\n",
       "    font-size: small;\n",
       "}\n",
       "\n",
       "/* PROVENANCE */\n",
       "\n",
       "div.prov {\n",
       "\tmargin: 40px;\n",
       "\tpadding: 20px;\n",
       "\tborder: 2px solid var(--fog-rim);\n",
       "}\n",
       "div.pline {\n",
       "\tdisplay: flex;\n",
       "\tflex-flow: row nowrap;\n",
       "\tjustify-content: stretch;\n",
       "\talign-items: baseline;\n",
       "}\n",
       "div.p2line {\n",
       "\tmargin-left: 2em;\n",
       "\tdisplay: flex;\n",
       "\tflex-flow: row nowrap;\n",
       "\tjustify-content: stretch;\n",
       "\talign-items: baseline;\n",
       "}\n",
       "div.psline {\n",
       "\tdisplay: flex;\n",
       "\tflex-flow: row nowrap;\n",
       "\tjustify-content: stretch;\n",
       "\talign-items: baseline;\n",
       "\tbackground-color: var(--gold-mist-back);\n",
       "}\n",
       "div.pname {\n",
       "\tflex: 0 0 5rem;\n",
       "\tfont-weight: bold;\n",
       "}\n",
       "div.pval {\n",
       "    flex: 1 1 auto;\n",
       "}\n",
       "\n",
       "/* KEYBOARD */\n",
       ".ccoff {\n",
       "  background-color: inherit;\n",
       "}\n",
       ".ccon {\n",
       "  background-color: yellow ! important;\n",
       "}\n",
       ".ccon,.ccoff {\n",
       "  padding: 0.2rem;\n",
       "  margin: 0.2rem;\n",
       "  border: 0.1rem solid var(--letter-box-border);\n",
       "  border-radius: 0.1rem;\n",
       "}\n",
       ".ccline {\n",
       "  font-size: xx-large ! important;\n",
       "  font-weight: bold;\n",
       "  line-height: 2em ! important;\n",
       "}\n",
       "/* TF header */\n",
       "\n",
       "summary {\n",
       "  /* needed to override the normalize.less\n",
       "   * in the classical jupyter notebook\n",
       "   */\n",
       "  display: list-item ! important;\n",
       "}\n",
       "\n",
       ".fcorpus {\n",
       "  display: flex;\n",
       "  flex-flow: column nowrap;\n",
       "  justify-content: flex-start;\n",
       "  align-items: flex-start;\n",
       "  align-content: flex-start;\n",
       "}\n",
       ".frow {\n",
       "  display: flex;\n",
       "  flex-flow: row nowrap;\n",
       "  justify-content: flex-start;\n",
       "  align-items: flex-start;\n",
       "  align-content: flex-start;\n",
       "}\n",
       ".fmeta {\n",
       "  display: flex;\n",
       "  flex-flow: column nowrap;\n",
       "  justify-content: flex-start;\n",
       "  align-items: flex-start;\n",
       "  align-content: flex-start;\n",
       "}\n",
       ".fmetarow {\n",
       "  display: flex;\n",
       "  flex-flow: row nowrap;\n",
       "  justify-content: flex-start;\n",
       "  align-items: flex-start;\n",
       "  align-content: flex-start;\n",
       "}\n",
       ".fmetakey {\n",
       "  min-width: 8em;\n",
       "  font-family: monospace;\n",
       "}\n",
       ".fnamecat {\n",
       "  min-width: 8em;\n",
       "}\n",
       ".fnamecat.edge {\n",
       "  font-weight: bold;\n",
       "  font-style: italic;\n",
       "}\n",
       ".fmono {\n",
       "    font-family: monospace;\n",
       "}\n",
       "\n",
       ":root {\n",
       "\t--node:               hsla(120, 100%,  20%, 1.0  );\n",
       "\t--label:              hsla(  0, 100%,  20%, 1.0  );\n",
       "\t--tfsechead:          hsla(  0, 100%,  25%, 1.0  );\n",
       "\t--structure:          hsla(120, 100%,  25%, 1.0  );\n",
       "\t--features:           hsla(  0,   0%,  30%, 1.0  );\n",
       "  --text-color:         hsla( 60,  80%,  10%, 1.0  );\n",
       "  --lex-color:          hsla(220,  90%,  60%, 1.0  );\n",
       "  --meta-color:         hsla(  0,   0%,  90%, 0.7  );\n",
       "  --meta-width:         3px;\n",
       "  --border-color-nul:   hsla(  0,   0%,  90%, 0.5  );\n",
       "  --border-color0:      hsla(  0,   0%,  90%, 0.9  );\n",
       "  --border-color1:      hsla(  0,   0%,  80%, 0.9  );\n",
       "  --border-color2:      hsla(  0,   0%,  70%, 0.9  );\n",
       "  --border-color3:      hsla(  0,   0%,  80%, 0.8  );\n",
       "  --border-color4:      hsla(  0,   0%,  60%, 0.9  );\n",
       "\t--letter-box-border:  hsla(  0,   0%,  80%, 0.5  );\n",
       "  --border-width-nul:   2px;\n",
       "  --border-width0:      2px;\n",
       "  --border-width1:      3px;\n",
       "  --border-width2:      4px;\n",
       "  --border-width3:      6px;\n",
       "  --border-width4:      5px;\n",
       "  --border-width-plain: 2px;\n",
       "}\n",
       ".hl {\n",
       "  background-color: var(--hl-strong);\n",
       "}\n",
       "span.hl {\n",
       "\tbackground-color: var(--hl-strong);\n",
       "\tborder-width: 0;\n",
       "\tborder-radius: 2px;\n",
       "\tborder-style: solid;\n",
       "}\n",
       "div.contnr.hl,div.lbl.hl {\n",
       "  background-color: var(--hl-strong);\n",
       "}\n",
       "div.contnr.hl {\n",
       "  border-color: var(--hl-rim) ! important;\n",
       "\tborder-width: 4px ! important;\n",
       "}\n",
       "\n",
       "span.hlbx {\n",
       "\tborder-color: var(--hl-rim);\n",
       "\tborder-width: 4px ! important;\n",
       "\tborder-style: solid;\n",
       "\tborder-radius: 6px;\n",
       "  padding: 4px;\n",
       "  margin: 4px;\n",
       "}\n",
       "\n",
       ":root {\n",
       "\t--hl-strong:        hsla( 60, 100%,  70%, 0.9  );\n",
       "\t--hl-rim:           hsla( 55,  80%,  50%, 1.0  );\n",
       "}\n",
       "</style>"
      ],
      "text/plain": [
       "<IPython.core.display.HTML object>"
      ]
     },
     "metadata": {},
     "output_type": "display_data"
    },
    {
     "data": {
      "text/html": [
       "\n",
       "<script>\n",
       "globalThis.copyChar = (el, c) => {\n",
       "    for (const el of document.getElementsByClassName('ccon')) {\n",
       "        el.className = 'ccoff'\n",
       "    }\n",
       "    el.className = 'ccon'\n",
       "    navigator.clipboard.writeText(String.fromCharCode(c))\n",
       "}\n",
       "</script>\n"
      ],
      "text/plain": [
       "<IPython.core.display.HTML object>"
      ]
     },
     "metadata": {},
     "output_type": "display_data"
    },
    {
     "data": {
      "text/html": [
       "<div><b>Text-Fabric API:</b> names <a target=\"_blank\" href=\"https://annotation.github.io/text-fabric/tf/cheatsheet.html\" title=\"doc\">N F E L T S C TF</a> directly usable</div><hr>"
      ],
      "text/plain": [
       "<IPython.core.display.HTML object>"
      ]
     },
     "metadata": {},
     "output_type": "display_data"
    },
    {
     "data": {
      "text/markdown": [
       "**Locating corpus resources ...**"
      ],
      "text/plain": [
       "<IPython.core.display.Markdown object>"
      ]
     },
     "metadata": {},
     "output_type": "display_data"
    },
    {
     "name": "stdout",
     "output_type": "stream",
     "text": [
      "The requested app is not available offline\n",
      "\t~/text-fabric-data/github/saulocantanhede/tfgreek2/programs/app not found\n"
     ]
    },
    {
     "data": {
      "text/html": [
       "Status: latest release online <b>releases</b> versus <b>None</b> locally"
      ],
      "text/plain": [
       "<IPython.core.display.HTML object>"
      ]
     },
     "metadata": {},
     "output_type": "display_data"
    },
    {
     "data": {
      "text/html": [
       "downloading app, main data and requested additions ..."
      ],
      "text/plain": [
       "<IPython.core.display.HTML object>"
      ]
     },
     "metadata": {},
     "output_type": "display_data"
    },
    {
     "name": "stderr",
     "output_type": "stream",
     "text": [
      "File is not a zip file\n",
      "\tcould not save corpus data to ~/text-fabric-data/github"
     ]
    },
    {
     "name": "stdout",
     "output_type": "stream",
     "text": [
      "rate limit is 5000 requests per hour, with 5000 left for this hour\n",
      "\tconnecting to online GitHub repo saulocantanhede/tfgreek2 ... connected\n",
      "\tcannot find releases\n",
      "\tcannot find releases\n",
      "\tprograms/app/config.yaml...downloaded\n",
      "\tprograms/app/config_orig.yaml...downloaded\n",
      "\tprograms/app/static...directory\n",
      "\t\tprograms/app/static/display.css...downloaded\n",
      "\t\tprograms/app/static/display_orig.css...downloaded\n",
      "\t\tprograms/app/static/logo.png...downloaded\n",
      "\tOK\n"
     ]
    },
    {
     "data": {
      "text/html": [
       "<b title=\"latest commit\">app:</b> <span title=\"#b3ac59db1c4fcc91ab0d59af2e4d75bf2c3b09d9\">~/text-fabric-data/github/saulocantanhede/tfgreek2/programs/app</span>"
      ],
      "text/plain": [
       "<IPython.core.display.HTML object>"
      ]
     },
     "metadata": {},
     "output_type": "display_data"
    },
    {
     "name": "stdout",
     "output_type": "stream",
     "text": [
      "The requested data is not available offline\n",
      "\t~/text-fabric-data/github/saulocantanhede/tfgreek2/programs/tf/0.5.0 not found\n"
     ]
    },
    {
     "data": {
      "text/html": [
       "Status: latest release online <b>releases</b> versus <b>None</b> locally"
      ],
      "text/plain": [
       "<IPython.core.display.HTML object>"
      ]
     },
     "metadata": {},
     "output_type": "display_data"
    },
    {
     "data": {
      "text/html": [
       "downloading app, main data and requested additions ..."
      ],
      "text/plain": [
       "<IPython.core.display.HTML object>"
      ]
     },
     "metadata": {},
     "output_type": "display_data"
    },
    {
     "name": "stderr",
     "output_type": "stream",
     "text": [
      "File is not a zip file\n",
      "\tcould not save corpus data to ~/text-fabric-data/github"
     ]
    },
    {
     "name": "stdout",
     "output_type": "stream",
     "text": [
      "rate limit is 5000 requests per hour, with 4986 left for this hour\n",
      "\tconnecting to online GitHub repo saulocantanhede/tfgreek2 ... connected\n",
      "\tcannot find releases\n",
      "\tcannot find releases\n",
      "\tprograms/tf/0.5.0/after.tf...downloaded\n",
      "\tprograms/tf/0.5.0/appositioncontainer.tf...downloaded\n",
      "\tprograms/tf/0.5.0/articular.tf...downloaded\n",
      "\tprograms/tf/0.5.0/book.tf...downloaded\n",
      "\tprograms/tf/0.5.0/book_short.tf...downloaded\n",
      "\tprograms/tf/0.5.0/case.tf...downloaded\n",
      "\tprograms/tf/0.5.0/chapter.tf...downloaded\n",
      "\tprograms/tf/0.5.0/clauseType.tf...downloaded\n",
      "\tprograms/tf/0.5.0/cls.tf...downloaded\n",
      "\tprograms/tf/0.5.0/cltype.tf...downloaded\n",
      "\tprograms/tf/0.5.0/crule.tf...downloaded\n",
      "\tprograms/tf/0.5.0/degree.tf...downloaded\n",
      "\tprograms/tf/0.5.0/discontinuous.tf...downloaded\n",
      "\tprograms/tf/0.5.0/domain.tf...downloaded\n",
      "\tprograms/tf/0.5.0/frame.tf...downloaded\n",
      "\tprograms/tf/0.5.0/framespec.tf...downloaded\n",
      "\tprograms/tf/0.5.0/function.tf...downloaded\n",
      "\tprograms/tf/0.5.0/gender.tf...downloaded\n",
      "\tprograms/tf/0.5.0/gloss.tf...downloaded\n",
      "\tprograms/tf/0.5.0/id.tf...downloaded\n",
      "\tprograms/tf/0.5.0/junction.tf...downloaded\n",
      "\tprograms/tf/0.5.0/lang.tf...downloaded\n",
      "\tprograms/tf/0.5.0/lemma.tf...downloaded\n",
      "\tprograms/tf/0.5.0/ln.tf...downloaded\n",
      "\tprograms/tf/0.5.0/mood.tf...downloaded\n",
      "\tprograms/tf/0.5.0/morph.tf...downloaded\n",
      "\tprograms/tf/0.5.0/nodeId.tf...downloaded\n",
      "\tprograms/tf/0.5.0/normalized.tf...downloaded\n",
      "\tprograms/tf/0.5.0/note.tf...downloaded\n",
      "\tprograms/tf/0.5.0/num.tf...downloaded\n",
      "\tprograms/tf/0.5.0/number.tf...downloaded\n",
      "\tprograms/tf/0.5.0/oslots.tf...downloaded\n",
      "\tprograms/tf/0.5.0/otext.tf...downloaded\n",
      "\tprograms/tf/0.5.0/otype.tf...downloaded\n",
      "\tprograms/tf/0.5.0/parent.tf...downloaded\n",
      "\tprograms/tf/0.5.0/person.tf...downloaded\n",
      "\tprograms/tf/0.5.0/ref.tf...downloaded\n",
      "\tprograms/tf/0.5.0/referent.tf...downloaded\n",
      "\tprograms/tf/0.5.0/rela.tf...downloaded\n",
      "\tprograms/tf/0.5.0/role.tf...downloaded\n",
      "\tprograms/tf/0.5.0/rule.tf...downloaded\n",
      "\tprograms/tf/0.5.0/sibling.tf...downloaded\n",
      "\tprograms/tf/0.5.0/strong.tf...downloaded\n",
      "\tprograms/tf/0.5.0/subjref.tf...downloaded\n",
      "\tprograms/tf/0.5.0/subjrefspec.tf...downloaded\n",
      "\tprograms/tf/0.5.0/tense.tf...downloaded\n",
      "\tprograms/tf/0.5.0/text.tf...downloaded\n",
      "\tprograms/tf/0.5.0/typ.tf...downloaded\n",
      "\tprograms/tf/0.5.0/type.tf...downloaded\n",
      "\tprograms/tf/0.5.0/unicode.tf...downloaded\n",
      "\tprograms/tf/0.5.0/verse.tf...downloaded\n",
      "\tprograms/tf/0.5.0/voice.tf...downloaded\n",
      "\tOK\n"
     ]
    },
    {
     "data": {
      "text/html": [
       "<b title=\"latest commit\">data:</b> <span title=\"#b3ac59db1c4fcc91ab0d59af2e4d75bf2c3b09d9\">~/text-fabric-data/github/saulocantanhede/tfgreek2/programs/tf/0.5.0</span>"
      ],
      "text/plain": [
       "<IPython.core.display.HTML object>"
      ]
     },
     "metadata": {},
     "output_type": "display_data"
    },
    {
     "name": "stdout",
     "output_type": "stream",
     "text": [
      "   |     1.39s T otype                from ~/text-fabric-data/github/saulocantanhede/tfgreek2/programs/tf/0.5.0\n",
      "   |       13s T oslots               from ~/text-fabric-data/github/saulocantanhede/tfgreek2/programs/tf/0.5.0\n",
      "   |     1.61s T text                 from ~/text-fabric-data/github/saulocantanhede/tfgreek2/programs/tf/0.5.0\n",
      "   |     1.72s T after                from ~/text-fabric-data/github/saulocantanhede/tfgreek2/programs/tf/0.5.0\n",
      "   |     2.12s T book                 from ~/text-fabric-data/github/saulocantanhede/tfgreek2/programs/tf/0.5.0\n",
      "   |     2.12s T chapter              from ~/text-fabric-data/github/saulocantanhede/tfgreek2/programs/tf/0.5.0\n",
      "   |     2.11s T verse                from ~/text-fabric-data/github/saulocantanhede/tfgreek2/programs/tf/0.5.0\n",
      "   |      |     0.32s C __levels__           from otype, oslots, otext\n",
      "   |      |     7.79s C __order__            from otype, oslots, __levels__\n",
      "   |      |     0.30s C __rank__             from otype, __order__\n",
      "   |      |       29s C __levUp__            from otype, oslots, __rank__\n",
      "   |      |       13s C __levDown__          from otype, __levUp__, __rank__\n",
      "   |      |     0.21s C __characters__       from otext\n",
      "   |      |     3.61s C __boundary__         from otype, oslots, __rank__\n",
      "   |      |     0.10s C __sections__         from otype, oslots, otext, __levUp__, __levels__, book, chapter, verse\n",
      "   |     0.01s T appositioncontainer  from ~/text-fabric-data/github/saulocantanhede/tfgreek2/programs/tf/0.5.0\n",
      "   |     0.78s T articular            from ~/text-fabric-data/github/saulocantanhede/tfgreek2/programs/tf/0.5.0\n",
      "   |     2.02s T book_short           from ~/text-fabric-data/github/saulocantanhede/tfgreek2/programs/tf/0.5.0\n",
      "   |     1.22s T case                 from ~/text-fabric-data/github/saulocantanhede/tfgreek2/programs/tf/0.5.0\n",
      "   |     0.16s T clauseType           from ~/text-fabric-data/github/saulocantanhede/tfgreek2/programs/tf/0.5.0\n",
      "   |     4.14s T cls                  from ~/text-fabric-data/github/saulocantanhede/tfgreek2/programs/tf/0.5.0\n",
      "   |     0.07s T cltype               from ~/text-fabric-data/github/saulocantanhede/tfgreek2/programs/tf/0.5.0\n",
      "   |     0.17s T crule                from ~/text-fabric-data/github/saulocantanhede/tfgreek2/programs/tf/0.5.0\n",
      "   |     0.02s T degree               from ~/text-fabric-data/github/saulocantanhede/tfgreek2/programs/tf/0.5.0\n",
      "   |     0.08s T discontinuous        from ~/text-fabric-data/github/saulocantanhede/tfgreek2/programs/tf/0.5.0\n",
      "   |     1.90s T domain               from ~/text-fabric-data/github/saulocantanhede/tfgreek2/programs/tf/0.5.0\n",
      "   |     1.32s T frame                from ~/text-fabric-data/github/saulocantanhede/tfgreek2/programs/tf/0.5.0\n",
      "   |     0.51s T framespec            from ~/text-fabric-data/github/saulocantanhede/tfgreek2/programs/tf/0.5.0\n",
      "   |     0.35s T function             from ~/text-fabric-data/github/saulocantanhede/tfgreek2/programs/tf/0.5.0\n",
      "   |     1.14s T gender               from ~/text-fabric-data/github/saulocantanhede/tfgreek2/programs/tf/0.5.0\n",
      "   |     2.19s T gloss                from ~/text-fabric-data/github/saulocantanhede/tfgreek2/programs/tf/0.5.0\n",
      "   |     2.50s T id                   from ~/text-fabric-data/github/saulocantanhede/tfgreek2/programs/tf/0.5.0\n",
      "   |     0.54s T junction             from ~/text-fabric-data/github/saulocantanhede/tfgreek2/programs/tf/0.5.0\n",
      "   |     0.00s T lang                 from ~/text-fabric-data/github/saulocantanhede/tfgreek2/programs/tf/0.5.0\n",
      "   |     2.22s T lemma                from ~/text-fabric-data/github/saulocantanhede/tfgreek2/programs/tf/0.5.0\n",
      "   |     2.06s T ln                   from ~/text-fabric-data/github/saulocantanhede/tfgreek2/programs/tf/0.5.0\n",
      "   |     0.49s T mood                 from ~/text-fabric-data/github/saulocantanhede/tfgreek2/programs/tf/0.5.0\n",
      "   |     2.10s T morph                from ~/text-fabric-data/github/saulocantanhede/tfgreek2/programs/tf/0.5.0\n",
      "   |     0.19s T nodeId               from ~/text-fabric-data/github/saulocantanhede/tfgreek2/programs/tf/0.5.0\n",
      "   |     2.60s T normalized           from ~/text-fabric-data/github/saulocantanhede/tfgreek2/programs/tf/0.5.0\n",
      "   |     0.00s T note                 from ~/text-fabric-data/github/saulocantanhede/tfgreek2/programs/tf/0.5.0\n",
      "   |     2.25s T num                  from ~/text-fabric-data/github/saulocantanhede/tfgreek2/programs/tf/0.5.0\n",
      "   |     1.78s T number               from ~/text-fabric-data/github/saulocantanhede/tfgreek2/programs/tf/0.5.0\n",
      "   |     6.24s T parent               from ~/text-fabric-data/github/saulocantanhede/tfgreek2/programs/tf/0.5.0\n",
      "   |     0.32s T person               from ~/text-fabric-data/github/saulocantanhede/tfgreek2/programs/tf/0.5.0\n",
      "   |     2.41s T ref                  from ~/text-fabric-data/github/saulocantanhede/tfgreek2/programs/tf/0.5.0\n",
      "   |     0.30s T referent             from ~/text-fabric-data/github/saulocantanhede/tfgreek2/programs/tf/0.5.0\n",
      "   |     0.02s T rela                 from ~/text-fabric-data/github/saulocantanhede/tfgreek2/programs/tf/0.5.0\n",
      "   |     1.60s T role                 from ~/text-fabric-data/github/saulocantanhede/tfgreek2/programs/tf/0.5.0\n",
      "   |     2.32s T rule                 from ~/text-fabric-data/github/saulocantanhede/tfgreek2/programs/tf/0.5.0\n",
      "   |     5.42s T sibling              from ~/text-fabric-data/github/saulocantanhede/tfgreek2/programs/tf/0.5.0\n",
      "   |     2.15s T strong               from ~/text-fabric-data/github/saulocantanhede/tfgreek2/programs/tf/0.5.0\n",
      "   |     0.65s T subjref              from ~/text-fabric-data/github/saulocantanhede/tfgreek2/programs/tf/0.5.0\n",
      "   |     0.31s T subjrefspec          from ~/text-fabric-data/github/saulocantanhede/tfgreek2/programs/tf/0.5.0\n",
      "   |     0.48s T tense                from ~/text-fabric-data/github/saulocantanhede/tfgreek2/programs/tf/0.5.0\n",
      "   |     1.21s T typ                  from ~/text-fabric-data/github/saulocantanhede/tfgreek2/programs/tf/0.5.0\n",
      "   |     2.42s T type                 from ~/text-fabric-data/github/saulocantanhede/tfgreek2/programs/tf/0.5.0\n",
      "   |     2.34s T unicode              from ~/text-fabric-data/github/saulocantanhede/tfgreek2/programs/tf/0.5.0\n",
      "   |     0.36s T voice                from ~/text-fabric-data/github/saulocantanhede/tfgreek2/programs/tf/0.5.0\n"
     ]
    },
    {
     "data": {
      "text/html": [
       "\n",
       "            <b>Text-Fabric:</b> <a target=\"_blank\" href=\"https://annotation.github.io/text-fabric/tf/cheatsheet.html\" title=\"text-fabric-api\">Text-Fabric API 11.4.13</a>, <a target=\"_blank\" href=\"https://github.com/saulocantanhede/tfgreek2/blob/main/app\" title=\"saulocantanhede/tfgreek2/programs app\">saulocantanhede/tfgreek2/app  v3</a>, <a target=\"_blank\" href=\"https://annotation.github.io/text-fabric/tf/about/searchusage.html\" title=\"Search Templates Introduction and Reference\">Search Reference</a><br>\n",
       "            <b>Data:</b> <a target=\"_blank\" href=\"https://github.com/saulocantanhede/tfgreek2/blob/main/docs/about.md\" title=\"provenance of saulocantanhede - tfgreek2/programs/tf\">saulocantanhede - tfgreek2 0.5.0</a>, <a target=\"_blank\" href=\"https://annotation.github.io/text-fabric/tf/writing/\" title=\"How TF features represent text\">Character table</a>, <a target=\"_blank\" href=\"https://github.com/saulocantanhede/tfgreek2/blob/main/docs/transcription.md\" title=\"saulocantanhede - tfgreek2 feature documentation\">Feature docs</a><br>\n",
       "            <details class=\"nodeinfo\"><summary><b>Node types</b></summary>\n",
       "<table class=\"nodeinfo\">\n",
       "    <tr>\n",
       "        <th>Name</th>\n",
       "        <th># of nodes</th>\n",
       "        <th># slots/node</th>\n",
       "        <th>% coverage</th>\n",
       "    </tr>\n",
       "\n",
       "<tr>\n",
       "    <th>book</th>\n",
       "    <td>27</td>\n",
       "    <td>5102.93</td>\n",
       "    <td><b>100</b></td>\n",
       "</tr>\n",
       "\n",
       "<tr>\n",
       "    <th>chapter</th>\n",
       "    <td>260</td>\n",
       "    <td>529.92</td>\n",
       "    <td><b>100</b></td>\n",
       "</tr>\n",
       "\n",
       "<tr>\n",
       "    <th>verse</th>\n",
       "    <td>7944</td>\n",
       "    <td>17.34</td>\n",
       "    <td><b>100</b></td>\n",
       "</tr>\n",
       "\n",
       "<tr>\n",
       "    <th>sentence</th>\n",
       "    <td>8011</td>\n",
       "    <td>17.20</td>\n",
       "    <td><b>100</b></td>\n",
       "</tr>\n",
       "\n",
       "<tr>\n",
       "    <th>wg</th>\n",
       "    <td>114879</td>\n",
       "    <td>7.60</td>\n",
       "    <td><i>633</i></td>\n",
       "</tr>\n",
       "\n",
       "<tr>\n",
       "    <th>clause</th>\n",
       "    <td>30152</td>\n",
       "    <td>7.37</td>\n",
       "    <td><i>161</i></td>\n",
       "</tr>\n",
       "\n",
       "<tr>\n",
       "    <th>phrase</th>\n",
       "    <td>42636</td>\n",
       "    <td>3.21</td>\n",
       "    <td>99</td>\n",
       "</tr>\n",
       "\n",
       "<tr>\n",
       "    <th><i>word</i></th>\n",
       "    <td>137779</td>\n",
       "    <td>1.00</td>\n",
       "    <td><b>100</b></td>\n",
       "</tr>\n",
       "</table></details>\n",
       "            <b>Sets:</b> no custom sets<br>\n",
       "            <b>Features:</b><br>\n",
       "<details><summary><b>saulocantanhede - tfgreek2/programs/tf</b></summary>\n",
       "    <div class=\"fcorpus\">\n",
       "\n",
       "<div class=\"frow\">\n",
       "    <div class=\"fnamecat \">\n",
       "<a target=\"_blank\" href=\"https://github.com/saulocantanhede/tfgreek2/blob/main/docs/transcription.md\" title=\"~/text-fabric-data/github/saulocantanhede/tfgreek2/programs/tf/0.5.0/after.tf\">after</a>\n",
       "</div>\n",
       "<div class=\"fmono\">str</div>\n",
       "\n",
       "<span> this is XML attribute after</span>\n",
       "\n",
       "</div>\n",
       "\n",
       "<div class=\"frow\">\n",
       "    <div class=\"fnamecat \">\n",
       "<a target=\"_blank\" href=\"https://github.com/saulocantanhede/tfgreek2/blob/main/docs/transcription.md\" title=\"~/text-fabric-data/github/saulocantanhede/tfgreek2/programs/tf/0.5.0/appositioncontainer.tf\">appositioncontainer</a>\n",
       "</div>\n",
       "<div class=\"fmono\">str</div>\n",
       "\n",
       "<span> this is XML attribute appositioncontainer</span>\n",
       "\n",
       "</div>\n",
       "\n",
       "<div class=\"frow\">\n",
       "    <div class=\"fnamecat \">\n",
       "<a target=\"_blank\" href=\"https://github.com/saulocantanhede/tfgreek2/blob/main/docs/transcription.md\" title=\"~/text-fabric-data/github/saulocantanhede/tfgreek2/programs/tf/0.5.0/articular.tf\">articular</a>\n",
       "</div>\n",
       "<div class=\"fmono\">str</div>\n",
       "\n",
       "<span> this is XML attribute articular</span>\n",
       "\n",
       "</div>\n",
       "\n",
       "<div class=\"frow\">\n",
       "    <div class=\"fnamecat \">\n",
       "<a target=\"_blank\" href=\"https://github.com/saulocantanhede/tfgreek2/blob/main/docs/transcription.md\" title=\"~/text-fabric-data/github/saulocantanhede/tfgreek2/programs/tf/0.5.0/book.tf\">book</a>\n",
       "</div>\n",
       "<div class=\"fmono\">str</div>\n",
       "\n",
       "<span> this is XML attribute book</span>\n",
       "\n",
       "</div>\n",
       "\n",
       "<div class=\"frow\">\n",
       "    <div class=\"fnamecat \">\n",
       "<a target=\"_blank\" href=\"https://github.com/saulocantanhede/tfgreek2/blob/main/docs/transcription.md\" title=\"~/text-fabric-data/github/saulocantanhede/tfgreek2/programs/tf/0.5.0/book_short.tf\">book_short</a>\n",
       "</div>\n",
       "<div class=\"fmono\">str</div>\n",
       "\n",
       "<span> this is XML attribute book_short</span>\n",
       "\n",
       "</div>\n",
       "\n",
       "<div class=\"frow\">\n",
       "    <div class=\"fnamecat \">\n",
       "<a target=\"_blank\" href=\"https://github.com/saulocantanhede/tfgreek2/blob/main/docs/transcription.md\" title=\"~/text-fabric-data/github/saulocantanhede/tfgreek2/programs/tf/0.5.0/case.tf\">case</a>\n",
       "</div>\n",
       "<div class=\"fmono\">str</div>\n",
       "\n",
       "<span> this is XML attribute case</span>\n",
       "\n",
       "</div>\n",
       "\n",
       "<div class=\"frow\">\n",
       "    <div class=\"fnamecat \">\n",
       "<a target=\"_blank\" href=\"https://github.com/saulocantanhede/tfgreek2/blob/main/docs/transcription.md\" title=\"~/text-fabric-data/github/saulocantanhede/tfgreek2/programs/tf/0.5.0/chapter.tf\">chapter</a>\n",
       "</div>\n",
       "<div class=\"fmono\">str</div>\n",
       "\n",
       "<span> this is XML attribute chapter</span>\n",
       "\n",
       "</div>\n",
       "\n",
       "<div class=\"frow\">\n",
       "    <div class=\"fnamecat \">\n",
       "<a target=\"_blank\" href=\"https://github.com/saulocantanhede/tfgreek2/blob/main/docs/transcription.md\" title=\"~/text-fabric-data/github/saulocantanhede/tfgreek2/programs/tf/0.5.0/clauseType.tf\">clauseType</a>\n",
       "</div>\n",
       "<div class=\"fmono\">str</div>\n",
       "\n",
       "<span> this is XML attribute clauseType</span>\n",
       "\n",
       "</div>\n",
       "\n",
       "<div class=\"frow\">\n",
       "    <div class=\"fnamecat \">\n",
       "<a target=\"_blank\" href=\"https://github.com/saulocantanhede/tfgreek2/blob/main/docs/transcription.md\" title=\"~/text-fabric-data/github/saulocantanhede/tfgreek2/programs/tf/0.5.0/cls.tf\">cls</a>\n",
       "</div>\n",
       "<div class=\"fmono\">str</div>\n",
       "\n",
       "<span> this is XML attribute cls</span>\n",
       "\n",
       "</div>\n",
       "\n",
       "<div class=\"frow\">\n",
       "    <div class=\"fnamecat \">\n",
       "<a target=\"_blank\" href=\"https://github.com/saulocantanhede/tfgreek2/blob/main/docs/transcription.md\" title=\"~/text-fabric-data/github/saulocantanhede/tfgreek2/programs/tf/0.5.0/cltype.tf\">cltype</a>\n",
       "</div>\n",
       "<div class=\"fmono\">str</div>\n",
       "\n",
       "<span> this is XML attribute cltype</span>\n",
       "\n",
       "</div>\n",
       "\n",
       "<div class=\"frow\">\n",
       "    <div class=\"fnamecat \">\n",
       "<a target=\"_blank\" href=\"https://github.com/saulocantanhede/tfgreek2/blob/main/docs/transcription.md\" title=\"~/text-fabric-data/github/saulocantanhede/tfgreek2/programs/tf/0.5.0/crule.tf\">crule</a>\n",
       "</div>\n",
       "<div class=\"fmono\">str</div>\n",
       "\n",
       "<span> this is XML attribute crule</span>\n",
       "\n",
       "</div>\n",
       "\n",
       "<div class=\"frow\">\n",
       "    <div class=\"fnamecat \">\n",
       "<a target=\"_blank\" href=\"https://github.com/saulocantanhede/tfgreek2/blob/main/docs/transcription.md\" title=\"~/text-fabric-data/github/saulocantanhede/tfgreek2/programs/tf/0.5.0/degree.tf\">degree</a>\n",
       "</div>\n",
       "<div class=\"fmono\">str</div>\n",
       "\n",
       "<span> this is XML attribute degree</span>\n",
       "\n",
       "</div>\n",
       "\n",
       "<div class=\"frow\">\n",
       "    <div class=\"fnamecat \">\n",
       "<a target=\"_blank\" href=\"https://github.com/saulocantanhede/tfgreek2/blob/main/docs/transcription.md\" title=\"~/text-fabric-data/github/saulocantanhede/tfgreek2/programs/tf/0.5.0/discontinuous.tf\">discontinuous</a>\n",
       "</div>\n",
       "<div class=\"fmono\">str</div>\n",
       "\n",
       "<span> this is XML attribute discontinuous</span>\n",
       "\n",
       "</div>\n",
       "\n",
       "<div class=\"frow\">\n",
       "    <div class=\"fnamecat \">\n",
       "<a target=\"_blank\" href=\"https://github.com/saulocantanhede/tfgreek2/blob/main/docs/transcription.md\" title=\"~/text-fabric-data/github/saulocantanhede/tfgreek2/programs/tf/0.5.0/domain.tf\">domain</a>\n",
       "</div>\n",
       "<div class=\"fmono\">str</div>\n",
       "\n",
       "<span> this is XML attribute domain</span>\n",
       "\n",
       "</div>\n",
       "\n",
       "<div class=\"frow\">\n",
       "    <div class=\"fnamecat \">\n",
       "<a target=\"_blank\" href=\"https://github.com/saulocantanhede/tfgreek2/blob/main/docs/transcription.md\" title=\"~/text-fabric-data/github/saulocantanhede/tfgreek2/programs/tf/0.5.0/framespec.tf\">framespec</a>\n",
       "</div>\n",
       "<div class=\"fmono\">str</div>\n",
       "\n",
       "<span> this is XML attribute framespec</span>\n",
       "\n",
       "</div>\n",
       "\n",
       "<div class=\"frow\">\n",
       "    <div class=\"fnamecat \">\n",
       "<a target=\"_blank\" href=\"https://github.com/saulocantanhede/tfgreek2/blob/main/docs/transcription.md\" title=\"~/text-fabric-data/github/saulocantanhede/tfgreek2/programs/tf/0.5.0/function.tf\">function</a>\n",
       "</div>\n",
       "<div class=\"fmono\">str</div>\n",
       "\n",
       "<span> this is XML attribute function</span>\n",
       "\n",
       "</div>\n",
       "\n",
       "<div class=\"frow\">\n",
       "    <div class=\"fnamecat \">\n",
       "<a target=\"_blank\" href=\"https://github.com/saulocantanhede/tfgreek2/blob/main/docs/transcription.md\" title=\"~/text-fabric-data/github/saulocantanhede/tfgreek2/programs/tf/0.5.0/gender.tf\">gender</a>\n",
       "</div>\n",
       "<div class=\"fmono\">str</div>\n",
       "\n",
       "<span> this is XML attribute gender</span>\n",
       "\n",
       "</div>\n",
       "\n",
       "<div class=\"frow\">\n",
       "    <div class=\"fnamecat \">\n",
       "<a target=\"_blank\" href=\"https://github.com/saulocantanhede/tfgreek2/blob/main/docs/transcription.md\" title=\"~/text-fabric-data/github/saulocantanhede/tfgreek2/programs/tf/0.5.0/gloss.tf\">gloss</a>\n",
       "</div>\n",
       "<div class=\"fmono\">str</div>\n",
       "\n",
       "<span> this is XML attribute gloss</span>\n",
       "\n",
       "</div>\n",
       "\n",
       "<div class=\"frow\">\n",
       "    <div class=\"fnamecat \">\n",
       "<a target=\"_blank\" href=\"https://github.com/saulocantanhede/tfgreek2/blob/main/docs/transcription.md\" title=\"~/text-fabric-data/github/saulocantanhede/tfgreek2/programs/tf/0.5.0/id.tf\">id</a>\n",
       "</div>\n",
       "<div class=\"fmono\">str</div>\n",
       "\n",
       "<span> this is XML attribute id</span>\n",
       "\n",
       "</div>\n",
       "\n",
       "<div class=\"frow\">\n",
       "    <div class=\"fnamecat \">\n",
       "<a target=\"_blank\" href=\"https://github.com/saulocantanhede/tfgreek2/blob/main/docs/transcription.md\" title=\"~/text-fabric-data/github/saulocantanhede/tfgreek2/programs/tf/0.5.0/junction.tf\">junction</a>\n",
       "</div>\n",
       "<div class=\"fmono\">str</div>\n",
       "\n",
       "<span> this is XML attribute junction</span>\n",
       "\n",
       "</div>\n",
       "\n",
       "<div class=\"frow\">\n",
       "    <div class=\"fnamecat \">\n",
       "<a target=\"_blank\" href=\"https://github.com/saulocantanhede/tfgreek2/blob/main/docs/transcription.md\" title=\"~/text-fabric-data/github/saulocantanhede/tfgreek2/programs/tf/0.5.0/lang.tf\">lang</a>\n",
       "</div>\n",
       "<div class=\"fmono\">str</div>\n",
       "\n",
       "<span> this is XML attribute lang</span>\n",
       "\n",
       "</div>\n",
       "\n",
       "<div class=\"frow\">\n",
       "    <div class=\"fnamecat \">\n",
       "<a target=\"_blank\" href=\"https://github.com/saulocantanhede/tfgreek2/blob/main/docs/transcription.md\" title=\"~/text-fabric-data/github/saulocantanhede/tfgreek2/programs/tf/0.5.0/lemma.tf\">lemma</a>\n",
       "</div>\n",
       "<div class=\"fmono\">str</div>\n",
       "\n",
       "<span> this is XML attribute lemma</span>\n",
       "\n",
       "</div>\n",
       "\n",
       "<div class=\"frow\">\n",
       "    <div class=\"fnamecat \">\n",
       "<a target=\"_blank\" href=\"https://github.com/saulocantanhede/tfgreek2/blob/main/docs/transcription.md\" title=\"~/text-fabric-data/github/saulocantanhede/tfgreek2/programs/tf/0.5.0/ln.tf\">ln</a>\n",
       "</div>\n",
       "<div class=\"fmono\">str</div>\n",
       "\n",
       "<span> this is XML attribute ln</span>\n",
       "\n",
       "</div>\n",
       "\n",
       "<div class=\"frow\">\n",
       "    <div class=\"fnamecat \">\n",
       "<a target=\"_blank\" href=\"https://github.com/saulocantanhede/tfgreek2/blob/main/docs/transcription.md\" title=\"~/text-fabric-data/github/saulocantanhede/tfgreek2/programs/tf/0.5.0/mood.tf\">mood</a>\n",
       "</div>\n",
       "<div class=\"fmono\">str</div>\n",
       "\n",
       "<span> this is XML attribute mood</span>\n",
       "\n",
       "</div>\n",
       "\n",
       "<div class=\"frow\">\n",
       "    <div class=\"fnamecat \">\n",
       "<a target=\"_blank\" href=\"https://github.com/saulocantanhede/tfgreek2/blob/main/docs/transcription.md\" title=\"~/text-fabric-data/github/saulocantanhede/tfgreek2/programs/tf/0.5.0/morph.tf\">morph</a>\n",
       "</div>\n",
       "<div class=\"fmono\">str</div>\n",
       "\n",
       "<span> this is XML attribute morph</span>\n",
       "\n",
       "</div>\n",
       "\n",
       "<div class=\"frow\">\n",
       "    <div class=\"fnamecat \">\n",
       "<a target=\"_blank\" href=\"https://github.com/saulocantanhede/tfgreek2/blob/main/docs/transcription.md\" title=\"~/text-fabric-data/github/saulocantanhede/tfgreek2/programs/tf/0.5.0/nodeId.tf\">nodeId</a>\n",
       "</div>\n",
       "<div class=\"fmono\">str</div>\n",
       "\n",
       "<span> this is XML attribute nodeId</span>\n",
       "\n",
       "</div>\n",
       "\n",
       "<div class=\"frow\">\n",
       "    <div class=\"fnamecat \">\n",
       "<a target=\"_blank\" href=\"https://github.com/saulocantanhede/tfgreek2/blob/main/docs/transcription.md\" title=\"~/text-fabric-data/github/saulocantanhede/tfgreek2/programs/tf/0.5.0/normalized.tf\">normalized</a>\n",
       "</div>\n",
       "<div class=\"fmono\">str</div>\n",
       "\n",
       "<span> this is XML attribute normalized</span>\n",
       "\n",
       "</div>\n",
       "\n",
       "<div class=\"frow\">\n",
       "    <div class=\"fnamecat \">\n",
       "<a target=\"_blank\" href=\"https://github.com/saulocantanhede/tfgreek2/blob/main/docs/transcription.md\" title=\"~/text-fabric-data/github/saulocantanhede/tfgreek2/programs/tf/0.5.0/note.tf\">note</a>\n",
       "</div>\n",
       "<div class=\"fmono\">str</div>\n",
       "\n",
       "<span> this is XML attribute note</span>\n",
       "\n",
       "</div>\n",
       "\n",
       "<div class=\"frow\">\n",
       "    <div class=\"fnamecat \">\n",
       "<a target=\"_blank\" href=\"https://github.com/saulocantanhede/tfgreek2/blob/main/docs/transcription.md\" title=\"~/text-fabric-data/github/saulocantanhede/tfgreek2/programs/tf/0.5.0/num.tf\">num</a>\n",
       "</div>\n",
       "<div class=\"fmono\">str</div>\n",
       "\n",
       "<span> this is XML attribute num</span>\n",
       "\n",
       "</div>\n",
       "\n",
       "<div class=\"frow\">\n",
       "    <div class=\"fnamecat \">\n",
       "<a target=\"_blank\" href=\"https://github.com/saulocantanhede/tfgreek2/blob/main/docs/transcription.md\" title=\"~/text-fabric-data/github/saulocantanhede/tfgreek2/programs/tf/0.5.0/number.tf\">number</a>\n",
       "</div>\n",
       "<div class=\"fmono\">str</div>\n",
       "\n",
       "<span> this is XML attribute number</span>\n",
       "\n",
       "</div>\n",
       "\n",
       "<div class=\"frow\">\n",
       "    <div class=\"fnamecat \">\n",
       "<a target=\"_blank\" href=\"https://github.com/saulocantanhede/tfgreek2/blob/main/docs/transcription.md\" title=\"~/text-fabric-data/github/saulocantanhede/tfgreek2/programs/tf/0.5.0/otype.tf\">otype</a>\n",
       "</div>\n",
       "<div class=\"fmono\">str</div>\n",
       "\n",
       "<span> </span>\n",
       "\n",
       "</div>\n",
       "\n",
       "<div class=\"frow\">\n",
       "    <div class=\"fnamecat \">\n",
       "<a target=\"_blank\" href=\"https://github.com/saulocantanhede/tfgreek2/blob/main/docs/transcription.md\" title=\"~/text-fabric-data/github/saulocantanhede/tfgreek2/programs/tf/0.5.0/person.tf\">person</a>\n",
       "</div>\n",
       "<div class=\"fmono\">str</div>\n",
       "\n",
       "<span> this is XML attribute person</span>\n",
       "\n",
       "</div>\n",
       "\n",
       "<div class=\"frow\">\n",
       "    <div class=\"fnamecat \">\n",
       "<a target=\"_blank\" href=\"https://github.com/saulocantanhede/tfgreek2/blob/main/docs/transcription.md\" title=\"~/text-fabric-data/github/saulocantanhede/tfgreek2/programs/tf/0.5.0/ref.tf\">ref</a>\n",
       "</div>\n",
       "<div class=\"fmono\">str</div>\n",
       "\n",
       "<span> this is XML attribute ref</span>\n",
       "\n",
       "</div>\n",
       "\n",
       "<div class=\"frow\">\n",
       "    <div class=\"fnamecat \">\n",
       "<a target=\"_blank\" href=\"https://github.com/saulocantanhede/tfgreek2/blob/main/docs/transcription.md\" title=\"~/text-fabric-data/github/saulocantanhede/tfgreek2/programs/tf/0.5.0/referent.tf\">referent</a>\n",
       "</div>\n",
       "<div class=\"fmono\">str</div>\n",
       "\n",
       "<span> this is XML attribute referent</span>\n",
       "\n",
       "</div>\n",
       "\n",
       "<div class=\"frow\">\n",
       "    <div class=\"fnamecat \">\n",
       "<a target=\"_blank\" href=\"https://github.com/saulocantanhede/tfgreek2/blob/main/docs/transcription.md\" title=\"~/text-fabric-data/github/saulocantanhede/tfgreek2/programs/tf/0.5.0/rela.tf\">rela</a>\n",
       "</div>\n",
       "<div class=\"fmono\">str</div>\n",
       "\n",
       "<span> this is XML attribute rela</span>\n",
       "\n",
       "</div>\n",
       "\n",
       "<div class=\"frow\">\n",
       "    <div class=\"fnamecat \">\n",
       "<a target=\"_blank\" href=\"https://github.com/saulocantanhede/tfgreek2/blob/main/docs/transcription.md\" title=\"~/text-fabric-data/github/saulocantanhede/tfgreek2/programs/tf/0.5.0/role.tf\">role</a>\n",
       "</div>\n",
       "<div class=\"fmono\">str</div>\n",
       "\n",
       "<span> this is XML attribute role</span>\n",
       "\n",
       "</div>\n",
       "\n",
       "<div class=\"frow\">\n",
       "    <div class=\"fnamecat \">\n",
       "<a target=\"_blank\" href=\"https://github.com/saulocantanhede/tfgreek2/blob/main/docs/transcription.md\" title=\"~/text-fabric-data/github/saulocantanhede/tfgreek2/programs/tf/0.5.0/rule.tf\">rule</a>\n",
       "</div>\n",
       "<div class=\"fmono\">str</div>\n",
       "\n",
       "<span> this is XML attribute rule</span>\n",
       "\n",
       "</div>\n",
       "\n",
       "<div class=\"frow\">\n",
       "    <div class=\"fnamecat \">\n",
       "<a target=\"_blank\" href=\"https://github.com/saulocantanhede/tfgreek2/blob/main/docs/transcription.md\" title=\"~/text-fabric-data/github/saulocantanhede/tfgreek2/programs/tf/0.5.0/strong.tf\">strong</a>\n",
       "</div>\n",
       "<div class=\"fmono\">str</div>\n",
       "\n",
       "<span> this is XML attribute strong</span>\n",
       "\n",
       "</div>\n",
       "\n",
       "<div class=\"frow\">\n",
       "    <div class=\"fnamecat \">\n",
       "<a target=\"_blank\" href=\"https://github.com/saulocantanhede/tfgreek2/blob/main/docs/transcription.md\" title=\"~/text-fabric-data/github/saulocantanhede/tfgreek2/programs/tf/0.5.0/subjrefspec.tf\">subjrefspec</a>\n",
       "</div>\n",
       "<div class=\"fmono\">str</div>\n",
       "\n",
       "<span> this is XML attribute subjrefspec</span>\n",
       "\n",
       "</div>\n",
       "\n",
       "<div class=\"frow\">\n",
       "    <div class=\"fnamecat \">\n",
       "<a target=\"_blank\" href=\"https://github.com/saulocantanhede/tfgreek2/blob/main/docs/transcription.md\" title=\"~/text-fabric-data/github/saulocantanhede/tfgreek2/programs/tf/0.5.0/tense.tf\">tense</a>\n",
       "</div>\n",
       "<div class=\"fmono\">str</div>\n",
       "\n",
       "<span> this is XML attribute tense</span>\n",
       "\n",
       "</div>\n",
       "\n",
       "<div class=\"frow\">\n",
       "    <div class=\"fnamecat \">\n",
       "<a target=\"_blank\" href=\"https://github.com/saulocantanhede/tfgreek2/blob/main/docs/transcription.md\" title=\"~/text-fabric-data/github/saulocantanhede/tfgreek2/programs/tf/0.5.0/text.tf\">text</a>\n",
       "</div>\n",
       "<div class=\"fmono\">str</div>\n",
       "\n",
       "<span> this is XML attribute text</span>\n",
       "\n",
       "</div>\n",
       "\n",
       "<div class=\"frow\">\n",
       "    <div class=\"fnamecat \">\n",
       "<a target=\"_blank\" href=\"https://github.com/saulocantanhede/tfgreek2/blob/main/docs/transcription.md\" title=\"~/text-fabric-data/github/saulocantanhede/tfgreek2/programs/tf/0.5.0/typ.tf\">typ</a>\n",
       "</div>\n",
       "<div class=\"fmono\">str</div>\n",
       "\n",
       "<span> this is XML attribute typ</span>\n",
       "\n",
       "</div>\n",
       "\n",
       "<div class=\"frow\">\n",
       "    <div class=\"fnamecat \">\n",
       "<a target=\"_blank\" href=\"https://github.com/saulocantanhede/tfgreek2/blob/main/docs/transcription.md\" title=\"~/text-fabric-data/github/saulocantanhede/tfgreek2/programs/tf/0.5.0/type.tf\">type</a>\n",
       "</div>\n",
       "<div class=\"fmono\">str</div>\n",
       "\n",
       "<span> this is XML attribute type</span>\n",
       "\n",
       "</div>\n",
       "\n",
       "<div class=\"frow\">\n",
       "    <div class=\"fnamecat \">\n",
       "<a target=\"_blank\" href=\"https://github.com/saulocantanhede/tfgreek2/blob/main/docs/transcription.md\" title=\"~/text-fabric-data/github/saulocantanhede/tfgreek2/programs/tf/0.5.0/unicode.tf\">unicode</a>\n",
       "</div>\n",
       "<div class=\"fmono\">str</div>\n",
       "\n",
       "<span> this is XML attribute unicode</span>\n",
       "\n",
       "</div>\n",
       "\n",
       "<div class=\"frow\">\n",
       "    <div class=\"fnamecat \">\n",
       "<a target=\"_blank\" href=\"https://github.com/saulocantanhede/tfgreek2/blob/main/docs/transcription.md\" title=\"~/text-fabric-data/github/saulocantanhede/tfgreek2/programs/tf/0.5.0/verse.tf\">verse</a>\n",
       "</div>\n",
       "<div class=\"fmono\">str</div>\n",
       "\n",
       "<span> this is XML attribute verse</span>\n",
       "\n",
       "</div>\n",
       "\n",
       "<div class=\"frow\">\n",
       "    <div class=\"fnamecat \">\n",
       "<a target=\"_blank\" href=\"https://github.com/saulocantanhede/tfgreek2/blob/main/docs/transcription.md\" title=\"~/text-fabric-data/github/saulocantanhede/tfgreek2/programs/tf/0.5.0/voice.tf\">voice</a>\n",
       "</div>\n",
       "<div class=\"fmono\">str</div>\n",
       "\n",
       "<span> this is XML attribute voice</span>\n",
       "\n",
       "</div>\n",
       "\n",
       "<div class=\"frow\">\n",
       "    <div class=\"fnamecat edge\">\n",
       "<a target=\"_blank\" href=\"https://github.com/saulocantanhede/tfgreek2/blob/main/docs/transcription.md\" title=\"~/text-fabric-data/github/saulocantanhede/tfgreek2/programs/tf/0.5.0/frame.tf\">frame</a>\n",
       "</div>\n",
       "<div class=\"fmono\">str</div>\n",
       "\n",
       "<span> this is XML attribute frame</span>\n",
       "\n",
       "</div>\n",
       "\n",
       "<div class=\"frow\">\n",
       "    <div class=\"fnamecat edge\">\n",
       "<a target=\"_blank\" href=\"https://github.com/saulocantanhede/tfgreek2/blob/main/docs/transcription.md\" title=\"~/text-fabric-data/github/saulocantanhede/tfgreek2/programs/tf/0.5.0/oslots.tf\">oslots</a>\n",
       "</div>\n",
       "<div class=\"fmono\">none</div>\n",
       "\n",
       "<span> </span>\n",
       "\n",
       "</div>\n",
       "\n",
       "<div class=\"frow\">\n",
       "    <div class=\"fnamecat edge\">\n",
       "<a target=\"_blank\" href=\"https://github.com/saulocantanhede/tfgreek2/blob/main/docs/transcription.md\" title=\"~/text-fabric-data/github/saulocantanhede/tfgreek2/programs/tf/0.5.0/parent.tf\">parent</a>\n",
       "</div>\n",
       "<div class=\"fmono\">none</div>\n",
       "\n",
       "<span> this is XML attribute parent</span>\n",
       "\n",
       "</div>\n",
       "\n",
       "<div class=\"frow\">\n",
       "    <div class=\"fnamecat edge\">\n",
       "<a target=\"_blank\" href=\"https://github.com/saulocantanhede/tfgreek2/blob/main/docs/transcription.md\" title=\"~/text-fabric-data/github/saulocantanhede/tfgreek2/programs/tf/0.5.0/sibling.tf\">sibling</a>\n",
       "</div>\n",
       "<div class=\"fmono\">str</div>\n",
       "\n",
       "<span> this is XML attribute sibling</span>\n",
       "\n",
       "</div>\n",
       "\n",
       "<div class=\"frow\">\n",
       "    <div class=\"fnamecat edge\">\n",
       "<a target=\"_blank\" href=\"https://github.com/saulocantanhede/tfgreek2/blob/main/docs/transcription.md\" title=\"~/text-fabric-data/github/saulocantanhede/tfgreek2/programs/tf/0.5.0/subjref.tf\">subjref</a>\n",
       "</div>\n",
       "<div class=\"fmono\">none</div>\n",
       "\n",
       "<span> this is XML attribute subjref</span>\n",
       "\n",
       "</div>\n",
       "\n",
       "    </div>\n",
       "</details>\n",
       "\n"
      ],
      "text/plain": [
       "<IPython.core.display.HTML object>"
      ]
     },
     "metadata": {},
     "output_type": "display_data"
    },
    {
     "data": {
      "text/html": [
       "<style>tr.tf.ltr, td.tf.ltr, th.tf.ltr { text-align: left ! important;}\n",
       "tr.tf.rtl, td.tf.rtl, th.tf.rtl { text-align: right ! important;}\n",
       "@font-face {\n",
       "  font-family: \"Gentium Plus\";\n",
       "  src: local('Gentium Plus'), local('GentiumPlus'),\n",
       "    url('/server/static/fonts/GentiumPlus-R.woff') format('woff'),\n",
       "    url('https://github.com/annotation/text-fabric/blob/master/tf/server/static/fonts/GentiumPlus-R.woff?raw=true') format('woff');\n",
       "}\n",
       "\n",
       "@font-face {\n",
       "  font-family: \"Ezra SIL\";\n",
       "  src: local('Ezra SIL'), local('EzraSIL'),\n",
       "    url('/server/static/fonts/SILEOT.woff') format('woff'),\n",
       "    url('https://github.com/annotation/text-fabric/blob/master/tf/server/static/fonts/SILEOT.woff?raw=true') format('woff');\n",
       "}\n",
       "\n",
       "@font-face {\n",
       "  font-family: \"SBL Hebrew\";\n",
       "  src: local('SBL Hebrew'), local('SBLHebrew'),\n",
       "    url('/server/static/fonts/SBL_Hbrw.woff') format('woff'),\n",
       "    url('https://github.com/annotation/text-fabric/blob/master/tf/server/static/fonts/SBL_Hbrw.woff?raw=true') format('woff');\n",
       "}\n",
       "\n",
       "@font-face {\n",
       "  font-family: \"Estrangelo Edessa\";\n",
       "  src: local('Estrangelo Edessa'), local('EstrangeloEdessa');\n",
       "    url('/server/static/fonts/SyrCOMEdessa.woff') format('woff'),\n",
       "    url('https://github.com/annotation/text-fabric/blob/master/tf/server/static/fonts/SyrCOMEdessa.woff?raw=true') format('woff');\n",
       "}\n",
       "\n",
       "@font-face {\n",
       "  font-family: AmiriQuran;\n",
       "  font-style: normal;\n",
       "  font-weight: 400;\n",
       "  src: local('Amiri Quran'), local('AmiriQuran'),\n",
       "    url('/server/static/fonts/AmiriQuran.woff') format('woff'),\n",
       "    url('https://github.com/annotation/text-fabric/blob/master/tf/server/static/fonts/AmiriQuran.woff?raw=true') format('woff');\n",
       "}\n",
       "\n",
       "@font-face {\n",
       "  font-family: AmiriQuranColored;\n",
       "  font-style: normal;\n",
       "  font-weight: 400;\n",
       "  src: local('Amiri Quran Colored'), local('AmiriQuranColored'),\n",
       "    url('/server/static/fonts/AmiriQuranColored.woff') format('woff'),\n",
       "    url('https://github.com/annotation/text-fabric/blob/master/tf/server/static/fonts/AmiriQuranColored.woff?raw=true') format('woff');\n",
       "}\n",
       "\n",
       "@font-face {\n",
       "  font-family: \"Santakku\";\n",
       "  src: local('Santakku'),\n",
       "    url('/server/static/fonts/Santakku.woff') format('woff'),\n",
       "    url('https://github.com/annotation/text-fabric/blob/master/tf/server/static/fonts/Santakku.woff?raw=true') format('woff');\n",
       "}\n",
       "\n",
       "@font-face {\n",
       "  font-family: \"SantakkuM\";\n",
       "  src: local('SantakkuM'),\n",
       "    url('/server/static/fonts/SantakkuM.woff') format('woff'),\n",
       "    url('https://github.com/annotation/text-fabric/blob/master/tf/server/static/fonts/SantakkuM.woff?raw=true') format('woff');\n",
       "}\n",
       "/* bypassing some classical notebook settings */\n",
       "div#notebook {\n",
       "  line-height: unset;\n",
       "}\n",
       "/* neutral text */\n",
       ".txtn,.txtn a:visited,.txtn a:link {\n",
       "    font-family: sans-serif;\n",
       "    font-size: medium;\n",
       "    direction: ltr;\n",
       "    unicode-bidi: embed;\n",
       "    text-decoration: none;\n",
       "    color: var(--text-color);\n",
       "}\n",
       "/* transcription text */\n",
       ".txtt,.txtt a:visited,.txtt a:link {\n",
       "    font-family: monospace;\n",
       "    font-size: medium;\n",
       "    direction: ltr;\n",
       "    unicode-bidi: embed;\n",
       "    text-decoration: none;\n",
       "    color: var(--text-color);\n",
       "}\n",
       "/* source text */\n",
       ".txto,.txto a:visited,.txto a:link {\n",
       "    font-family: serif;\n",
       "    font-size: medium;\n",
       "    direction: ltr;\n",
       "    unicode-bidi: embed;\n",
       "    text-decoration: none;\n",
       "    color: var(--text-color);\n",
       "}\n",
       "/* phonetic text */\n",
       ".txtp,.txtp a:visited,.txtp a:link {\n",
       "    font-family: Gentium, sans-serif;\n",
       "    font-size: medium;\n",
       "    direction: ltr;\n",
       "    unicode-bidi: embed;\n",
       "    text-decoration: none;\n",
       "    color: var(--text-color);\n",
       "}\n",
       "/* original script text */\n",
       ".txtu,.txtu a:visited,.txtu a:link {\n",
       "    font-family: Gentium, sans-serif;\n",
       "    font-size: medium;\n",
       "    text-decoration: none;\n",
       "    color: var(--text-color);\n",
       "}\n",
       "/* hebrew */\n",
       ".txtu.hbo,.lex.hbo {\n",
       "    font-family: \"Ezra SIL\", \"SBL Hebrew\", sans-serif;\n",
       "    font-size: large;\n",
       "    direction: rtl ! important;\n",
       "    unicode-bidi: embed;\n",
       "}\n",
       "/* syriac */\n",
       ".txtu.syc,.lex.syc {\n",
       "    font-family: \"Estrangelo Edessa\", sans-serif;\n",
       "    font-size: medium;\n",
       "    direction: rtl ! important;\n",
       "    unicode-bidi: embed;\n",
       "}\n",
       "/* neo aramaic */\n",
       ".txtu.cld,.lex.cld {\n",
       "    font-family: \"CharisSIL-R\", sans-serif;\n",
       "    font-size: medium;\n",
       "    direction: ltr ! important;\n",
       "    unicode-bidi: embed;\n",
       "}\n",
       "/* standard arabic */\n",
       ".txtu.ara,.lex.ara {\n",
       "    font-family: \"AmiriQuran\", sans-serif;\n",
       "    font-size: large;\n",
       "    direction: rtl ! important;\n",
       "    unicode-bidi: embed;\n",
       "}\n",
       "/* cuneiform */\n",
       ".txtu.akk,.lex.akk {\n",
       "    font-family: Santakku, sans-serif;\n",
       "    font-size: large;\n",
       "    direction: ltr ! important;\n",
       "    unicode-bidi: embed;\n",
       "}\n",
       "/* greek */\n",
       ".txtu.grc,.lex.grc a:link {\n",
       "    font-family: Gentium, sans-serif;\n",
       "    font-size: medium;\n",
       "    direction: ltr ! important;\n",
       "    unicode-bidi: embed;\n",
       "}\n",
       "a:hover {\n",
       "    text-decoration: underline | important;\n",
       "    color: #0000ff | important;\n",
       "}\n",
       ".ltr {\n",
       "    direction: ltr ! important;\n",
       "    unicode-bidi: embed;\n",
       "}\n",
       ".rtl {\n",
       "    direction: rtl ! important;\n",
       "    unicode-bidi: embed;\n",
       "}\n",
       ".ubd {\n",
       "    unicode-bidi: embed;\n",
       "}\n",
       ".col {\n",
       "   display: inline-block;\n",
       "}\n",
       ".features {\n",
       "    font-family: monospace;\n",
       "    font-size: medium;\n",
       "    font-weight: bold;\n",
       "    color: var(--features);\n",
       "    display: flex;\n",
       "    flex-flow: column nowrap;\n",
       "    justify-content: flex-start;\n",
       "    align-items: flex-start;\n",
       "    align-content: flex-start;\n",
       "    padding: 2px;\n",
       "    margin: 2px;\n",
       "    direction: ltr;\n",
       "    unicode-bidi: embed;\n",
       "    border: var(--meta-width) solid var(--meta-color);\n",
       "    border-radius: var(--meta-width);\n",
       "}\n",
       ".features div,.features span {\n",
       "    padding: 0;\n",
       "    margin: -2px 0;\n",
       "}\n",
       ".features .f {\n",
       "    font-family: sans-serif;\n",
       "    font-size: small;\n",
       "    font-weight: normal;\n",
       "    color: #5555bb;\n",
       "}\n",
       ".features .xft {\n",
       "  color: #000000;\n",
       "  background-color: #eeeeee;\n",
       "  font-size: medium;\n",
       "  margin: 2px 0px;\n",
       "}\n",
       ".features .xft .f {\n",
       "  color: #000000;\n",
       "  background-color: #eeeeee;\n",
       "  font-size: small;\n",
       "  font-weight: normal;\n",
       "}\n",
       ".tfsechead {\n",
       "    font-family: sans-serif;\n",
       "    font-size: small;\n",
       "    font-weight: bold;\n",
       "    color: var(--tfsechead);\n",
       "    unicode-bidi: embed;\n",
       "    text-align: start;\n",
       "}\n",
       ".structure {\n",
       "    font-family: sans-serif;\n",
       "    font-size: small;\n",
       "    font-weight: bold;\n",
       "    color: var(--structure);\n",
       "    unicode-bidi: embed;\n",
       "    text-align: start;\n",
       "}\n",
       ".comments {\n",
       "    display: flex;\n",
       "    justify-content: flex-start;\n",
       "    align-items: flex-start;\n",
       "    align-content: flex-start;\n",
       "    flex-flow: column nowrap;\n",
       "}\n",
       ".nd, a:link.nd {\n",
       "    font-family: sans-serif;\n",
       "    font-size: small;\n",
       "    color: var(--node);\n",
       "    vertical-align: super;\n",
       "    direction: ltr ! important;\n",
       "    unicode-bidi: embed;\n",
       "}\n",
       ".lex {\n",
       "  color: var(--lex-color);;\n",
       "}\n",
       ".children,.children.ltr {\n",
       "    display: flex;\n",
       "    border: 0;\n",
       "    background-color: #ffffff;\n",
       "    justify-content: flex-start;\n",
       "    align-items: flex-start;\n",
       "    align-content: flex-start;\n",
       "}\n",
       ".children.stretch {\n",
       "    align-items: stretch;\n",
       "}\n",
       ".children.hor {\n",
       "    flex-flow: row nowrap;\n",
       "}\n",
       ".children.hor.wrap {\n",
       "    flex-flow: row wrap;\n",
       "}\n",
       ".children.ver {\n",
       "    flex-flow: column nowrap;\n",
       "}\n",
       ".children.ver.wrap {\n",
       "    flex-flow: column wrap;\n",
       "}\n",
       ".contnr {\n",
       "    width: fit-content;\n",
       "    display: flex;\n",
       "    justify-content: flex-start;\n",
       "    align-items: flex-start;\n",
       "    align-content: flex-start;\n",
       "    flex-flow: column nowrap;\n",
       "    background: #ffffff none repeat scroll 0 0;\n",
       "    padding:  10px 2px 2px 2px;\n",
       "    margin: 16px 2px 2px 2px;\n",
       "    border-style: solid;\n",
       "    font-size: small;\n",
       "}\n",
       ".contnr.trm {\n",
       "    background-attachment: local;\n",
       "}\n",
       ".contnr.cnul {\n",
       "    padding:  0;\n",
       "    margin: 0;\n",
       "    border-style: solid;\n",
       "    font-size: xx-small;\n",
       "}\n",
       ".contnr.cnul,.lbl.cnul {\n",
       "    border-color: var(--border-color-nul);\n",
       "    border-width: var(--border-width-nul);\n",
       "    border-radius: var(--border-width-nul);\n",
       "}\n",
       ".contnr.c0,.lbl.c0 {\n",
       "    border-color: var(--border-color0);\n",
       "    border-width: var(--border-width0);\n",
       "    border-radius: var(--border-width0);\n",
       "}\n",
       ".contnr.c1,.lbl.c1 {\n",
       "    border-color: var(--border-color1);\n",
       "    border-width: var(--border-width1);\n",
       "    border-radius: var(--border-width1);\n",
       "}\n",
       ".contnr.c2,.lbl.c2 {\n",
       "    border-color: var(--border-color2);\n",
       "    border-width: var(--border-width2);\n",
       "    border-radius: var(--border-width2);\n",
       "}\n",
       ".contnr.c3,.lbl.c3 {\n",
       "    border-color: var(--border-color3);\n",
       "    border-width: var(--border-width3);\n",
       "    border-radius: var(--border-width3);\n",
       "}\n",
       ".contnr.c4,.lbl.c4 {\n",
       "    border-color: var(--border-color4);\n",
       "    border-width: var(--border-width4);\n",
       "    border-radius: var(--border-width4);\n",
       "}\n",
       "span.plain {\n",
       "    /*display: inline-block;*/\n",
       "    display: inline-flex;\n",
       "    flex-flow: row wrap;\n",
       "    white-space: pre-wrap;\n",
       "}\n",
       "span.break {\n",
       "  flex-basis: 100%;\n",
       "  height: 0;\n",
       "}\n",
       ".plain {\n",
       "    background-color: #ffffff;\n",
       "}\n",
       ".plain.l,.contnr.l,.contnr.l>.lbl {\n",
       "    border-left-style: dotted\n",
       "}\n",
       ".plain.r,.contnr.r,.contnr.r>.lbl {\n",
       "    border-right-style: dotted\n",
       "}\n",
       ".plain.lno,.contnr.lno,.contnr.lno>.lbl {\n",
       "    border-left-style: none\n",
       "}\n",
       ".plain.rno,.contnr.rno,.contnr.rno>.lbl {\n",
       "    border-right-style: none\n",
       "}\n",
       ".plain.l {\n",
       "    padding-left: 4px;\n",
       "    margin-left: 2px;\n",
       "    border-width: var(--border-width-plain);\n",
       "}\n",
       ".plain.r {\n",
       "    padding-right: 4px;\n",
       "    margin-right: 2px;\n",
       "    border-width: var(--border-width-plain);\n",
       "}\n",
       ".lbl {\n",
       "    font-family: monospace;\n",
       "    margin-top: -24px;\n",
       "    margin-left: 20px;\n",
       "    background: #ffffff none repeat scroll 0 0;\n",
       "    padding: 0 6px;\n",
       "    border-style: solid;\n",
       "    display: block;\n",
       "    color: var(--label)\n",
       "}\n",
       ".lbl.trm {\n",
       "    background-attachment: local;\n",
       "    margin-top: 2px;\n",
       "    margin-left: 2px;\n",
       "    padding: 2px 2px;\n",
       "    border-style: none;\n",
       "}\n",
       ".lbl.cnul {\n",
       "    font-size: xx-small;\n",
       "}\n",
       ".lbl.c0 {\n",
       "    font-size: small;\n",
       "}\n",
       ".lbl.c1 {\n",
       "    font-size: small;\n",
       "}\n",
       ".lbl.c2 {\n",
       "    font-size: medium;\n",
       "}\n",
       ".lbl.c3 {\n",
       "    font-size: medium;\n",
       "}\n",
       ".lbl.c4 {\n",
       "    font-size: large;\n",
       "}\n",
       ".occs, a:link.occs {\n",
       "    font-size: small;\n",
       "}\n",
       "\n",
       "/* PROVENANCE */\n",
       "\n",
       "div.prov {\n",
       "\tmargin: 40px;\n",
       "\tpadding: 20px;\n",
       "\tborder: 2px solid var(--fog-rim);\n",
       "}\n",
       "div.pline {\n",
       "\tdisplay: flex;\n",
       "\tflex-flow: row nowrap;\n",
       "\tjustify-content: stretch;\n",
       "\talign-items: baseline;\n",
       "}\n",
       "div.p2line {\n",
       "\tmargin-left: 2em;\n",
       "\tdisplay: flex;\n",
       "\tflex-flow: row nowrap;\n",
       "\tjustify-content: stretch;\n",
       "\talign-items: baseline;\n",
       "}\n",
       "div.psline {\n",
       "\tdisplay: flex;\n",
       "\tflex-flow: row nowrap;\n",
       "\tjustify-content: stretch;\n",
       "\talign-items: baseline;\n",
       "\tbackground-color: var(--gold-mist-back);\n",
       "}\n",
       "div.pname {\n",
       "\tflex: 0 0 5rem;\n",
       "\tfont-weight: bold;\n",
       "}\n",
       "div.pval {\n",
       "    flex: 1 1 auto;\n",
       "}\n",
       "\n",
       "/* KEYBOARD */\n",
       ".ccoff {\n",
       "  background-color: inherit;\n",
       "}\n",
       ".ccon {\n",
       "  background-color: yellow ! important;\n",
       "}\n",
       ".ccon,.ccoff {\n",
       "  padding: 0.2rem;\n",
       "  margin: 0.2rem;\n",
       "  border: 0.1rem solid var(--letter-box-border);\n",
       "  border-radius: 0.1rem;\n",
       "}\n",
       ".ccline {\n",
       "  font-size: xx-large ! important;\n",
       "  font-weight: bold;\n",
       "  line-height: 2em ! important;\n",
       "}\n",
       "/* TF header */\n",
       "\n",
       "summary {\n",
       "  /* needed to override the normalize.less\n",
       "   * in the classical jupyter notebook\n",
       "   */\n",
       "  display: list-item ! important;\n",
       "}\n",
       "\n",
       ".fcorpus {\n",
       "  display: flex;\n",
       "  flex-flow: column nowrap;\n",
       "  justify-content: flex-start;\n",
       "  align-items: flex-start;\n",
       "  align-content: flex-start;\n",
       "}\n",
       ".frow {\n",
       "  display: flex;\n",
       "  flex-flow: row nowrap;\n",
       "  justify-content: flex-start;\n",
       "  align-items: flex-start;\n",
       "  align-content: flex-start;\n",
       "}\n",
       ".fmeta {\n",
       "  display: flex;\n",
       "  flex-flow: column nowrap;\n",
       "  justify-content: flex-start;\n",
       "  align-items: flex-start;\n",
       "  align-content: flex-start;\n",
       "}\n",
       ".fmetarow {\n",
       "  display: flex;\n",
       "  flex-flow: row nowrap;\n",
       "  justify-content: flex-start;\n",
       "  align-items: flex-start;\n",
       "  align-content: flex-start;\n",
       "}\n",
       ".fmetakey {\n",
       "  min-width: 8em;\n",
       "  font-family: monospace;\n",
       "}\n",
       ".fnamecat {\n",
       "  min-width: 8em;\n",
       "}\n",
       ".fnamecat.edge {\n",
       "  font-weight: bold;\n",
       "  font-style: italic;\n",
       "}\n",
       ".fmono {\n",
       "    font-family: monospace;\n",
       "}\n",
       "\n",
       ":root {\n",
       "\t--node:               hsla(120, 100%,  20%, 1.0  );\n",
       "\t--label:              hsla(  0, 100%,  20%, 1.0  );\n",
       "\t--tfsechead:          hsla(  0, 100%,  25%, 1.0  );\n",
       "\t--structure:          hsla(120, 100%,  25%, 1.0  );\n",
       "\t--features:           hsla(  0,   0%,  30%, 1.0  );\n",
       "  --text-color:         hsla( 60,  80%,  10%, 1.0  );\n",
       "  --lex-color:          hsla(220,  90%,  60%, 1.0  );\n",
       "  --meta-color:         hsla(  0,   0%,  90%, 0.7  );\n",
       "  --meta-width:         3px;\n",
       "  --border-color-nul:   hsla(  0,   0%,  90%, 0.5  );\n",
       "  --border-color0:      hsla(  0,   0%,  90%, 0.9  );\n",
       "  --border-color1:      hsla(  0,   0%,  80%, 0.9  );\n",
       "  --border-color2:      hsla(  0,   0%,  70%, 0.9  );\n",
       "  --border-color3:      hsla(  0,   0%,  80%, 0.8  );\n",
       "  --border-color4:      hsla(  0,   0%,  60%, 0.9  );\n",
       "\t--letter-box-border:  hsla(  0,   0%,  80%, 0.5  );\n",
       "  --border-width-nul:   2px;\n",
       "  --border-width0:      2px;\n",
       "  --border-width1:      3px;\n",
       "  --border-width2:      4px;\n",
       "  --border-width3:      6px;\n",
       "  --border-width4:      5px;\n",
       "  --border-width-plain: 2px;\n",
       "}\n",
       ".hl {\n",
       "  background-color: var(--hl-strong);\n",
       "}\n",
       "span.hl {\n",
       "\tbackground-color: var(--hl-strong);\n",
       "\tborder-width: 0;\n",
       "\tborder-radius: 2px;\n",
       "\tborder-style: solid;\n",
       "}\n",
       "div.contnr.hl,div.lbl.hl {\n",
       "  background-color: var(--hl-strong);\n",
       "}\n",
       "div.contnr.hl {\n",
       "  border-color: var(--hl-rim) ! important;\n",
       "\tborder-width: 4px ! important;\n",
       "}\n",
       "\n",
       "span.hlbx {\n",
       "\tborder-color: var(--hl-rim);\n",
       "\tborder-width: 4px ! important;\n",
       "\tborder-style: solid;\n",
       "\tborder-radius: 6px;\n",
       "  padding: 4px;\n",
       "  margin: 4px;\n",
       "}\n",
       "\n",
       ":root {\n",
       "\t--hl-strong:        hsla( 60, 100%,  70%, 0.9  );\n",
       "\t--hl-rim:           hsla( 55,  80%,  50%, 1.0  );\n",
       "}\n",
       "</style>"
      ],
      "text/plain": [
       "<IPython.core.display.HTML object>"
      ]
     },
     "metadata": {},
     "output_type": "display_data"
    },
    {
     "data": {
      "text/html": [
       "\n",
       "<script>\n",
       "globalThis.copyChar = (el, c) => {\n",
       "    for (const el of document.getElementsByClassName('ccon')) {\n",
       "        el.className = 'ccoff'\n",
       "    }\n",
       "    el.className = 'ccon'\n",
       "    navigator.clipboard.writeText(String.fromCharCode(c))\n",
       "}\n",
       "</script>\n"
      ],
      "text/plain": [
       "<IPython.core.display.HTML object>"
      ]
     },
     "metadata": {},
     "output_type": "display_data"
    },
    {
     "data": {
      "text/html": [
       "<div><b>Text-Fabric API:</b> names <a target=\"_blank\" href=\"https://annotation.github.io/text-fabric/tf/cheatsheet.html\" title=\"doc\">N F E L T S C TF</a> directly usable</div><hr>"
      ],
      "text/plain": [
       "<IPython.core.display.HTML object>"
      ]
     },
     "metadata": {},
     "output_type": "display_data"
    }
   ],
   "source": [
    "NA = use(\"ETCBC/nestle1904\", hoist=globals())\n",
    "A = use(\"saulocantanhede/tfgreek2/programs\", version=\"0.5.0\", hoist=globals())\n",
    "#A = use(\"app:~/Downloads/XML-nestle1904/programs/app\", version=\"0.5.0\", hoist=globals())"
   ]
  },
  {
   "cell_type": "markdown",
   "id": "c9d55388-f997-44b8-9d2c-1617c96b5361",
   "metadata": {},
   "source": [
    "# Operational matters\n",
    "\n",
    "You can now get a report of the memory footprint of a TF dataset:"
   ]
  },
  {
   "cell_type": "code",
   "execution_count": 151,
   "id": "eb080e3a-fb49-4a52-87f0-72471d9233b5",
   "metadata": {},
   "outputs": [
    {
     "name": "stdout",
     "output_type": "stream",
     "text": [
      "                                                "
     ]
    },
    {
     "data": {
      "text/markdown": [
       "\n",
       "# 59 features\n",
       "\n",
       "feature | members | size in bytes\n",
       "--- | --- | ---\n",
       "__levUp__ | 341,688 | 132,441,444\n",
       "parent | 114,878 | 30,444,928\n",
       "__levDown__ | 203,909 | 26,443,128\n",
       "oslots | 3 | 24,462,720\n",
       "__boundary__ | 2 | 21,671,488\n",
       "cls | 283,355 | 18,420,738\n",
       "id | 137,779 | 17,505,299\n",
       "ref | 137,779 | 17,322,496\n",
       "__order__ | 341,688 | 12,300,808\n",
       "unicode | 137,779 | 11,383,536\n",
       "text | 137,779 | 10,860,286\n",
       "normalized | 137,779 | 10,773,392\n",
       "gloss | 137,779 | 10,312,734\n",
       "rule | 161,050 | 9,801,842\n",
       "type | 155,789 | 9,606,029\n",
       "lemma | 137,779 | 9,581,098\n",
       "num | 145,817 | 9,385,952\n",
       "strong | 137,779 | 9,382,667\n",
       "typ | 145,546 | 9,381,543\n",
       "chapter | 145,983 | 9,331,911\n",
       "verse | 145,723 | 9,327,334\n",
       "book | 145,750 | 9,325,493\n",
       "ln | 126,879 | 9,226,626\n",
       "frame | 25,491 | 9,204,957\n",
       "morph | 137,779 | 9,160,464\n",
       "book_short | 137,806 | 9,102,940\n",
       "after | 137,779 | 9,101,970\n",
       "domain | 126,879 | 8,893,463\n",
       "sibling | 24,774 | 8,655,443\n",
       "role | 113,179 | 8,412,750\n",
       "number | 98,937 | 8,013,316\n",
       "case | 79,518 | 4,848,327\n",
       "gender | 73,975 | 4,693,006\n",
       "articular | 53,093 | 4,108,190\n",
       "framespec | 25,493 | 3,588,622\n",
       "subjref | 16,575 | 2,462,376\n",
       "junction | 33,327 | 2,244,083\n",
       "mood | 28,357 | 2,105,157\n",
       "tense | 28,357 | 2,105,143\n",
       "voice | 28,357 | 2,105,032\n",
       "otype | 4 | 1,631,874\n",
       "__rank__ | 341,688 | 1,452,248\n",
       "subjrefspec | 16,575 | 1,407,777\n",
       "referent | 14,471 | 1,389,091\n",
       "function | 21,490 | 1,191,852\n",
       "person | 19,419 | 1,133,815\n",
       "nodeId | 10,530 | 945,552\n",
       "crule | 10,530 | 589,947\n",
       "__sections__ | 2 | 576,383\n",
       "clauseType | 9,990 | 574,780\n",
       "discontinuous | 6,034 | 464,002\n",
       "cltype | 4,854 | 283,634\n",
       "appositioncontainer | 1,908 | 127,290\n",
       "rela | 1,570 | 117,829\n",
       "degree | 513 | 33,004\n",
       "__characters__ | 1 | 29,925\n",
       "lang | 27 | 1,983\n",
       "__levels__ | 8 | 1,730\n",
       "note | 1 | 332\n",
       "TOTAL | 5,189,583 | 549,451,779"
      ],
      "text/plain": [
       "<IPython.core.display.Markdown object>"
      ]
     },
     "metadata": {},
     "output_type": "display_data"
    }
   ],
   "source": [
    "A.footprint()"
   ]
  },
  {
   "cell_type": "markdown",
   "id": "fa30d74f-febe-4f2c-b31a-a416e8a7f684",
   "metadata": {},
   "source": [
    "# Existence of error nodes"
   ]
  },
  {
   "cell_type": "code",
   "execution_count": 104,
   "id": "1b65191a-8c6f-4524-b7af-84a26262320d",
   "metadata": {},
   "outputs": [
    {
     "data": {
      "text/plain": [
       "()"
      ]
     },
     "execution_count": 104,
     "metadata": {},
     "output_type": "execute_result"
    }
   ],
   "source": [
    "F.otype.s(\"error\")"
   ]
  },
  {
   "cell_type": "markdown",
   "id": "1ce4a615-eb0e-4f4d-a2c4-b0767606f426",
   "metadata": {},
   "source": [
    "No error nodes anymore."
   ]
  },
  {
   "cell_type": "markdown",
   "id": "f05040de-9daf-4123-96f6-54ca9d9c6b82",
   "metadata": {},
   "source": [
    "# Books\n",
    "We changed from the abbreviation of the name to the names itself."
   ]
  },
  {
   "cell_type": "code",
   "execution_count": 186,
   "id": "6260689d-bc83-42c6-8f60-c909b7947d0e",
   "metadata": {},
   "outputs": [
    {
     "name": "stdout",
     "output_type": "stream",
     "text": [
      "137780 MAT\n",
      "137781 MRK\n",
      "137782 LUK\n",
      "137783 JHN\n",
      "137784 ACT\n",
      "137785 ROM\n",
      "137786 1CO\n",
      "137787 2CO\n",
      "137788 GAL\n",
      "137789 EPH\n",
      "137790 PHP\n",
      "137791 COL\n",
      "137792 1TH\n",
      "137793 2TH\n",
      "137794 1TI\n",
      "137795 2TI\n",
      "137796 TIT\n",
      "137797 PHM\n",
      "137798 HEB\n",
      "137799 JAS\n",
      "137800 1PE\n",
      "137801 2PE\n",
      "137802 1JN\n",
      "137803 2JN\n",
      "137804 3JN\n",
      "137805 JUD\n",
      "137806 REV\n",
      "137780 Matthew\n",
      "137781 Mark\n",
      "137782 Luke\n",
      "137783 John\n",
      "137784 Acts\n",
      "137785 Romans\n",
      "137786 1Corinthians\n",
      "137787 2Corinthians\n",
      "137788 Galatians\n",
      "137789 Ephesians\n",
      "137790 Philippians\n",
      "137791 Colossians\n",
      "137792 1Thessalonians\n",
      "137793 2Thessalonians\n",
      "137794 1Timothy\n",
      "137795 2Timothy\n",
      "137796 Titus\n",
      "137797 Philemon\n",
      "137798 Hebrews\n",
      "137799 James\n",
      "137800 1Peter\n",
      "137801 2Peter\n",
      "137802 1John\n",
      "137803 2John\n",
      "137804 3John\n",
      "137805 Jude\n",
      "137806 Revelation\n"
     ]
    }
   ],
   "source": [
    "for b in F.otype.s(\"book\"):\n",
    "    print(f\"{b} {NA.sectionStrFromNode(b)}\")\n",
    "for b in F.otype.s(\"book\"):\n",
    "    print(f\"{b} {A.sectionStrFromNode(b)}\")"
   ]
  },
  {
   "cell_type": "markdown",
   "id": "050f9342-a1fd-48e9-b108-e5985603f816",
   "metadata": {},
   "source": [
    "# Features on `word` and `wg`\n",
    "\n",
    "Some features have values for `word` and for `wg` nodes. Yet we can get frequnecy lists for them separately."
   ]
  },
  {
   "cell_type": "code",
   "execution_count": 41,
   "id": "b1d04a34-c0e3-443e-91a7-ff81b2573050",
   "metadata": {},
   "outputs": [
    {
     "data": {
      "text/plain": [
       "(('noun', 28455),\n",
       " ('verb', 28357),\n",
       " ('det', 19786),\n",
       " ('conj', 18227),\n",
       " ('pron', 16177),\n",
       " ('prep', 10914),\n",
       " ('adj', 8452),\n",
       " ('adv', 6147),\n",
       " ('ptcl', 773),\n",
       " ('num', 476),\n",
       " ('intj', 15))"
      ]
     },
     "execution_count": 41,
     "metadata": {},
     "output_type": "execute_result"
    }
   ],
   "source": [
    "F.cls.freqList(nodeTypes={\"word\"})"
   ]
  },
  {
   "cell_type": "code",
   "execution_count": 42,
   "id": "4f8e856f-82a6-458e-9e89-0644d2cc1e42",
   "metadata": {},
   "outputs": [
    {
     "data": {
      "text/plain": [
       "(('np', 30911),\n",
       " ('cl', 30152),\n",
       " ('pp', 11169),\n",
       " ('vp', 207),\n",
       " ('adjp', 168),\n",
       " ('advp', 166),\n",
       " ('adv', 7),\n",
       " ('nump', 7),\n",
       " ('conj', 1))"
      ]
     },
     "execution_count": 42,
     "metadata": {},
     "output_type": "execute_result"
    }
   ],
   "source": [
    "F.cls.freqList(nodeTypes={\"wg\"})"
   ]
  },
  {
   "cell_type": "code",
   "execution_count": 43,
   "id": "70dd5f31-5829-45f4-aadb-68bfd42561ff",
   "metadata": {},
   "outputs": [
    {
     "data": {
      "text/plain": [
       "(('cl', 30152),)"
      ]
     },
     "execution_count": 43,
     "metadata": {},
     "output_type": "execute_result"
    }
   ],
   "source": [
    "F.cls.freqList(nodeTypes={\"clause\"})"
   ]
  },
  {
   "cell_type": "code",
   "execution_count": 44,
   "id": "e53591c5-2311-48da-8e2a-9ed3a8e24bb2",
   "metadata": {},
   "outputs": [
    {
     "data": {
      "text/plain": [
       "(('np', 30911),\n",
       " ('pp', 11169),\n",
       " ('vp', 207),\n",
       " ('adjp', 168),\n",
       " ('advp', 166),\n",
       " ('adv', 7),\n",
       " ('nump', 7),\n",
       " ('conj', 1))"
      ]
     },
     "execution_count": 44,
     "metadata": {},
     "output_type": "execute_result"
    }
   ],
   "source": [
    "F.cls.freqList(nodeTypes={\"phrase\"})"
   ]
  },
  {
   "cell_type": "markdown",
   "id": "663263a0-0255-444b-9ed4-5ee8ae4fabdb",
   "metadata": {},
   "source": [
    "## A sentence with discontinuous word groups"
   ]
  },
  {
   "cell_type": "code",
   "execution_count": 159,
   "id": "e1bf4e84-bf1a-420e-8bf3-5dae6a1829ea",
   "metadata": {},
   "outputs": [],
   "source": [
    "NA.displaySetup(withNodes=False,\n",
    "               standardFeatures=True,\n",
    "               hiddenTypes={\"clause\", \"phrase\"},\n",
    "               hideTypes=True,\n",
    "               queryFeatures=False)\n",
    "A.displaySetup(withNodes=False,\n",
    "               standardFeatures=True,\n",
    "               hiddenTypes={\"clause\", \"phrase\"},\n",
    "               hideTypes=True,\n",
    "               queryFeatures=False)"
   ]
  },
  {
   "cell_type": "code",
   "execution_count": 4,
   "id": "19190dfa-8416-4b9e-ad15-c4fa28f80353",
   "metadata": {},
   "outputs": [
    {
     "data": {
      "text/html": [
       "<div class=\"tfsechead \"><span class=\"ltr\"><a target=\"_blank\" href=\"https://public.saulocantanhede.org/tfgreek2/Matthew/1/2&amp;version=0.5.0\" title=\"Show this on the website\" sec=\"Matthew@1:2\">Matthew@1:2</a></span></div><div class=\" children\"><div class=\"contnr c2    \" ><div class=\"lbl c2  \" ><span class=\"nd\">sentence </span></div><div class=\"children hor wrap \"><div class=\"contnr c2    \" ><div class=\"lbl c2  \" ><span class=\"nd\">wg </span></div><div class=\"children hor wrap \"><div class=\"contnr c2    \" ><div class=\"lbl c2  \" ><span class=\"nd\">wg </span></div><div class=\"children hor wrap \"><div class=\"contnr c2    \" ><div class=\"lbl c2  \" ><span class=\"nd\">wg </span></div><div class=\"children hor wrap \"><div class=\"contnr c1   rno \" ><div class=\"lbl c1  \" ><span class=\"nd\">clause </span></div><div class=\"children hor wrap \"><div class=\"contnr c0 trm   \" ><div class=\"lbl c0 trm \" ><span class=\"txtu\">Ἀβραὰμ </span></div></div><div class=\"contnr c0 trm   \" ><div class=\"lbl c0 trm \" ><span class=\"txtu\">ἐγέννησεν </span></div></div></div></div><div class=\"contnr c2    \" ><div class=\"lbl c2  \" ><span class=\"nd\">wg </span></div><div class=\"children hor wrap \"><div class=\"contnr c1   lno \" ><div class=\"lbl c1  \" ><span class=\"nd\">clause </span></div><div class=\"children hor wrap \"><div class=\"contnr c1    \" ><div class=\"lbl c1  \" ><span class=\"nd\">phrase </span></div><div class=\"children hor wrap \"><div class=\"contnr c0 trm   \" ><div class=\"lbl c0 trm \" ><span class=\"txtu\">τὸν </span></div></div><div class=\"contnr c0 trm   \" ><div class=\"lbl c0 trm \" ><span class=\"txtu\">Ἰσαάκ,</span></div></div></div></div></div></div></div></div></div></div><div class=\"contnr c2    \" ><div class=\"lbl c2  \" ><span class=\"nd\">wg </span></div><div class=\"children hor wrap \"><div class=\"contnr c2   r \" ><div class=\"lbl c2  \" ><span class=\"nd\">wg </span></div><div class=\"children hor wrap \"><div class=\"contnr c1   r \" ><div class=\"lbl c1  \" ><span class=\"nd\">clause </span></div><div class=\"children hor wrap \"><div class=\"contnr c0 trm   \" ><div class=\"lbl c0 trm \" ><span class=\"txtu\">Ἰσαὰκ </span></div></div></div></div></div></div><div class=\"contnr c0 trm   \" ><div class=\"lbl c0 trm \" ><span class=\"txtu\">δὲ </span></div></div><div class=\"contnr c2   l \" ><div class=\"lbl c2  \" ><span class=\"nd\">wg </span></div><div class=\"children hor wrap \"><div class=\"contnr c1   l rno \" ><div class=\"lbl c1  \" ><span class=\"nd\">clause </span></div><div class=\"children hor wrap \"><div class=\"contnr c0 trm   \" ><div class=\"lbl c0 trm \" ><span class=\"txtu\">ἐγέννησεν </span></div></div></div></div><div class=\"contnr c2    \" ><div class=\"lbl c2  \" ><span class=\"nd\">wg </span></div><div class=\"children hor wrap \"><div class=\"contnr c1   lno \" ><div class=\"lbl c1  \" ><span class=\"nd\">clause </span></div><div class=\"children hor wrap \"><div class=\"contnr c1    \" ><div class=\"lbl c1  \" ><span class=\"nd\">phrase </span></div><div class=\"children hor wrap \"><div class=\"contnr c0 trm   \" ><div class=\"lbl c0 trm \" ><span class=\"txtu\">τὸν </span></div></div><div class=\"contnr c0 trm   \" ><div class=\"lbl c0 trm \" ><span class=\"txtu\">Ἰακώβ,</span></div></div></div></div></div></div></div></div></div></div></div></div><div class=\"contnr c2    \" ><div class=\"lbl c2  \" ><span class=\"nd\">wg </span></div><div class=\"children hor wrap \"><div class=\"contnr c2   r \" ><div class=\"lbl c2  \" ><span class=\"nd\">wg </span></div><div class=\"children hor wrap \"><div class=\"contnr c1   r \" ><div class=\"lbl c1  \" ><span class=\"nd\">clause </span></div><div class=\"children hor wrap \"><div class=\"contnr c0 trm   \" ><div class=\"lbl c0 trm \" ><span class=\"txtu\">Ἰακὼβ </span></div></div></div></div></div></div><div class=\"contnr c0 trm   \" ><div class=\"lbl c0 trm \" ><span class=\"txtu\">δὲ </span></div></div><div class=\"contnr c2   l \" ><div class=\"lbl c2  \" ><span class=\"nd\">wg </span></div><div class=\"children hor wrap \"><div class=\"contnr c1   l rno \" ><div class=\"lbl c1  \" ><span class=\"nd\">clause </span></div><div class=\"children hor wrap \"><div class=\"contnr c0 trm   \" ><div class=\"lbl c0 trm \" ><span class=\"txtu\">ἐγέννησεν </span></div></div></div></div><div class=\"contnr c2    \" ><div class=\"lbl c2  \" ><span class=\"nd\">wg </span></div><div class=\"children hor wrap \"><div class=\"contnr c2    \" ><div class=\"lbl c2  \" ><span class=\"nd\">wg </span></div><div class=\"children hor wrap \"><div class=\"contnr c1   lno rno \" ><div class=\"lbl c1  \" ><span class=\"nd\">clause </span></div><div class=\"children hor wrap \"><div class=\"contnr c1    \" ><div class=\"lbl c1  \" ><span class=\"nd\">phrase </span></div><div class=\"children hor wrap \"><div class=\"contnr c0 trm   \" ><div class=\"lbl c0 trm \" ><span class=\"txtu\">τὸν </span></div></div><div class=\"contnr c0 trm   \" ><div class=\"lbl c0 trm \" ><span class=\"txtu\">Ἰούδαν </span></div></div></div></div></div></div></div></div><div class=\"contnr c2    \" ><div class=\"lbl c2  \" ><span class=\"nd\">wg </span></div><div class=\"children hor wrap \"><div class=\"contnr c1   lno rno \" ><div class=\"lbl c1  \" ><span class=\"nd\">clause </span></div><div class=\"children hor wrap \"><div class=\"contnr c0 trm   \" ><div class=\"lbl c0 trm \" ><span class=\"txtu\">καὶ </span></div></div></div></div><div class=\"contnr c2    \" ><div class=\"lbl c2  \" ><span class=\"nd\">wg </span></div><div class=\"children hor wrap \"><div class=\"contnr c1   lno rno \" ><div class=\"lbl c1  \" ><span class=\"nd\">clause </span></div><div class=\"children hor wrap \"><div class=\"contnr c1   rno \" ><div class=\"lbl c1  \" ><span class=\"nd\">phrase </span></div><div class=\"children hor wrap \"><div class=\"contnr c0 trm   \" ><div class=\"lbl c0 trm \" ><span class=\"txtu\">τοὺς </span></div></div></div></div></div></div><div class=\"contnr c2    \" ><div class=\"lbl c2  \" ><span class=\"nd\">wg </span></div><div class=\"children hor wrap \"><div class=\"contnr c1   lno \" ><div class=\"lbl c1  \" ><span class=\"nd\">clause </span></div><div class=\"children hor wrap \"><div class=\"contnr c1   lno \" ><div class=\"lbl c1  \" ><span class=\"nd\">phrase </span></div><div class=\"children hor wrap \"><div class=\"contnr c1    \" ><div class=\"lbl c1  \" ><span class=\"nd\">phrase </span></div><div class=\"children hor wrap \"><div class=\"contnr c0 trm   \" ><div class=\"lbl c0 trm \" ><span class=\"txtu\">ἀδελφοὺς </span></div></div><div class=\"contnr c0 trm   \" ><div class=\"lbl c0 trm \" ><span class=\"txtu\">αὐτοῦ,</span></div></div></div></div></div></div></div></div></div></div></div></div></div></div></div></div></div></div></div></div><div class=\"contnr c2    \" ><div class=\"lbl c2  \" ><span class=\"nd\">wg </span></div><div class=\"children hor wrap \"><div class=\"contnr c2   r \" ><div class=\"lbl c2  \" ><span class=\"nd\">wg </span></div><div class=\"children hor wrap \"><div class=\"contnr c1   r \" ><div class=\"lbl c1  \" ><span class=\"nd\">clause </span></div><div class=\"children hor wrap \"><div class=\"contnr c0 trm   \" ><div class=\"lbl c0 trm \" ><span class=\"txtu\">Ἰούδας </span></div></div></div></div></div></div><div class=\"contnr c0 trm   \" ><div class=\"lbl c0 trm \" ><span class=\"txtu\">δὲ </span></div></div><div class=\"contnr c2   l \" ><div class=\"lbl c2  \" ><span class=\"nd\">wg </span></div><div class=\"children hor wrap \"><div class=\"contnr c1   l rno \" ><div class=\"lbl c1  \" ><span class=\"nd\">clause </span></div><div class=\"children hor wrap \"><div class=\"contnr c0 trm   \" ><div class=\"lbl c0 trm \" ><span class=\"txtu\">ἐγέννησεν </span></div></div></div></div><div class=\"contnr c2    \" ><div class=\"lbl c2  \" ><span class=\"nd\">wg </span></div><div class=\"children hor wrap \"><div class=\"contnr c2    \" ><div class=\"lbl c2  \" ><span class=\"nd\">wg </span></div><div class=\"children hor wrap \"><div class=\"contnr c1   lno rno \" ><div class=\"lbl c1  \" ><span class=\"nd\">clause </span></div><div class=\"children hor wrap \"><div class=\"contnr c1    \" ><div class=\"lbl c1  \" ><span class=\"nd\">phrase </span></div><div class=\"children hor wrap \"><div class=\"contnr c0 trm   \" ><div class=\"lbl c0 trm \" ><span class=\"txtu\">τὸν </span></div></div><div class=\"contnr c0 trm   \" ><div class=\"lbl c0 trm \" ><span class=\"txtu\">Φαρὲς </span></div></div></div></div></div></div></div></div><div class=\"contnr c2    \" ><div class=\"lbl c2  \" ><span class=\"nd\">wg </span></div><div class=\"children hor wrap \"><div class=\"contnr c1   lno rno \" ><div class=\"lbl c1  \" ><span class=\"nd\">clause </span></div><div class=\"children hor wrap \"><div class=\"contnr c0 trm   \" ><div class=\"lbl c0 trm \" ><span class=\"txtu\">καὶ </span></div></div></div></div><div class=\"contnr c2    \" ><div class=\"lbl c2  \" ><span class=\"nd\">wg </span></div><div class=\"children hor wrap \"><div class=\"contnr c1   lno rno \" ><div class=\"lbl c1  \" ><span class=\"nd\">clause </span></div><div class=\"children hor wrap \"><div class=\"contnr c1    \" ><div class=\"lbl c1  \" ><span class=\"nd\">phrase </span></div><div class=\"children hor wrap \"><div class=\"contnr c0 trm   \" ><div class=\"lbl c0 trm \" ><span class=\"txtu\">τὸν </span></div></div><div class=\"contnr c0 trm   \" ><div class=\"lbl c0 trm \" ><span class=\"txtu\">Ζαρὰ </span></div></div></div></div></div></div></div></div></div></div></div></div><div class=\"contnr c2    \" ><div class=\"lbl c2  \" ><span class=\"nd\">wg </span></div><div class=\"children hor wrap \"><div class=\"contnr c1   lno rno \" ><div class=\"lbl c1  \" ><span class=\"nd\">clause </span></div><div class=\"children hor wrap \"><div class=\"contnr c1   rno \" ><div class=\"lbl c1  \" ><span class=\"nd\">phrase </span></div><div class=\"children hor wrap \"><div class=\"contnr c0 trm   \" ><div class=\"lbl c0 trm \" ><span class=\"txtu\">ἐκ </span></div></div></div></div></div></div><div class=\"contnr c2    \" ><div class=\"lbl c2  \" ><span class=\"nd\">wg </span></div><div class=\"children hor wrap \"><div class=\"contnr c1   lno \" ><div class=\"lbl c1  \" ><span class=\"nd\">clause </span></div><div class=\"children hor wrap \"><div class=\"contnr c1   lno \" ><div class=\"lbl c1  \" ><span class=\"nd\">phrase </span></div><div class=\"children hor wrap \"><div class=\"contnr c1    \" ><div class=\"lbl c1  \" ><span class=\"nd\">phrase </span></div><div class=\"children hor wrap \"><div class=\"contnr c0 trm   \" ><div class=\"lbl c0 trm \" ><span class=\"txtu\">τῆς </span></div></div><div class=\"contnr c0 trm   \" ><div class=\"lbl c0 trm \" ><span class=\"txtu\">Θάμαρ,</span></div></div></div></div></div></div></div></div></div></div></div></div></div></div></div></div><div class=\"contnr c2    \" ><div class=\"lbl c2  \" ><span class=\"nd\">wg </span></div><div class=\"children hor wrap \"><div class=\"contnr c2   r \" ><div class=\"lbl c2  \" ><span class=\"nd\">wg </span></div><div class=\"children hor wrap \"><div class=\"contnr c1   r \" ><div class=\"lbl c1  \" ><span class=\"nd\">clause </span></div><div class=\"children hor wrap \"><div class=\"contnr c0 trm   \" ><div class=\"lbl c0 trm \" ><span class=\"txtu\">Φαρὲς </span></div></div></div></div></div></div><div class=\"contnr c0 trm   \" ><div class=\"lbl c0 trm \" ><span class=\"txtu\">δὲ </span></div></div><div class=\"contnr c2   l \" ><div class=\"lbl c2  \" ><span class=\"nd\">wg </span></div><div class=\"children hor wrap \"><div class=\"contnr c1   l rno \" ><div class=\"lbl c1  \" ><span class=\"nd\">clause </span></div><div class=\"children hor wrap \"><div class=\"contnr c0 trm   \" ><div class=\"lbl c0 trm \" ><span class=\"txtu\">ἐγέννησεν </span></div></div></div></div><div class=\"contnr c2    \" ><div class=\"lbl c2  \" ><span class=\"nd\">wg </span></div><div class=\"children hor wrap \"><div class=\"contnr c1   lno \" ><div class=\"lbl c1  \" ><span class=\"nd\">clause </span></div><div class=\"children hor wrap \"><div class=\"contnr c1    \" ><div class=\"lbl c1  \" ><span class=\"nd\">phrase </span></div><div class=\"children hor wrap \"><div class=\"contnr c0 trm   \" ><div class=\"lbl c0 trm \" ><span class=\"txtu\">τὸν </span></div></div><div class=\"contnr c0 trm   \" ><div class=\"lbl c0 trm \" ><span class=\"txtu\">Ἐσρώμ,</span></div></div></div></div></div></div></div></div></div></div></div></div><div class=\"contnr c2    \" ><div class=\"lbl c2  \" ><span class=\"nd\">wg </span></div><div class=\"children hor wrap \"><div class=\"contnr c2   r \" ><div class=\"lbl c2  \" ><span class=\"nd\">wg </span></div><div class=\"children hor wrap \"><div class=\"contnr c1   r \" ><div class=\"lbl c1  \" ><span class=\"nd\">clause </span></div><div class=\"children hor wrap \"><div class=\"contnr c0 trm   \" ><div class=\"lbl c0 trm \" ><span class=\"txtu\">Ἐσρὼμ </span></div></div></div></div></div></div><div class=\"contnr c0 trm   \" ><div class=\"lbl c0 trm \" ><span class=\"txtu\">δὲ </span></div></div><div class=\"contnr c2   l \" ><div class=\"lbl c2  \" ><span class=\"nd\">wg </span></div><div class=\"children hor wrap \"><div class=\"contnr c1   l rno \" ><div class=\"lbl c1  \" ><span class=\"nd\">clause </span></div><div class=\"children hor wrap \"><div class=\"contnr c0 trm   \" ><div class=\"lbl c0 trm \" ><span class=\"txtu\">ἐγέννησεν </span></div></div></div></div><div class=\"contnr c2    \" ><div class=\"lbl c2  \" ><span class=\"nd\">wg </span></div><div class=\"children hor wrap \"><div class=\"contnr c1   lno \" ><div class=\"lbl c1  \" ><span class=\"nd\">clause </span></div><div class=\"children hor wrap \"><div class=\"contnr c1    \" ><div class=\"lbl c1  \" ><span class=\"nd\">phrase </span></div><div class=\"children hor wrap \"><div class=\"contnr c0 trm   \" ><div class=\"lbl c0 trm \" ><span class=\"txtu\">τὸν </span></div></div><div class=\"contnr c0 trm   \" ><div class=\"lbl c0 trm \" ><span class=\"txtu\">Ἀράμ,</span></div></div></div></div></div></div></div></div></div></div></div></div><div class=\"contnr c2    \" ><div class=\"lbl c2  \" ><span class=\"nd\">wg </span></div><div class=\"children hor wrap \"><div class=\"contnr c2   r \" ><div class=\"lbl c2  \" ><span class=\"nd\">wg </span></div><div class=\"children hor wrap \"><div class=\"contnr c1   r \" ><div class=\"lbl c1  \" ><span class=\"nd\">clause </span></div><div class=\"children hor wrap \"><div class=\"contnr c0 trm   \" ><div class=\"lbl c0 trm \" ><span class=\"txtu\">Ἀρὰμ </span></div></div></div></div></div></div><div class=\"contnr c0 trm   \" ><div class=\"lbl c0 trm \" ><span class=\"txtu\">δὲ </span></div></div><div class=\"contnr c2   l \" ><div class=\"lbl c2  \" ><span class=\"nd\">wg </span></div><div class=\"children hor wrap \"><div class=\"contnr c1   l rno \" ><div class=\"lbl c1  \" ><span class=\"nd\">clause </span></div><div class=\"children hor wrap \"><div class=\"contnr c0 trm   \" ><div class=\"lbl c0 trm \" ><span class=\"txtu\">ἐγέννησεν </span></div></div></div></div><div class=\"contnr c2    \" ><div class=\"lbl c2  \" ><span class=\"nd\">wg </span></div><div class=\"children hor wrap \"><div class=\"contnr c1   lno \" ><div class=\"lbl c1  \" ><span class=\"nd\">clause </span></div><div class=\"children hor wrap \"><div class=\"contnr c1    \" ><div class=\"lbl c1  \" ><span class=\"nd\">phrase </span></div><div class=\"children hor wrap \"><div class=\"contnr c0 trm   \" ><div class=\"lbl c0 trm \" ><span class=\"txtu\">τὸν </span></div></div><div class=\"contnr c0 trm   \" ><div class=\"lbl c0 trm \" ><span class=\"txtu\">Ἀμιναδάβ,</span></div></div></div></div></div></div></div></div></div></div></div></div><div class=\"contnr c2    \" ><div class=\"lbl c2  \" ><span class=\"nd\">wg </span></div><div class=\"children hor wrap \"><div class=\"contnr c2   r \" ><div class=\"lbl c2  \" ><span class=\"nd\">wg </span></div><div class=\"children hor wrap \"><div class=\"contnr c1   r \" ><div class=\"lbl c1  \" ><span class=\"nd\">clause </span></div><div class=\"children hor wrap \"><div class=\"contnr c0 trm   \" ><div class=\"lbl c0 trm \" ><span class=\"txtu\">Ἀμιναδὰβ </span></div></div></div></div></div></div><div class=\"contnr c0 trm   \" ><div class=\"lbl c0 trm \" ><span class=\"txtu\">δὲ </span></div></div><div class=\"contnr c2   l \" ><div class=\"lbl c2  \" ><span class=\"nd\">wg </span></div><div class=\"children hor wrap \"><div class=\"contnr c1   l rno \" ><div class=\"lbl c1  \" ><span class=\"nd\">clause </span></div><div class=\"children hor wrap \"><div class=\"contnr c0 trm   \" ><div class=\"lbl c0 trm \" ><span class=\"txtu\">ἐγέννησεν </span></div></div></div></div><div class=\"contnr c2    \" ><div class=\"lbl c2  \" ><span class=\"nd\">wg </span></div><div class=\"children hor wrap \"><div class=\"contnr c1   lno \" ><div class=\"lbl c1  \" ><span class=\"nd\">clause </span></div><div class=\"children hor wrap \"><div class=\"contnr c1    \" ><div class=\"lbl c1  \" ><span class=\"nd\">phrase </span></div><div class=\"children hor wrap \"><div class=\"contnr c0 trm   \" ><div class=\"lbl c0 trm \" ><span class=\"txtu\">τὸν </span></div></div><div class=\"contnr c0 trm   \" ><div class=\"lbl c0 trm \" ><span class=\"txtu\">Ναασσών,</span></div></div></div></div></div></div></div></div></div></div></div></div><div class=\"contnr c2    \" ><div class=\"lbl c2  \" ><span class=\"nd\">wg </span></div><div class=\"children hor wrap \"><div class=\"contnr c2   r \" ><div class=\"lbl c2  \" ><span class=\"nd\">wg </span></div><div class=\"children hor wrap \"><div class=\"contnr c1   r \" ><div class=\"lbl c1  \" ><span class=\"nd\">clause </span></div><div class=\"children hor wrap \"><div class=\"contnr c0 trm   \" ><div class=\"lbl c0 trm \" ><span class=\"txtu\">Ναασσὼν </span></div></div></div></div></div></div><div class=\"contnr c0 trm   \" ><div class=\"lbl c0 trm \" ><span class=\"txtu\">δὲ </span></div></div><div class=\"contnr c2   l \" ><div class=\"lbl c2  \" ><span class=\"nd\">wg </span></div><div class=\"children hor wrap \"><div class=\"contnr c1   l rno \" ><div class=\"lbl c1  \" ><span class=\"nd\">clause </span></div><div class=\"children hor wrap \"><div class=\"contnr c0 trm   \" ><div class=\"lbl c0 trm \" ><span class=\"txtu\">ἐγέννησεν </span></div></div></div></div><div class=\"contnr c2    \" ><div class=\"lbl c2  \" ><span class=\"nd\">wg </span></div><div class=\"children hor wrap \"><div class=\"contnr c1   lno \" ><div class=\"lbl c1  \" ><span class=\"nd\">clause </span></div><div class=\"children hor wrap \"><div class=\"contnr c1    \" ><div class=\"lbl c1  \" ><span class=\"nd\">phrase </span></div><div class=\"children hor wrap \"><div class=\"contnr c0 trm   \" ><div class=\"lbl c0 trm \" ><span class=\"txtu\">τὸν </span></div></div><div class=\"contnr c0 trm   \" ><div class=\"lbl c0 trm \" ><span class=\"txtu\">Σαλμών,</span></div></div></div></div></div></div></div></div></div></div></div></div><div class=\"contnr c2    \" ><div class=\"lbl c2  \" ><span class=\"nd\">wg </span></div><div class=\"children hor wrap \"><div class=\"contnr c2   r \" ><div class=\"lbl c2  \" ><span class=\"nd\">wg </span></div><div class=\"children hor wrap \"><div class=\"contnr c1   r \" ><div class=\"lbl c1  \" ><span class=\"nd\">clause </span></div><div class=\"children hor wrap \"><div class=\"contnr c0 trm   \" ><div class=\"lbl c0 trm \" ><span class=\"txtu\">Σαλμὼν </span></div></div></div></div></div></div><div class=\"contnr c0 trm   \" ><div class=\"lbl c0 trm \" ><span class=\"txtu\">δὲ </span></div></div><div class=\"contnr c2   l \" ><div class=\"lbl c2  \" ><span class=\"nd\">wg </span></div><div class=\"children hor wrap \"><div class=\"contnr c1   l rno \" ><div class=\"lbl c1  \" ><span class=\"nd\">clause </span></div><div class=\"children hor wrap \"><div class=\"contnr c0 trm   \" ><div class=\"lbl c0 trm \" ><span class=\"txtu\">ἐγέννησεν </span></div></div></div></div><div class=\"contnr c2    \" ><div class=\"lbl c2  \" ><span class=\"nd\">wg </span></div><div class=\"children hor wrap \"><div class=\"contnr c1   lno rno \" ><div class=\"lbl c1  \" ><span class=\"nd\">clause </span></div><div class=\"children hor wrap \"><div class=\"contnr c1    \" ><div class=\"lbl c1  \" ><span class=\"nd\">phrase </span></div><div class=\"children hor wrap \"><div class=\"contnr c0 trm   \" ><div class=\"lbl c0 trm \" ><span class=\"txtu\">τὸν </span></div></div><div class=\"contnr c0 trm   \" ><div class=\"lbl c0 trm \" ><span class=\"txtu\">Βόες </span></div></div></div></div></div></div></div></div><div class=\"contnr c2    \" ><div class=\"lbl c2  \" ><span class=\"nd\">wg </span></div><div class=\"children hor wrap \"><div class=\"contnr c1   lno rno \" ><div class=\"lbl c1  \" ><span class=\"nd\">clause </span></div><div class=\"children hor wrap \"><div class=\"contnr c1   rno \" ><div class=\"lbl c1  \" ><span class=\"nd\">phrase </span></div><div class=\"children hor wrap \"><div class=\"contnr c0 trm   \" ><div class=\"lbl c0 trm \" ><span class=\"txtu\">ἐκ </span></div></div></div></div></div></div><div class=\"contnr c2    \" ><div class=\"lbl c2  \" ><span class=\"nd\">wg </span></div><div class=\"children hor wrap \"><div class=\"contnr c1   lno \" ><div class=\"lbl c1  \" ><span class=\"nd\">clause </span></div><div class=\"children hor wrap \"><div class=\"contnr c1   lno \" ><div class=\"lbl c1  \" ><span class=\"nd\">phrase </span></div><div class=\"children hor wrap \"><div class=\"contnr c1    \" ><div class=\"lbl c1  \" ><span class=\"nd\">phrase </span></div><div class=\"children hor wrap \"><div class=\"contnr c0 trm   \" ><div class=\"lbl c0 trm \" ><span class=\"txtu\">τῆς </span></div></div><div class=\"contnr c0 trm   \" ><div class=\"lbl c0 trm \" ><span class=\"txtu\">Ῥαχάβ,</span></div></div></div></div></div></div></div></div></div></div></div></div></div></div></div></div><div class=\"contnr c2    \" ><div class=\"lbl c2  \" ><span class=\"nd\">wg </span></div><div class=\"children hor wrap \"><div class=\"contnr c2   r \" ><div class=\"lbl c2  \" ><span class=\"nd\">wg </span></div><div class=\"children hor wrap \"><div class=\"contnr c1   r \" ><div class=\"lbl c1  \" ><span class=\"nd\">clause </span></div><div class=\"children hor wrap \"><div class=\"contnr c0 trm   \" ><div class=\"lbl c0 trm \" ><span class=\"txtu\">Βόες </span></div></div></div></div></div></div><div class=\"contnr c0 trm   \" ><div class=\"lbl c0 trm \" ><span class=\"txtu\">δὲ </span></div></div><div class=\"contnr c2   l \" ><div class=\"lbl c2  \" ><span class=\"nd\">wg </span></div><div class=\"children hor wrap \"><div class=\"contnr c1   l rno \" ><div class=\"lbl c1  \" ><span class=\"nd\">clause </span></div><div class=\"children hor wrap \"><div class=\"contnr c0 trm   \" ><div class=\"lbl c0 trm \" ><span class=\"txtu\">ἐγέννησεν </span></div></div></div></div><div class=\"contnr c2    \" ><div class=\"lbl c2  \" ><span class=\"nd\">wg </span></div><div class=\"children hor wrap \"><div class=\"contnr c1   lno rno \" ><div class=\"lbl c1  \" ><span class=\"nd\">clause </span></div><div class=\"children hor wrap \"><div class=\"contnr c1    \" ><div class=\"lbl c1  \" ><span class=\"nd\">phrase </span></div><div class=\"children hor wrap \"><div class=\"contnr c0 trm   \" ><div class=\"lbl c0 trm \" ><span class=\"txtu\">τὸν </span></div></div><div class=\"contnr c0 trm   \" ><div class=\"lbl c0 trm \" ><span class=\"txtu\">Ἰωβὴδ </span></div></div></div></div></div></div></div></div><div class=\"contnr c2    \" ><div class=\"lbl c2  \" ><span class=\"nd\">wg </span></div><div class=\"children hor wrap \"><div class=\"contnr c1   lno rno \" ><div class=\"lbl c1  \" ><span class=\"nd\">clause </span></div><div class=\"children hor wrap \"><div class=\"contnr c1   rno \" ><div class=\"lbl c1  \" ><span class=\"nd\">phrase </span></div><div class=\"children hor wrap \"><div class=\"contnr c0 trm   \" ><div class=\"lbl c0 trm \" ><span class=\"txtu\">ἐκ </span></div></div></div></div></div></div><div class=\"contnr c2    \" ><div class=\"lbl c2  \" ><span class=\"nd\">wg </span></div><div class=\"children hor wrap \"><div class=\"contnr c1   lno \" ><div class=\"lbl c1  \" ><span class=\"nd\">clause </span></div><div class=\"children hor wrap \"><div class=\"contnr c1   lno \" ><div class=\"lbl c1  \" ><span class=\"nd\">phrase </span></div><div class=\"children hor wrap \"><div class=\"contnr c1    \" ><div class=\"lbl c1  \" ><span class=\"nd\">phrase </span></div><div class=\"children hor wrap \"><div class=\"contnr c0 trm   \" ><div class=\"lbl c0 trm \" ><span class=\"txtu\">τῆς </span></div></div><div class=\"contnr c0 trm   \" ><div class=\"lbl c0 trm \" ><span class=\"txtu\">Ῥούθ,</span></div></div></div></div></div></div></div></div></div></div></div></div></div></div></div></div><div class=\"contnr c2    \" ><div class=\"lbl c2  \" ><span class=\"nd\">wg </span></div><div class=\"children hor wrap \"><div class=\"contnr c2   r \" ><div class=\"lbl c2  \" ><span class=\"nd\">wg </span></div><div class=\"children hor wrap \"><div class=\"contnr c1   r \" ><div class=\"lbl c1  \" ><span class=\"nd\">clause </span></div><div class=\"children hor wrap \"><div class=\"contnr c0 trm   \" ><div class=\"lbl c0 trm \" ><span class=\"txtu\">Ἰωβὴδ </span></div></div></div></div></div></div><div class=\"contnr c0 trm   \" ><div class=\"lbl c0 trm \" ><span class=\"txtu\">δὲ </span></div></div><div class=\"contnr c2   l \" ><div class=\"lbl c2  \" ><span class=\"nd\">wg </span></div><div class=\"children hor wrap \"><div class=\"contnr c1   l rno \" ><div class=\"lbl c1  \" ><span class=\"nd\">clause </span></div><div class=\"children hor wrap \"><div class=\"contnr c0 trm   \" ><div class=\"lbl c0 trm \" ><span class=\"txtu\">ἐγέννησεν </span></div></div></div></div><div class=\"contnr c2    \" ><div class=\"lbl c2  \" ><span class=\"nd\">wg </span></div><div class=\"children hor wrap \"><div class=\"contnr c1   lno \" ><div class=\"lbl c1  \" ><span class=\"nd\">clause </span></div><div class=\"children hor wrap \"><div class=\"contnr c1    \" ><div class=\"lbl c1  \" ><span class=\"nd\">phrase </span></div><div class=\"children hor wrap \"><div class=\"contnr c0 trm   \" ><div class=\"lbl c0 trm \" ><span class=\"txtu\">τὸν </span></div></div><div class=\"contnr c0 trm   \" ><div class=\"lbl c0 trm \" ><span class=\"txtu\">Ἰεσσαί,</span></div></div></div></div></div></div></div></div></div></div></div></div><div class=\"contnr c2    \" ><div class=\"lbl c2  \" ><span class=\"nd\">wg </span></div><div class=\"children hor wrap \"><div class=\"contnr c2   r \" ><div class=\"lbl c2  \" ><span class=\"nd\">wg </span></div><div class=\"children hor wrap \"><div class=\"contnr c1   r \" ><div class=\"lbl c1  \" ><span class=\"nd\">clause </span></div><div class=\"children hor wrap \"><div class=\"contnr c0 trm   \" ><div class=\"lbl c0 trm \" ><span class=\"txtu\">Ἰεσσαὶ </span></div></div></div></div></div></div><div class=\"contnr c0 trm   \" ><div class=\"lbl c0 trm \" ><span class=\"txtu\">δὲ </span></div></div><div class=\"contnr c2   l \" ><div class=\"lbl c2  \" ><span class=\"nd\">wg </span></div><div class=\"children hor wrap \"><div class=\"contnr c1   l rno \" ><div class=\"lbl c1  \" ><span class=\"nd\">clause </span></div><div class=\"children hor wrap \"><div class=\"contnr c0 trm   \" ><div class=\"lbl c0 trm \" ><span class=\"txtu\">ἐγέννησεν </span></div></div></div></div><div class=\"contnr c2    \" ><div class=\"lbl c2  \" ><span class=\"nd\">wg </span></div><div class=\"children hor wrap \"><div class=\"contnr c2    \" ><div class=\"lbl c2  \" ><span class=\"nd\">wg </span></div><div class=\"children hor wrap \"><div class=\"contnr c1   lno rno \" ><div class=\"lbl c1  \" ><span class=\"nd\">clause </span></div><div class=\"children hor wrap \"><div class=\"contnr c1    \" ><div class=\"lbl c1  \" ><span class=\"nd\">phrase </span></div><div class=\"children hor wrap \"><div class=\"contnr c0 trm   \" ><div class=\"lbl c0 trm \" ><span class=\"txtu\">τὸν </span></div></div><div class=\"contnr c0 trm   \" ><div class=\"lbl c0 trm \" ><span class=\"txtu\">Δαυεὶδ </span></div></div></div></div></div></div></div></div><div class=\"contnr c2    \" ><div class=\"lbl c2  \" ><span class=\"nd\">wg </span></div><div class=\"children hor wrap \"><div class=\"contnr c1   lno \" ><div class=\"lbl c1  \" ><span class=\"nd\">clause </span></div><div class=\"children hor wrap \"><div class=\"contnr c1    \" ><div class=\"lbl c1  \" ><span class=\"nd\">phrase </span></div><div class=\"children hor wrap \"><div class=\"contnr c0 trm   \" ><div class=\"lbl c0 trm \" ><span class=\"txtu\">τὸν </span></div></div><div class=\"contnr c0 trm   \" ><div class=\"lbl c0 trm \" ><span class=\"txtu\">βασιλέα.</span></div></div></div></div></div></div></div></div></div></div></div></div></div></div></div></div></div></div></div></div></div>"
      ],
      "text/plain": [
       "<IPython.core.display.HTML object>"
      ]
     },
     "metadata": {},
     "output_type": "display_data"
    }
   ],
   "source": [
    "matthew = A.nodeFromSectionStr(\"Matthew\")\n",
    "#L is the Locality class looking for downward (d) nodes\n",
    "s = L.d(matthew, otype=\"sentence\")[1]\n",
    "A.pretty(s)"
   ]
  },
  {
   "cell_type": "markdown",
   "id": "c8eb98de-85e3-42fb-8410-f57ad4a0e5b4",
   "metadata": {},
   "source": [
    "## Clauses and phrases\n",
    "\n",
    "We can switch from a lowlevel display with `wg` elements to a higher-level display with `clause` and `phrase` elements."
   ]
  },
  {
   "cell_type": "code",
   "execution_count": 5,
   "id": "641fc9f7-64e8-4d65-8085-eb0d1314706d",
   "metadata": {},
   "outputs": [
    {
     "data": {
      "text/html": [
       "<div class=\"tfsechead \"><span class=\"ltr\"><a target=\"_blank\" href=\"https://public.saulocantanhede.org/tfgreek2/Matthew/1/2&amp;version=0.5.0\" title=\"Show this on the website\" sec=\"Matthew@1:2\">Matthew@1:2</a></span></div><div class=\" children\"><div class=\"contnr c2    \" ><div class=\"lbl c2  \" ><span class=\"nd\">sentence </span></div><div class=\"children hor wrap \"><div class=\"contnr c1    \" ><div class=\"lbl c1  \" ><span class=\"nd\">clause </span></div><div class=\"children hor wrap \"><div class=\"contnr c0 trm   \" ><div class=\"lbl c0 trm \" ><span class=\"txtu\">Ἀβραὰμ </span></div></div><div class=\"contnr c0 trm   \" ><div class=\"lbl c0 trm \" ><span class=\"txtu\">ἐγέννησεν </span></div></div><div class=\"contnr c1    \" ><div class=\"lbl c1  \" ><span class=\"nd\">phrase </span></div><div class=\"children hor wrap \"><div class=\"contnr c0 trm   \" ><div class=\"lbl c0 trm \" ><span class=\"txtu\">τὸν </span></div></div><div class=\"contnr c0 trm   \" ><div class=\"lbl c0 trm \" ><span class=\"txtu\">Ἰσαάκ,</span></div></div></div></div></div></div><div class=\"contnr c1   r \" ><div class=\"lbl c1  \" ><span class=\"nd\">clause </span></div><div class=\"children hor wrap \"><div class=\"contnr c0 trm   \" ><div class=\"lbl c0 trm \" ><span class=\"txtu\">Ἰσαὰκ </span></div></div></div></div><div class=\"contnr c0 trm   \" ><div class=\"lbl c0 trm \" ><span class=\"txtu\">δὲ </span></div></div><div class=\"contnr c1   l \" ><div class=\"lbl c1  \" ><span class=\"nd\">clause </span></div><div class=\"children hor wrap \"><div class=\"contnr c0 trm   \" ><div class=\"lbl c0 trm \" ><span class=\"txtu\">ἐγέννησεν </span></div></div><div class=\"contnr c1    \" ><div class=\"lbl c1  \" ><span class=\"nd\">phrase </span></div><div class=\"children hor wrap \"><div class=\"contnr c0 trm   \" ><div class=\"lbl c0 trm \" ><span class=\"txtu\">τὸν </span></div></div><div class=\"contnr c0 trm   \" ><div class=\"lbl c0 trm \" ><span class=\"txtu\">Ἰακώβ,</span></div></div></div></div></div></div><div class=\"contnr c1   r \" ><div class=\"lbl c1  \" ><span class=\"nd\">clause </span></div><div class=\"children hor wrap \"><div class=\"contnr c0 trm   \" ><div class=\"lbl c0 trm \" ><span class=\"txtu\">Ἰακὼβ </span></div></div></div></div><div class=\"contnr c0 trm   \" ><div class=\"lbl c0 trm \" ><span class=\"txtu\">δὲ </span></div></div><div class=\"contnr c1   l \" ><div class=\"lbl c1  \" ><span class=\"nd\">clause </span></div><div class=\"children hor wrap \"><div class=\"contnr c0 trm   \" ><div class=\"lbl c0 trm \" ><span class=\"txtu\">ἐγέννησεν </span></div></div><div class=\"contnr c1    \" ><div class=\"lbl c1  \" ><span class=\"nd\">phrase </span></div><div class=\"children hor wrap \"><div class=\"contnr c0 trm   \" ><div class=\"lbl c0 trm \" ><span class=\"txtu\">τὸν </span></div></div><div class=\"contnr c0 trm   \" ><div class=\"lbl c0 trm \" ><span class=\"txtu\">Ἰούδαν </span></div></div></div></div><div class=\"contnr c0 trm   \" ><div class=\"lbl c0 trm \" ><span class=\"txtu\">καὶ </span></div></div><div class=\"contnr c1    \" ><div class=\"lbl c1  \" ><span class=\"nd\">phrase </span></div><div class=\"children hor wrap \"><div class=\"contnr c0 trm   \" ><div class=\"lbl c0 trm \" ><span class=\"txtu\">τοὺς </span></div></div><div class=\"contnr c1    \" ><div class=\"lbl c1  \" ><span class=\"nd\">phrase </span></div><div class=\"children hor wrap \"><div class=\"contnr c0 trm   \" ><div class=\"lbl c0 trm \" ><span class=\"txtu\">ἀδελφοὺς </span></div></div><div class=\"contnr c0 trm   \" ><div class=\"lbl c0 trm \" ><span class=\"txtu\">αὐτοῦ,</span></div></div></div></div></div></div></div></div><div class=\"contnr c1   r \" ><div class=\"lbl c1  \" ><span class=\"nd\">clause </span></div><div class=\"children hor wrap \"><div class=\"contnr c0 trm   \" ><div class=\"lbl c0 trm \" ><span class=\"txtu\">Ἰούδας </span></div></div></div></div><div class=\"contnr c0 trm   \" ><div class=\"lbl c0 trm \" ><span class=\"txtu\">δὲ </span></div></div><div class=\"contnr c1   l \" ><div class=\"lbl c1  \" ><span class=\"nd\">clause </span></div><div class=\"children hor wrap \"><div class=\"contnr c0 trm   \" ><div class=\"lbl c0 trm \" ><span class=\"txtu\">ἐγέννησεν </span></div></div><div class=\"contnr c1    \" ><div class=\"lbl c1  \" ><span class=\"nd\">phrase </span></div><div class=\"children hor wrap \"><div class=\"contnr c0 trm   \" ><div class=\"lbl c0 trm \" ><span class=\"txtu\">τὸν </span></div></div><div class=\"contnr c0 trm   \" ><div class=\"lbl c0 trm \" ><span class=\"txtu\">Φαρὲς </span></div></div></div></div><div class=\"contnr c0 trm   \" ><div class=\"lbl c0 trm \" ><span class=\"txtu\">καὶ </span></div></div><div class=\"contnr c1    \" ><div class=\"lbl c1  \" ><span class=\"nd\">phrase </span></div><div class=\"children hor wrap \"><div class=\"contnr c0 trm   \" ><div class=\"lbl c0 trm \" ><span class=\"txtu\">τὸν </span></div></div><div class=\"contnr c0 trm   \" ><div class=\"lbl c0 trm \" ><span class=\"txtu\">Ζαρὰ </span></div></div></div></div><div class=\"contnr c1    \" ><div class=\"lbl c1  \" ><span class=\"nd\">phrase </span></div><div class=\"children hor wrap \"><div class=\"contnr c0 trm   \" ><div class=\"lbl c0 trm \" ><span class=\"txtu\">ἐκ </span></div></div><div class=\"contnr c1    \" ><div class=\"lbl c1  \" ><span class=\"nd\">phrase </span></div><div class=\"children hor wrap \"><div class=\"contnr c0 trm   \" ><div class=\"lbl c0 trm \" ><span class=\"txtu\">τῆς </span></div></div><div class=\"contnr c0 trm   \" ><div class=\"lbl c0 trm \" ><span class=\"txtu\">Θάμαρ,</span></div></div></div></div></div></div></div></div><div class=\"contnr c1   r \" ><div class=\"lbl c1  \" ><span class=\"nd\">clause </span></div><div class=\"children hor wrap \"><div class=\"contnr c0 trm   \" ><div class=\"lbl c0 trm \" ><span class=\"txtu\">Φαρὲς </span></div></div></div></div><div class=\"contnr c0 trm   \" ><div class=\"lbl c0 trm \" ><span class=\"txtu\">δὲ </span></div></div><div class=\"contnr c1   l \" ><div class=\"lbl c1  \" ><span class=\"nd\">clause </span></div><div class=\"children hor wrap \"><div class=\"contnr c0 trm   \" ><div class=\"lbl c0 trm \" ><span class=\"txtu\">ἐγέννησεν </span></div></div><div class=\"contnr c1    \" ><div class=\"lbl c1  \" ><span class=\"nd\">phrase </span></div><div class=\"children hor wrap \"><div class=\"contnr c0 trm   \" ><div class=\"lbl c0 trm \" ><span class=\"txtu\">τὸν </span></div></div><div class=\"contnr c0 trm   \" ><div class=\"lbl c0 trm \" ><span class=\"txtu\">Ἐσρώμ,</span></div></div></div></div></div></div><div class=\"contnr c1   r \" ><div class=\"lbl c1  \" ><span class=\"nd\">clause </span></div><div class=\"children hor wrap \"><div class=\"contnr c0 trm   \" ><div class=\"lbl c0 trm \" ><span class=\"txtu\">Ἐσρὼμ </span></div></div></div></div><div class=\"contnr c0 trm   \" ><div class=\"lbl c0 trm \" ><span class=\"txtu\">δὲ </span></div></div><div class=\"contnr c1   l \" ><div class=\"lbl c1  \" ><span class=\"nd\">clause </span></div><div class=\"children hor wrap \"><div class=\"contnr c0 trm   \" ><div class=\"lbl c0 trm \" ><span class=\"txtu\">ἐγέννησεν </span></div></div><div class=\"contnr c1    \" ><div class=\"lbl c1  \" ><span class=\"nd\">phrase </span></div><div class=\"children hor wrap \"><div class=\"contnr c0 trm   \" ><div class=\"lbl c0 trm \" ><span class=\"txtu\">τὸν </span></div></div><div class=\"contnr c0 trm   \" ><div class=\"lbl c0 trm \" ><span class=\"txtu\">Ἀράμ,</span></div></div></div></div></div></div><div class=\"contnr c1   r \" ><div class=\"lbl c1  \" ><span class=\"nd\">clause </span></div><div class=\"children hor wrap \"><div class=\"contnr c0 trm   \" ><div class=\"lbl c0 trm \" ><span class=\"txtu\">Ἀρὰμ </span></div></div></div></div><div class=\"contnr c0 trm   \" ><div class=\"lbl c0 trm \" ><span class=\"txtu\">δὲ </span></div></div><div class=\"contnr c1   l \" ><div class=\"lbl c1  \" ><span class=\"nd\">clause </span></div><div class=\"children hor wrap \"><div class=\"contnr c0 trm   \" ><div class=\"lbl c0 trm \" ><span class=\"txtu\">ἐγέννησεν </span></div></div><div class=\"contnr c1    \" ><div class=\"lbl c1  \" ><span class=\"nd\">phrase </span></div><div class=\"children hor wrap \"><div class=\"contnr c0 trm   \" ><div class=\"lbl c0 trm \" ><span class=\"txtu\">τὸν </span></div></div><div class=\"contnr c0 trm   \" ><div class=\"lbl c0 trm \" ><span class=\"txtu\">Ἀμιναδάβ,</span></div></div></div></div></div></div><div class=\"contnr c1   r \" ><div class=\"lbl c1  \" ><span class=\"nd\">clause </span></div><div class=\"children hor wrap \"><div class=\"contnr c0 trm   \" ><div class=\"lbl c0 trm \" ><span class=\"txtu\">Ἀμιναδὰβ </span></div></div></div></div><div class=\"contnr c0 trm   \" ><div class=\"lbl c0 trm \" ><span class=\"txtu\">δὲ </span></div></div><div class=\"contnr c1   l \" ><div class=\"lbl c1  \" ><span class=\"nd\">clause </span></div><div class=\"children hor wrap \"><div class=\"contnr c0 trm   \" ><div class=\"lbl c0 trm \" ><span class=\"txtu\">ἐγέννησεν </span></div></div><div class=\"contnr c1    \" ><div class=\"lbl c1  \" ><span class=\"nd\">phrase </span></div><div class=\"children hor wrap \"><div class=\"contnr c0 trm   \" ><div class=\"lbl c0 trm \" ><span class=\"txtu\">τὸν </span></div></div><div class=\"contnr c0 trm   \" ><div class=\"lbl c0 trm \" ><span class=\"txtu\">Ναασσών,</span></div></div></div></div></div></div><div class=\"contnr c1   r \" ><div class=\"lbl c1  \" ><span class=\"nd\">clause </span></div><div class=\"children hor wrap \"><div class=\"contnr c0 trm   \" ><div class=\"lbl c0 trm \" ><span class=\"txtu\">Ναασσὼν </span></div></div></div></div><div class=\"contnr c0 trm   \" ><div class=\"lbl c0 trm \" ><span class=\"txtu\">δὲ </span></div></div><div class=\"contnr c1   l \" ><div class=\"lbl c1  \" ><span class=\"nd\">clause </span></div><div class=\"children hor wrap \"><div class=\"contnr c0 trm   \" ><div class=\"lbl c0 trm \" ><span class=\"txtu\">ἐγέννησεν </span></div></div><div class=\"contnr c1    \" ><div class=\"lbl c1  \" ><span class=\"nd\">phrase </span></div><div class=\"children hor wrap \"><div class=\"contnr c0 trm   \" ><div class=\"lbl c0 trm \" ><span class=\"txtu\">τὸν </span></div></div><div class=\"contnr c0 trm   \" ><div class=\"lbl c0 trm \" ><span class=\"txtu\">Σαλμών,</span></div></div></div></div></div></div><div class=\"contnr c1   r \" ><div class=\"lbl c1  \" ><span class=\"nd\">clause </span></div><div class=\"children hor wrap \"><div class=\"contnr c0 trm   \" ><div class=\"lbl c0 trm \" ><span class=\"txtu\">Σαλμὼν </span></div></div></div></div><div class=\"contnr c0 trm   \" ><div class=\"lbl c0 trm \" ><span class=\"txtu\">δὲ </span></div></div><div class=\"contnr c1   l \" ><div class=\"lbl c1  \" ><span class=\"nd\">clause </span></div><div class=\"children hor wrap \"><div class=\"contnr c0 trm   \" ><div class=\"lbl c0 trm \" ><span class=\"txtu\">ἐγέννησεν </span></div></div><div class=\"contnr c1    \" ><div class=\"lbl c1  \" ><span class=\"nd\">phrase </span></div><div class=\"children hor wrap \"><div class=\"contnr c0 trm   \" ><div class=\"lbl c0 trm \" ><span class=\"txtu\">τὸν </span></div></div><div class=\"contnr c0 trm   \" ><div class=\"lbl c0 trm \" ><span class=\"txtu\">Βόες </span></div></div></div></div><div class=\"contnr c1    \" ><div class=\"lbl c1  \" ><span class=\"nd\">phrase </span></div><div class=\"children hor wrap \"><div class=\"contnr c0 trm   \" ><div class=\"lbl c0 trm \" ><span class=\"txtu\">ἐκ </span></div></div><div class=\"contnr c1    \" ><div class=\"lbl c1  \" ><span class=\"nd\">phrase </span></div><div class=\"children hor wrap \"><div class=\"contnr c0 trm   \" ><div class=\"lbl c0 trm \" ><span class=\"txtu\">τῆς </span></div></div><div class=\"contnr c0 trm   \" ><div class=\"lbl c0 trm \" ><span class=\"txtu\">Ῥαχάβ,</span></div></div></div></div></div></div></div></div><div class=\"contnr c1   r \" ><div class=\"lbl c1  \" ><span class=\"nd\">clause </span></div><div class=\"children hor wrap \"><div class=\"contnr c0 trm   \" ><div class=\"lbl c0 trm \" ><span class=\"txtu\">Βόες </span></div></div></div></div><div class=\"contnr c0 trm   \" ><div class=\"lbl c0 trm \" ><span class=\"txtu\">δὲ </span></div></div><div class=\"contnr c1   l \" ><div class=\"lbl c1  \" ><span class=\"nd\">clause </span></div><div class=\"children hor wrap \"><div class=\"contnr c0 trm   \" ><div class=\"lbl c0 trm \" ><span class=\"txtu\">ἐγέννησεν </span></div></div><div class=\"contnr c1    \" ><div class=\"lbl c1  \" ><span class=\"nd\">phrase </span></div><div class=\"children hor wrap \"><div class=\"contnr c0 trm   \" ><div class=\"lbl c0 trm \" ><span class=\"txtu\">τὸν </span></div></div><div class=\"contnr c0 trm   \" ><div class=\"lbl c0 trm \" ><span class=\"txtu\">Ἰωβὴδ </span></div></div></div></div><div class=\"contnr c1    \" ><div class=\"lbl c1  \" ><span class=\"nd\">phrase </span></div><div class=\"children hor wrap \"><div class=\"contnr c0 trm   \" ><div class=\"lbl c0 trm \" ><span class=\"txtu\">ἐκ </span></div></div><div class=\"contnr c1    \" ><div class=\"lbl c1  \" ><span class=\"nd\">phrase </span></div><div class=\"children hor wrap \"><div class=\"contnr c0 trm   \" ><div class=\"lbl c0 trm \" ><span class=\"txtu\">τῆς </span></div></div><div class=\"contnr c0 trm   \" ><div class=\"lbl c0 trm \" ><span class=\"txtu\">Ῥούθ,</span></div></div></div></div></div></div></div></div><div class=\"contnr c1   r \" ><div class=\"lbl c1  \" ><span class=\"nd\">clause </span></div><div class=\"children hor wrap \"><div class=\"contnr c0 trm   \" ><div class=\"lbl c0 trm \" ><span class=\"txtu\">Ἰωβὴδ </span></div></div></div></div><div class=\"contnr c0 trm   \" ><div class=\"lbl c0 trm \" ><span class=\"txtu\">δὲ </span></div></div><div class=\"contnr c1   l \" ><div class=\"lbl c1  \" ><span class=\"nd\">clause </span></div><div class=\"children hor wrap \"><div class=\"contnr c0 trm   \" ><div class=\"lbl c0 trm \" ><span class=\"txtu\">ἐγέννησεν </span></div></div><div class=\"contnr c1    \" ><div class=\"lbl c1  \" ><span class=\"nd\">phrase </span></div><div class=\"children hor wrap \"><div class=\"contnr c0 trm   \" ><div class=\"lbl c0 trm \" ><span class=\"txtu\">τὸν </span></div></div><div class=\"contnr c0 trm   \" ><div class=\"lbl c0 trm \" ><span class=\"txtu\">Ἰεσσαί,</span></div></div></div></div></div></div><div class=\"contnr c1   r \" ><div class=\"lbl c1  \" ><span class=\"nd\">clause </span></div><div class=\"children hor wrap \"><div class=\"contnr c0 trm   \" ><div class=\"lbl c0 trm \" ><span class=\"txtu\">Ἰεσσαὶ </span></div></div></div></div><div class=\"contnr c0 trm   \" ><div class=\"lbl c0 trm \" ><span class=\"txtu\">δὲ </span></div></div><div class=\"contnr c1   l \" ><div class=\"lbl c1  \" ><span class=\"nd\">clause </span></div><div class=\"children hor wrap \"><div class=\"contnr c0 trm   \" ><div class=\"lbl c0 trm \" ><span class=\"txtu\">ἐγέννησεν </span></div></div><div class=\"contnr c1    \" ><div class=\"lbl c1  \" ><span class=\"nd\">phrase </span></div><div class=\"children hor wrap \"><div class=\"contnr c0 trm   \" ><div class=\"lbl c0 trm \" ><span class=\"txtu\">τὸν </span></div></div><div class=\"contnr c0 trm   \" ><div class=\"lbl c0 trm \" ><span class=\"txtu\">Δαυεὶδ </span></div></div></div></div><div class=\"contnr c1    \" ><div class=\"lbl c1  \" ><span class=\"nd\">phrase </span></div><div class=\"children hor wrap \"><div class=\"contnr c0 trm   \" ><div class=\"lbl c0 trm \" ><span class=\"txtu\">τὸν </span></div></div><div class=\"contnr c0 trm   \" ><div class=\"lbl c0 trm \" ><span class=\"txtu\">βασιλέα.</span></div></div></div></div></div></div></div></div></div>"
      ],
      "text/plain": [
       "<IPython.core.display.HTML object>"
      ]
     },
     "metadata": {},
     "output_type": "display_data"
    }
   ],
   "source": [
    "A.pretty(s, hiddenTypes={\"wg\"})"
   ]
  },
  {
   "cell_type": "markdown",
   "id": "77200d15-85c8-4a27-84f5-f7b3486f54d5",
   "metadata": {},
   "source": [
    "## Parents\n",
    "\n",
    "For now, we stick to the low-level display with `wg` elements."
   ]
  },
  {
   "cell_type": "code",
   "execution_count": 6,
   "id": "42ebc408-ec5e-4e8f-a59a-9c774d323ca0",
   "metadata": {},
   "outputs": [
    {
     "data": {
      "text/html": [
       "<div class=\"tfsechead \"><span class=\"ltr\"><a target=\"_blank\" href=\"https://public.saulocantanhede.org/tfgreek2/Matthew/1/2&amp;version=0.5.0\" title=\"Show this on the website\" sec=\"Matthew@1:2\">Matthew@1:2</a></span></div><div class=\" children\"><div class=\"contnr c2    \" ><div class=\"lbl c2  \" ><span class=\"nd\">sentence </span></div><div class=\"children hor wrap \"><div class=\"contnr c1    \" ><div class=\"lbl c1  \" ><span class=\"nd\">clause </span></div><div class=\"children hor wrap \"><div class=\"contnr c0 trm   hl\"  style=\"background-color: salmon;\" ><div class=\"lbl c0 trm hl\"  style=\"background-color: salmon;\" ><span class=\"txtu\">Ἀβραὰμ </span></div></div><div class=\"contnr c0 trm   \" ><div class=\"lbl c0 trm \" ><span class=\"txtu\">ἐγέννησεν </span></div></div><div class=\"contnr c1    \" ><div class=\"lbl c1  \" ><span class=\"nd\">phrase </span></div><div class=\"children hor wrap \"><div class=\"contnr c0 trm   \" ><div class=\"lbl c0 trm \" ><span class=\"txtu\">τὸν </span></div></div><div class=\"contnr c0 trm   \" ><div class=\"lbl c0 trm \" ><span class=\"txtu\">Ἰσαάκ,</span></div></div></div></div></div></div><div class=\"contnr c1   r \" ><div class=\"lbl c1  \" ><span class=\"nd\">clause </span></div><div class=\"children hor wrap \"><div class=\"contnr c0 trm   \" ><div class=\"lbl c0 trm \" ><span class=\"txtu\">Ἰσαὰκ </span></div></div></div></div><div class=\"contnr c0 trm   \" ><div class=\"lbl c0 trm \" ><span class=\"txtu\">δὲ </span></div></div><div class=\"contnr c1   l \" ><div class=\"lbl c1  \" ><span class=\"nd\">clause </span></div><div class=\"children hor wrap \"><div class=\"contnr c0 trm   \" ><div class=\"lbl c0 trm \" ><span class=\"txtu\">ἐγέννησεν </span></div></div><div class=\"contnr c1    \" ><div class=\"lbl c1  \" ><span class=\"nd\">phrase </span></div><div class=\"children hor wrap \"><div class=\"contnr c0 trm   \" ><div class=\"lbl c0 trm \" ><span class=\"txtu\">τὸν </span></div></div><div class=\"contnr c0 trm   \" ><div class=\"lbl c0 trm \" ><span class=\"txtu\">Ἰακώβ,</span></div></div></div></div></div></div><div class=\"contnr c1   r \" ><div class=\"lbl c1  \" ><span class=\"nd\">clause </span></div><div class=\"children hor wrap \"><div class=\"contnr c0 trm   \" ><div class=\"lbl c0 trm \" ><span class=\"txtu\">Ἰακὼβ </span></div></div></div></div><div class=\"contnr c0 trm   \" ><div class=\"lbl c0 trm \" ><span class=\"txtu\">δὲ </span></div></div><div class=\"contnr c1   l \" ><div class=\"lbl c1  \" ><span class=\"nd\">clause </span></div><div class=\"children hor wrap \"><div class=\"contnr c0 trm   \" ><div class=\"lbl c0 trm \" ><span class=\"txtu\">ἐγέννησεν </span></div></div><div class=\"contnr c1    \" ><div class=\"lbl c1  \" ><span class=\"nd\">phrase </span></div><div class=\"children hor wrap \"><div class=\"contnr c0 trm   \" ><div class=\"lbl c0 trm \" ><span class=\"txtu\">τὸν </span></div></div><div class=\"contnr c0 trm   \" ><div class=\"lbl c0 trm \" ><span class=\"txtu\">Ἰούδαν </span></div></div></div></div><div class=\"contnr c0 trm   \" ><div class=\"lbl c0 trm \" ><span class=\"txtu\">καὶ </span></div></div><div class=\"contnr c1    \" ><div class=\"lbl c1  \" ><span class=\"nd\">phrase </span></div><div class=\"children hor wrap \"><div class=\"contnr c0 trm   \" ><div class=\"lbl c0 trm \" ><span class=\"txtu\">τοὺς </span></div></div><div class=\"contnr c1    \" ><div class=\"lbl c1  \" ><span class=\"nd\">phrase </span></div><div class=\"children hor wrap \"><div class=\"contnr c0 trm   \" ><div class=\"lbl c0 trm \" ><span class=\"txtu\">ἀδελφοὺς </span></div></div><div class=\"contnr c0 trm   \" ><div class=\"lbl c0 trm \" ><span class=\"txtu\">αὐτοῦ,</span></div></div></div></div></div></div></div></div><div class=\"contnr c1   r \" ><div class=\"lbl c1  \" ><span class=\"nd\">clause </span></div><div class=\"children hor wrap \"><div class=\"contnr c0 trm   \" ><div class=\"lbl c0 trm \" ><span class=\"txtu\">Ἰούδας </span></div></div></div></div><div class=\"contnr c0 trm   \" ><div class=\"lbl c0 trm \" ><span class=\"txtu\">δὲ </span></div></div><div class=\"contnr c1   l \" ><div class=\"lbl c1  \" ><span class=\"nd\">clause </span></div><div class=\"children hor wrap \"><div class=\"contnr c0 trm   \" ><div class=\"lbl c0 trm \" ><span class=\"txtu\">ἐγέννησεν </span></div></div><div class=\"contnr c1    \" ><div class=\"lbl c1  \" ><span class=\"nd\">phrase </span></div><div class=\"children hor wrap \"><div class=\"contnr c0 trm   \" ><div class=\"lbl c0 trm \" ><span class=\"txtu\">τὸν </span></div></div><div class=\"contnr c0 trm   \" ><div class=\"lbl c0 trm \" ><span class=\"txtu\">Φαρὲς </span></div></div></div></div><div class=\"contnr c0 trm   \" ><div class=\"lbl c0 trm \" ><span class=\"txtu\">καὶ </span></div></div><div class=\"contnr c1    \" ><div class=\"lbl c1  \" ><span class=\"nd\">phrase </span></div><div class=\"children hor wrap \"><div class=\"contnr c0 trm   \" ><div class=\"lbl c0 trm \" ><span class=\"txtu\">τὸν </span></div></div><div class=\"contnr c0 trm   \" ><div class=\"lbl c0 trm \" ><span class=\"txtu\">Ζαρὰ </span></div></div></div></div><div class=\"contnr c1    \" ><div class=\"lbl c1  \" ><span class=\"nd\">phrase </span></div><div class=\"children hor wrap \"><div class=\"contnr c0 trm   \" ><div class=\"lbl c0 trm \" ><span class=\"txtu\">ἐκ </span></div></div><div class=\"contnr c1    \" ><div class=\"lbl c1  \" ><span class=\"nd\">phrase </span></div><div class=\"children hor wrap \"><div class=\"contnr c0 trm   \" ><div class=\"lbl c0 trm \" ><span class=\"txtu\">τῆς </span></div></div><div class=\"contnr c0 trm   \" ><div class=\"lbl c0 trm \" ><span class=\"txtu\">Θάμαρ,</span></div></div></div></div></div></div></div></div><div class=\"contnr c1   r \" ><div class=\"lbl c1  \" ><span class=\"nd\">clause </span></div><div class=\"children hor wrap \"><div class=\"contnr c0 trm   \" ><div class=\"lbl c0 trm \" ><span class=\"txtu\">Φαρὲς </span></div></div></div></div><div class=\"contnr c0 trm   \" ><div class=\"lbl c0 trm \" ><span class=\"txtu\">δὲ </span></div></div><div class=\"contnr c1   l \" ><div class=\"lbl c1  \" ><span class=\"nd\">clause </span></div><div class=\"children hor wrap \"><div class=\"contnr c0 trm   \" ><div class=\"lbl c0 trm \" ><span class=\"txtu\">ἐγέννησεν </span></div></div><div class=\"contnr c1    \" ><div class=\"lbl c1  \" ><span class=\"nd\">phrase </span></div><div class=\"children hor wrap \"><div class=\"contnr c0 trm   \" ><div class=\"lbl c0 trm \" ><span class=\"txtu\">τὸν </span></div></div><div class=\"contnr c0 trm   \" ><div class=\"lbl c0 trm \" ><span class=\"txtu\">Ἐσρώμ,</span></div></div></div></div></div></div><div class=\"contnr c1   r \" ><div class=\"lbl c1  \" ><span class=\"nd\">clause </span></div><div class=\"children hor wrap \"><div class=\"contnr c0 trm   \" ><div class=\"lbl c0 trm \" ><span class=\"txtu\">Ἐσρὼμ </span></div></div></div></div><div class=\"contnr c0 trm   \" ><div class=\"lbl c0 trm \" ><span class=\"txtu\">δὲ </span></div></div><div class=\"contnr c1   l \" ><div class=\"lbl c1  \" ><span class=\"nd\">clause </span></div><div class=\"children hor wrap \"><div class=\"contnr c0 trm   \" ><div class=\"lbl c0 trm \" ><span class=\"txtu\">ἐγέννησεν </span></div></div><div class=\"contnr c1    \" ><div class=\"lbl c1  \" ><span class=\"nd\">phrase </span></div><div class=\"children hor wrap \"><div class=\"contnr c0 trm   \" ><div class=\"lbl c0 trm \" ><span class=\"txtu\">τὸν </span></div></div><div class=\"contnr c0 trm   \" ><div class=\"lbl c0 trm \" ><span class=\"txtu\">Ἀράμ,</span></div></div></div></div></div></div><div class=\"contnr c1   r \" ><div class=\"lbl c1  \" ><span class=\"nd\">clause </span></div><div class=\"children hor wrap \"><div class=\"contnr c0 trm   \" ><div class=\"lbl c0 trm \" ><span class=\"txtu\">Ἀρὰμ </span></div></div></div></div><div class=\"contnr c0 trm   \" ><div class=\"lbl c0 trm \" ><span class=\"txtu\">δὲ </span></div></div><div class=\"contnr c1   l \" ><div class=\"lbl c1  \" ><span class=\"nd\">clause </span></div><div class=\"children hor wrap \"><div class=\"contnr c0 trm   \" ><div class=\"lbl c0 trm \" ><span class=\"txtu\">ἐγέννησεν </span></div></div><div class=\"contnr c1    \" ><div class=\"lbl c1  \" ><span class=\"nd\">phrase </span></div><div class=\"children hor wrap \"><div class=\"contnr c0 trm   \" ><div class=\"lbl c0 trm \" ><span class=\"txtu\">τὸν </span></div></div><div class=\"contnr c0 trm   \" ><div class=\"lbl c0 trm \" ><span class=\"txtu\">Ἀμιναδάβ,</span></div></div></div></div></div></div><div class=\"contnr c1   r \" ><div class=\"lbl c1  \" ><span class=\"nd\">clause </span></div><div class=\"children hor wrap \"><div class=\"contnr c0 trm   \" ><div class=\"lbl c0 trm \" ><span class=\"txtu\">Ἀμιναδὰβ </span></div></div></div></div><div class=\"contnr c0 trm   \" ><div class=\"lbl c0 trm \" ><span class=\"txtu\">δὲ </span></div></div><div class=\"contnr c1   l \" ><div class=\"lbl c1  \" ><span class=\"nd\">clause </span></div><div class=\"children hor wrap \"><div class=\"contnr c0 trm   \" ><div class=\"lbl c0 trm \" ><span class=\"txtu\">ἐγέννησεν </span></div></div><div class=\"contnr c1    \" ><div class=\"lbl c1  \" ><span class=\"nd\">phrase </span></div><div class=\"children hor wrap \"><div class=\"contnr c0 trm   \" ><div class=\"lbl c0 trm \" ><span class=\"txtu\">τὸν </span></div></div><div class=\"contnr c0 trm   \" ><div class=\"lbl c0 trm \" ><span class=\"txtu\">Ναασσών,</span></div></div></div></div></div></div><div class=\"contnr c1   r \" ><div class=\"lbl c1  \" ><span class=\"nd\">clause </span></div><div class=\"children hor wrap \"><div class=\"contnr c0 trm   \" ><div class=\"lbl c0 trm \" ><span class=\"txtu\">Ναασσὼν </span></div></div></div></div><div class=\"contnr c0 trm   \" ><div class=\"lbl c0 trm \" ><span class=\"txtu\">δὲ </span></div></div><div class=\"contnr c1   l \" ><div class=\"lbl c1  \" ><span class=\"nd\">clause </span></div><div class=\"children hor wrap \"><div class=\"contnr c0 trm   \" ><div class=\"lbl c0 trm \" ><span class=\"txtu\">ἐγέννησεν </span></div></div><div class=\"contnr c1    \" ><div class=\"lbl c1  \" ><span class=\"nd\">phrase </span></div><div class=\"children hor wrap \"><div class=\"contnr c0 trm   \" ><div class=\"lbl c0 trm \" ><span class=\"txtu\">τὸν </span></div></div><div class=\"contnr c0 trm   \" ><div class=\"lbl c0 trm \" ><span class=\"txtu\">Σαλμών,</span></div></div></div></div></div></div><div class=\"contnr c1   r \" ><div class=\"lbl c1  \" ><span class=\"nd\">clause </span></div><div class=\"children hor wrap \"><div class=\"contnr c0 trm   \" ><div class=\"lbl c0 trm \" ><span class=\"txtu\">Σαλμὼν </span></div></div></div></div><div class=\"contnr c0 trm   \" ><div class=\"lbl c0 trm \" ><span class=\"txtu\">δὲ </span></div></div><div class=\"contnr c1   l \" ><div class=\"lbl c1  \" ><span class=\"nd\">clause </span></div><div class=\"children hor wrap \"><div class=\"contnr c0 trm   \" ><div class=\"lbl c0 trm \" ><span class=\"txtu\">ἐγέννησεν </span></div></div><div class=\"contnr c1    \" ><div class=\"lbl c1  \" ><span class=\"nd\">phrase </span></div><div class=\"children hor wrap \"><div class=\"contnr c0 trm   \" ><div class=\"lbl c0 trm \" ><span class=\"txtu\">τὸν </span></div></div><div class=\"contnr c0 trm   \" ><div class=\"lbl c0 trm \" ><span class=\"txtu\">Βόες </span></div></div></div></div><div class=\"contnr c1    \" ><div class=\"lbl c1  \" ><span class=\"nd\">phrase </span></div><div class=\"children hor wrap \"><div class=\"contnr c0 trm   \" ><div class=\"lbl c0 trm \" ><span class=\"txtu\">ἐκ </span></div></div><div class=\"contnr c1    \" ><div class=\"lbl c1  \" ><span class=\"nd\">phrase </span></div><div class=\"children hor wrap \"><div class=\"contnr c0 trm   \" ><div class=\"lbl c0 trm \" ><span class=\"txtu\">τῆς </span></div></div><div class=\"contnr c0 trm   \" ><div class=\"lbl c0 trm \" ><span class=\"txtu\">Ῥαχάβ,</span></div></div></div></div></div></div></div></div><div class=\"contnr c1   r \" ><div class=\"lbl c1  \" ><span class=\"nd\">clause </span></div><div class=\"children hor wrap \"><div class=\"contnr c0 trm   \" ><div class=\"lbl c0 trm \" ><span class=\"txtu\">Βόες </span></div></div></div></div><div class=\"contnr c0 trm   \" ><div class=\"lbl c0 trm \" ><span class=\"txtu\">δὲ </span></div></div><div class=\"contnr c1   l \" ><div class=\"lbl c1  \" ><span class=\"nd\">clause </span></div><div class=\"children hor wrap \"><div class=\"contnr c0 trm   \" ><div class=\"lbl c0 trm \" ><span class=\"txtu\">ἐγέννησεν </span></div></div><div class=\"contnr c1    \" ><div class=\"lbl c1  \" ><span class=\"nd\">phrase </span></div><div class=\"children hor wrap \"><div class=\"contnr c0 trm   \" ><div class=\"lbl c0 trm \" ><span class=\"txtu\">τὸν </span></div></div><div class=\"contnr c0 trm   \" ><div class=\"lbl c0 trm \" ><span class=\"txtu\">Ἰωβὴδ </span></div></div></div></div><div class=\"contnr c1    \" ><div class=\"lbl c1  \" ><span class=\"nd\">phrase </span></div><div class=\"children hor wrap \"><div class=\"contnr c0 trm   \" ><div class=\"lbl c0 trm \" ><span class=\"txtu\">ἐκ </span></div></div><div class=\"contnr c1    \" ><div class=\"lbl c1  \" ><span class=\"nd\">phrase </span></div><div class=\"children hor wrap \"><div class=\"contnr c0 trm   \" ><div class=\"lbl c0 trm \" ><span class=\"txtu\">τῆς </span></div></div><div class=\"contnr c0 trm   \" ><div class=\"lbl c0 trm \" ><span class=\"txtu\">Ῥούθ,</span></div></div></div></div></div></div></div></div><div class=\"contnr c1   r \" ><div class=\"lbl c1  \" ><span class=\"nd\">clause </span></div><div class=\"children hor wrap \"><div class=\"contnr c0 trm   \" ><div class=\"lbl c0 trm \" ><span class=\"txtu\">Ἰωβὴδ </span></div></div></div></div><div class=\"contnr c0 trm   \" ><div class=\"lbl c0 trm \" ><span class=\"txtu\">δὲ </span></div></div><div class=\"contnr c1   l \" ><div class=\"lbl c1  \" ><span class=\"nd\">clause </span></div><div class=\"children hor wrap \"><div class=\"contnr c0 trm   \" ><div class=\"lbl c0 trm \" ><span class=\"txtu\">ἐγέννησεν </span></div></div><div class=\"contnr c1    \" ><div class=\"lbl c1  \" ><span class=\"nd\">phrase </span></div><div class=\"children hor wrap \"><div class=\"contnr c0 trm   \" ><div class=\"lbl c0 trm \" ><span class=\"txtu\">τὸν </span></div></div><div class=\"contnr c0 trm   \" ><div class=\"lbl c0 trm \" ><span class=\"txtu\">Ἰεσσαί,</span></div></div></div></div></div></div><div class=\"contnr c1   r \" ><div class=\"lbl c1  \" ><span class=\"nd\">clause </span></div><div class=\"children hor wrap \"><div class=\"contnr c0 trm   \" ><div class=\"lbl c0 trm \" ><span class=\"txtu\">Ἰεσσαὶ </span></div></div></div></div><div class=\"contnr c0 trm   \" ><div class=\"lbl c0 trm \" ><span class=\"txtu\">δὲ </span></div></div><div class=\"contnr c1   l \" ><div class=\"lbl c1  \" ><span class=\"nd\">clause </span></div><div class=\"children hor wrap \"><div class=\"contnr c0 trm   \" ><div class=\"lbl c0 trm \" ><span class=\"txtu\">ἐγέννησεν </span></div></div><div class=\"contnr c1    \" ><div class=\"lbl c1  \" ><span class=\"nd\">phrase </span></div><div class=\"children hor wrap \"><div class=\"contnr c0 trm   \" ><div class=\"lbl c0 trm \" ><span class=\"txtu\">τὸν </span></div></div><div class=\"contnr c0 trm   \" ><div class=\"lbl c0 trm \" ><span class=\"txtu\">Δαυεὶδ </span></div></div></div></div><div class=\"contnr c1    \" ><div class=\"lbl c1  \" ><span class=\"nd\">phrase </span></div><div class=\"children hor wrap \"><div class=\"contnr c0 trm   \" ><div class=\"lbl c0 trm \" ><span class=\"txtu\">τὸν </span></div></div><div class=\"contnr c0 trm   \" ><div class=\"lbl c0 trm \" ><span class=\"txtu\">βασιλέα.</span></div></div></div></div></div></div></div></div></div>"
      ],
      "text/plain": [
       "<IPython.core.display.HTML object>"
      ]
     },
     "metadata": {},
     "output_type": "display_data"
    }
   ],
   "source": [
    "word = L.d(s, otype=\"word\")[0]\n",
    "\n",
    "parent = E.parent.f(word)[0]\n",
    "\n",
    "A.pretty(s, highlights={parent: \"cyan\", word: \"salmon\"}, hiddenTypes={\"wg\"})"
   ]
  },
  {
   "cell_type": "markdown",
   "id": "f9349c90-e7e6-4dec-8028-13daa1e9a8d5",
   "metadata": {},
   "source": [
    "Look for `wg` parents that have `word` children."
   ]
  },
  {
   "cell_type": "code",
   "execution_count": 7,
   "id": "a6a66afc-d0c0-4637-a49a-e2d71bc2041d",
   "metadata": {},
   "outputs": [
    {
     "name": "stdout",
     "output_type": "stream",
     "text": [
      "  0.63s 457 results\n"
     ]
    },
    {
     "data": {
      "text/html": [
       "<p><b>result</b> <i>1</i>"
      ],
      "text/plain": [
       "<IPython.core.display.HTML object>"
      ]
     },
     "metadata": {},
     "output_type": "display_data"
    },
    {
     "data": {
      "text/html": [
       "<div class=\"tfsechead \"><span class=\"ltr\"><a target=\"_blank\" href=\"https://public.saulocantanhede.org/tfgreek2/Jude/1/1&amp;version=0.5.0\" title=\"Show this on the website\" sec=\"Jude\">Jude</a></span></div><div class=\" children\"><div class=\"contnr c4 trm   \" ><div class=\"lbl c4 trm \" ><span class=\"nd\">book </span> <span class=\"txtu\"><span class=\"tfsechead ltr\"><span class=\"ltr\">Jude</span></span></span></div></div></div>"
      ],
      "text/plain": [
       "<IPython.core.display.HTML object>"
      ]
     },
     "metadata": {},
     "output_type": "display_data"
    },
    {
     "data": {
      "text/html": [
       "<div class=\"tfsechead \"><span class=\"ltr\"><a target=\"_blank\" href=\"https://public.saulocantanhede.org/tfgreek2/Jude/1/1&amp;version=0.5.0\" title=\"Show this on the website\" sec=\"Jude@1:1\">Jude@1:1</a></span></div><div class=\" children\"><div class=\"contnr c2    \" ><div class=\"lbl c2  \" ><span class=\"nd\">wg </span></div><div class=\"children hor wrap \"><div class=\"contnr c1   rno \" ><div class=\"lbl c1  \" ><span class=\"nd\">clause </span></div><div class=\"children hor wrap \"><div class=\"contnr c0 trm   hl\" ><div class=\"lbl c0 trm hl\" ><span class=\"txtu\">Ἰούδας </span></div></div><div class=\"contnr c1    \" ><div class=\"lbl c1  \" ><span class=\"nd\">phrase </span></div><div class=\"children hor wrap \"><div class=\"contnr c0 trm   \" ><div class=\"lbl c0 trm \" ><span class=\"txtu\">Ἰησοῦ </span></div></div><div class=\"contnr c0 trm   \" ><div class=\"lbl c0 trm \" ><span class=\"txtu\">Χριστοῦ </span></div></div><div class=\"contnr c0 trm   \" ><div class=\"lbl c0 trm \" ><span class=\"txtu\">δοῦλος,</span></div></div></div></div><div class=\"contnr c1   r \" ><div class=\"lbl c1  \" ><span class=\"nd\">phrase </span></div><div class=\"children hor wrap \"><div class=\"contnr c0 trm   \" ><div class=\"lbl c0 trm \" ><span class=\"txtu\">ἀδελφὸς </span></div></div></div></div><div class=\"contnr c0 trm   \" ><div class=\"lbl c0 trm \" ><span class=\"txtu\">δὲ </span></div></div><div class=\"contnr c1   l \" ><div class=\"lbl c1  \" ><span class=\"nd\">phrase </span></div><div class=\"children hor wrap \"><div class=\"contnr c0 trm   \" ><div class=\"lbl c0 trm \" ><span class=\"txtu\">Ἰακώβου,</span></div></div></div></div></div></div></div></div></div>"
      ],
      "text/plain": [
       "<IPython.core.display.HTML object>"
      ]
     },
     "metadata": {},
     "output_type": "display_data"
    }
   ],
   "source": [
    "results = A.search(\"\"\"\n",
    "book book=Jude\n",
    "  wg\n",
    "  <parent- word\n",
    "\"\"\")\n",
    "A.show(results, end=1, condenseType=\"wg\", queryFeatures=False, hiddenTypes={\"wg\"})"
   ]
  },
  {
   "cell_type": "markdown",
   "id": "90e05ac5-3ae8-45de-8c4e-78e47153eac2",
   "metadata": {},
   "source": [
    "# Siblings"
   ]
  },
  {
   "cell_type": "code",
   "execution_count": 8,
   "id": "62ef73d7-5069-4b29-a9f1-12750422938f",
   "metadata": {},
   "outputs": [
    {
     "name": "stdout",
     "output_type": "stream",
     "text": [
      "distance from wg-node 226821 to wg-node 226823 = `1`\n",
      "\n",
      "\n"
     ]
    },
    {
     "data": {
      "text/html": [
       "<div class=\"tfsechead \"><span class=\"ltr\"><a target=\"_blank\" href=\"https://public.ETCBC.org/nestle1904/MAT/1/2&amp;version=0.4.0\" title=\"Show this on the website\" sec=\"MAT@1:2\">MAT@1:2</a></span></div><div class=\" children\"><div class=\"contnr c2    \" ><div class=\"lbl c2  \" ><span class=\"nd\">wg </span></div><div class=\"children hor wrap \"><div class=\"contnr c1   rno \" ><div class=\"lbl c1  \" ><span class=\"nd\">clause </span></div><div class=\"children hor wrap \"><div class=\"contnr c0 trm   \" ><div class=\"lbl c0 trm \" ><span class=\"txtu grc\">Ἀβραὰμ </span></div></div><div class=\"contnr c0 trm   \" ><div class=\"lbl c0 trm \" ><span class=\"txtu grc\">ἐγέννησεν </span></div></div></div></div><div class=\"contnr c2    \" ><div class=\"lbl c2  \" ><span class=\"nd\">wg </span></div><div class=\"children hor wrap \"><div class=\"contnr c1   lno \" ><div class=\"lbl c1  \" ><span class=\"nd\">clause </span></div><div class=\"children hor wrap \"><div class=\"contnr c1    \" ><div class=\"lbl c1  \" ><span class=\"nd\">phrase </span></div><div class=\"children hor wrap \"><div class=\"contnr c0 trm   \" ><div class=\"lbl c0 trm \" ><span class=\"txtu grc\">τὸν </span></div></div><div class=\"contnr c0 trm   \" ><div class=\"lbl c0 trm \" ><span class=\"txtu grc\">Ἰσαάκ,</span></div></div></div></div></div></div></div></div></div></div></div>"
      ],
      "text/plain": [
       "<IPython.core.display.HTML object>"
      ]
     },
     "metadata": {},
     "output_type": "display_data"
    },
    {
     "name": "stdout",
     "output_type": "stream",
     "text": [
      "distance from wg-node 226826 to wg-node 226823 = `1`\n",
      "\n",
      "\n"
     ]
    },
    {
     "data": {
      "text/html": [
       "<div class=\"tfsechead \"><span class=\"ltr\"><a target=\"_blank\" href=\"https://public.ETCBC.org/nestle1904/MAT/1/2&amp;version=0.4.0\" title=\"Show this on the website\" sec=\"MAT@1:2\">MAT@1:2</a></span></div><div class=\" children\"><div class=\"contnr c2    \" ><div class=\"lbl c2  \" ><span class=\"nd\">wg </span></div><div class=\"children hor wrap \"><div class=\"contnr c2   r \" ><div class=\"lbl c2  \" ><span class=\"nd\">wg </span></div><div class=\"children hor wrap \"><div class=\"contnr c1   r \" ><div class=\"lbl c1  \" ><span class=\"nd\">clause </span></div><div class=\"children hor wrap \"><div class=\"contnr c0 trm   \" ><div class=\"lbl c0 trm \" ><span class=\"txtu grc\">Ἰακὼβ </span></div></div></div></div></div></div><div class=\"contnr c0 trm   \" ><div class=\"lbl c0 trm \" ><span class=\"txtu grc\">δὲ </span></div></div><div class=\"contnr c2   l \" ><div class=\"lbl c2  \" ><span class=\"nd\">wg </span></div><div class=\"children hor wrap \"><div class=\"contnr c1   l rno \" ><div class=\"lbl c1  \" ><span class=\"nd\">clause </span></div><div class=\"children hor wrap \"><div class=\"contnr c0 trm   \" ><div class=\"lbl c0 trm \" ><span class=\"txtu grc\">ἐγέννησεν </span></div></div></div></div><div class=\"contnr c2    \" ><div class=\"lbl c2  \" ><span class=\"nd\">wg </span></div><div class=\"children hor wrap \"><div class=\"contnr c2    \" ><div class=\"lbl c2  \" ><span class=\"nd\">wg </span></div><div class=\"children hor wrap \"><div class=\"contnr c1   lno rno \" ><div class=\"lbl c1  \" ><span class=\"nd\">clause </span></div><div class=\"children hor wrap \"><div class=\"contnr c1    \" ><div class=\"lbl c1  \" ><span class=\"nd\">phrase </span></div><div class=\"children hor wrap \"><div class=\"contnr c0 trm   \" ><div class=\"lbl c0 trm \" ><span class=\"txtu grc\">τὸν </span></div></div><div class=\"contnr c0 trm   \" ><div class=\"lbl c0 trm \" ><span class=\"txtu grc\">Ἰούδαν </span></div></div></div></div></div></div></div></div><div class=\"contnr c2    \" ><div class=\"lbl c2  \" ><span class=\"nd\">wg </span></div><div class=\"children hor wrap \"><div class=\"contnr c1   lno rno \" ><div class=\"lbl c1  \" ><span class=\"nd\">clause </span></div><div class=\"children hor wrap \"><div class=\"contnr c0 trm   \" ><div class=\"lbl c0 trm \" ><span class=\"txtu grc\">καὶ </span></div></div></div></div><div class=\"contnr c2    \" ><div class=\"lbl c2  \" ><span class=\"nd\">wg </span></div><div class=\"children hor wrap \"><div class=\"contnr c1   lno rno \" ><div class=\"lbl c1  \" ><span class=\"nd\">clause </span></div><div class=\"children hor wrap \"><div class=\"contnr c1   rno \" ><div class=\"lbl c1  \" ><span class=\"nd\">phrase </span></div><div class=\"children hor wrap \"><div class=\"contnr c0 trm   \" ><div class=\"lbl c0 trm \" ><span class=\"txtu grc\">τοὺς </span></div></div></div></div></div></div><div class=\"contnr c2    \" ><div class=\"lbl c2  \" ><span class=\"nd\">wg </span></div><div class=\"children hor wrap \"><div class=\"contnr c1   lno \" ><div class=\"lbl c1  \" ><span class=\"nd\">clause </span></div><div class=\"children hor wrap \"><div class=\"contnr c1   lno \" ><div class=\"lbl c1  \" ><span class=\"nd\">phrase </span></div><div class=\"children hor wrap \"><div class=\"contnr c1    \" ><div class=\"lbl c1  \" ><span class=\"nd\">phrase </span></div><div class=\"children hor wrap \"><div class=\"contnr c0 trm   \" ><div class=\"lbl c0 trm \" ><span class=\"txtu grc\">ἀδελφοὺς </span></div></div><div class=\"contnr c0 trm   \" ><div class=\"lbl c0 trm \" ><span class=\"txtu grc\">αὐτοῦ,</span></div></div></div></div></div></div></div></div></div></div></div></div></div></div></div></div></div></div></div></div></div>"
      ],
      "text/plain": [
       "<IPython.core.display.HTML object>"
      ]
     },
     "metadata": {},
     "output_type": "display_data"
    },
    {
     "name": "stdout",
     "output_type": "stream",
     "text": [
      "distance from wg-node 226833 to wg-node 226823 = `2`\n",
      "\n",
      "\n"
     ]
    },
    {
     "data": {
      "text/html": [
       "<div class=\"tfsechead \"><span class=\"ltr\"><a target=\"_blank\" href=\"https://public.ETCBC.org/nestle1904/MAT/1/3&amp;version=0.4.0\" title=\"Show this on the website\" sec=\"MAT@1:3\">MAT@1:3</a></span></div><div class=\" children\"><div class=\"contnr c2    \" ><div class=\"lbl c2  \" ><span class=\"nd\">wg </span></div><div class=\"children hor wrap \"><div class=\"contnr c2   r \" ><div class=\"lbl c2  \" ><span class=\"nd\">wg </span></div><div class=\"children hor wrap \"><div class=\"contnr c1   r \" ><div class=\"lbl c1  \" ><span class=\"nd\">clause </span></div><div class=\"children hor wrap \"><div class=\"contnr c0 trm   \" ><div class=\"lbl c0 trm \" ><span class=\"txtu grc\">Ἰούδας </span></div></div></div></div></div></div><div class=\"contnr c0 trm   \" ><div class=\"lbl c0 trm \" ><span class=\"txtu grc\">δὲ </span></div></div><div class=\"contnr c2   l \" ><div class=\"lbl c2  \" ><span class=\"nd\">wg </span></div><div class=\"children hor wrap \"><div class=\"contnr c1   l rno \" ><div class=\"lbl c1  \" ><span class=\"nd\">clause </span></div><div class=\"children hor wrap \"><div class=\"contnr c0 trm   \" ><div class=\"lbl c0 trm \" ><span class=\"txtu grc\">ἐγέννησεν </span></div></div></div></div><div class=\"contnr c2    \" ><div class=\"lbl c2  \" ><span class=\"nd\">wg </span></div><div class=\"children hor wrap \"><div class=\"contnr c2    \" ><div class=\"lbl c2  \" ><span class=\"nd\">wg </span></div><div class=\"children hor wrap \"><div class=\"contnr c1   lno rno \" ><div class=\"lbl c1  \" ><span class=\"nd\">clause </span></div><div class=\"children hor wrap \"><div class=\"contnr c1    \" ><div class=\"lbl c1  \" ><span class=\"nd\">phrase </span></div><div class=\"children hor wrap \"><div class=\"contnr c0 trm   \" ><div class=\"lbl c0 trm \" ><span class=\"txtu grc\">τὸν </span></div></div><div class=\"contnr c0 trm   \" ><div class=\"lbl c0 trm \" ><span class=\"txtu grc\">Φαρὲς </span></div></div></div></div></div></div></div></div><div class=\"contnr c2    \" ><div class=\"lbl c2  \" ><span class=\"nd\">wg </span></div><div class=\"children hor wrap \"><div class=\"contnr c1   lno rno \" ><div class=\"lbl c1  \" ><span class=\"nd\">clause </span></div><div class=\"children hor wrap \"><div class=\"contnr c0 trm   \" ><div class=\"lbl c0 trm \" ><span class=\"txtu grc\">καὶ </span></div></div></div></div><div class=\"contnr c2    \" ><div class=\"lbl c2  \" ><span class=\"nd\">wg </span></div><div class=\"children hor wrap \"><div class=\"contnr c1   lno rno \" ><div class=\"lbl c1  \" ><span class=\"nd\">clause </span></div><div class=\"children hor wrap \"><div class=\"contnr c1    \" ><div class=\"lbl c1  \" ><span class=\"nd\">phrase </span></div><div class=\"children hor wrap \"><div class=\"contnr c0 trm   \" ><div class=\"lbl c0 trm \" ><span class=\"txtu grc\">τὸν </span></div></div><div class=\"contnr c0 trm   \" ><div class=\"lbl c0 trm \" ><span class=\"txtu grc\">Ζαρὰ </span></div></div></div></div></div></div></div></div></div></div></div></div><div class=\"contnr c2    \" ><div class=\"lbl c2  \" ><span class=\"nd\">wg </span></div><div class=\"children hor wrap \"><div class=\"contnr c1   lno rno \" ><div class=\"lbl c1  \" ><span class=\"nd\">clause </span></div><div class=\"children hor wrap \"><div class=\"contnr c1   rno \" ><div class=\"lbl c1  \" ><span class=\"nd\">phrase </span></div><div class=\"children hor wrap \"><div class=\"contnr c0 trm   \" ><div class=\"lbl c0 trm \" ><span class=\"txtu grc\">ἐκ </span></div></div></div></div></div></div><div class=\"contnr c2    \" ><div class=\"lbl c2  \" ><span class=\"nd\">wg </span></div><div class=\"children hor wrap \"><div class=\"contnr c1   lno \" ><div class=\"lbl c1  \" ><span class=\"nd\">clause </span></div><div class=\"children hor wrap \"><div class=\"contnr c1   lno \" ><div class=\"lbl c1  \" ><span class=\"nd\">phrase </span></div><div class=\"children hor wrap \"><div class=\"contnr c1    \" ><div class=\"lbl c1  \" ><span class=\"nd\">phrase </span></div><div class=\"children hor wrap \"><div class=\"contnr c0 trm   \" ><div class=\"lbl c0 trm \" ><span class=\"txtu grc\">τῆς </span></div></div><div class=\"contnr c0 trm   \" ><div class=\"lbl c0 trm \" ><span class=\"txtu grc\">Θάμαρ,</span></div></div></div></div></div></div></div></div></div></div></div></div></div></div></div></div></div>"
      ],
      "text/plain": [
       "<IPython.core.display.HTML object>"
      ]
     },
     "metadata": {},
     "output_type": "display_data"
    },
    {
     "name": "stdout",
     "output_type": "stream",
     "text": [
      "distance from wg-node 226841 to wg-node 226823 = `3`\n",
      "\n",
      "\n"
     ]
    },
    {
     "data": {
      "text/html": [
       "<div class=\"tfsechead \"><span class=\"ltr\"><a target=\"_blank\" href=\"https://public.ETCBC.org/nestle1904/MAT/1/3&amp;version=0.4.0\" title=\"Show this on the website\" sec=\"MAT@1:3\">MAT@1:3</a></span></div><div class=\" children\"><div class=\"contnr c2    \" ><div class=\"lbl c2  \" ><span class=\"nd\">wg </span></div><div class=\"children hor wrap \"><div class=\"contnr c2   r \" ><div class=\"lbl c2  \" ><span class=\"nd\">wg </span></div><div class=\"children hor wrap \"><div class=\"contnr c1   r \" ><div class=\"lbl c1  \" ><span class=\"nd\">clause </span></div><div class=\"children hor wrap \"><div class=\"contnr c0 trm   \" ><div class=\"lbl c0 trm \" ><span class=\"txtu grc\">Φαρὲς </span></div></div></div></div></div></div><div class=\"contnr c0 trm   \" ><div class=\"lbl c0 trm \" ><span class=\"txtu grc\">δὲ </span></div></div><div class=\"contnr c2   l \" ><div class=\"lbl c2  \" ><span class=\"nd\">wg </span></div><div class=\"children hor wrap \"><div class=\"contnr c1   l rno \" ><div class=\"lbl c1  \" ><span class=\"nd\">clause </span></div><div class=\"children hor wrap \"><div class=\"contnr c0 trm   \" ><div class=\"lbl c0 trm \" ><span class=\"txtu grc\">ἐγέννησεν </span></div></div></div></div><div class=\"contnr c2    \" ><div class=\"lbl c2  \" ><span class=\"nd\">wg </span></div><div class=\"children hor wrap \"><div class=\"contnr c1   lno \" ><div class=\"lbl c1  \" ><span class=\"nd\">clause </span></div><div class=\"children hor wrap \"><div class=\"contnr c1    \" ><div class=\"lbl c1  \" ><span class=\"nd\">phrase </span></div><div class=\"children hor wrap \"><div class=\"contnr c0 trm   \" ><div class=\"lbl c0 trm \" ><span class=\"txtu grc\">τὸν </span></div></div><div class=\"contnr c0 trm   \" ><div class=\"lbl c0 trm \" ><span class=\"txtu grc\">Ἐσρώμ,</span></div></div></div></div></div></div></div></div></div></div></div></div></div>"
      ],
      "text/plain": [
       "<IPython.core.display.HTML object>"
      ]
     },
     "metadata": {},
     "output_type": "display_data"
    },
    {
     "name": "stdout",
     "output_type": "stream",
     "text": [
      "distance from wg-node 226844 to wg-node 226823 = `4`\n",
      "\n",
      "\n"
     ]
    },
    {
     "data": {
      "text/html": [
       "<div class=\"tfsechead \"><span class=\"ltr\"><a target=\"_blank\" href=\"https://public.ETCBC.org/nestle1904/MAT/1/3&amp;version=0.4.0\" title=\"Show this on the website\" sec=\"MAT@1:3\">MAT@1:3</a></span></div><div class=\" children\"><div class=\"contnr c2    \" ><div class=\"lbl c2  \" ><span class=\"nd\">wg </span></div><div class=\"children hor wrap \"><div class=\"contnr c2   r \" ><div class=\"lbl c2  \" ><span class=\"nd\">wg </span></div><div class=\"children hor wrap \"><div class=\"contnr c1   r \" ><div class=\"lbl c1  \" ><span class=\"nd\">clause </span></div><div class=\"children hor wrap \"><div class=\"contnr c0 trm   \" ><div class=\"lbl c0 trm \" ><span class=\"txtu grc\">Ἐσρὼμ </span></div></div></div></div></div></div><div class=\"contnr c0 trm   \" ><div class=\"lbl c0 trm \" ><span class=\"txtu grc\">δὲ </span></div></div><div class=\"contnr c2   l \" ><div class=\"lbl c2  \" ><span class=\"nd\">wg </span></div><div class=\"children hor wrap \"><div class=\"contnr c1   l rno \" ><div class=\"lbl c1  \" ><span class=\"nd\">clause </span></div><div class=\"children hor wrap \"><div class=\"contnr c0 trm   \" ><div class=\"lbl c0 trm \" ><span class=\"txtu grc\">ἐγέννησεν </span></div></div></div></div><div class=\"contnr c2    \" ><div class=\"lbl c2  \" ><span class=\"nd\">wg </span></div><div class=\"children hor wrap \"><div class=\"contnr c1   lno \" ><div class=\"lbl c1  \" ><span class=\"nd\">clause </span></div><div class=\"children hor wrap \"><div class=\"contnr c1    \" ><div class=\"lbl c1  \" ><span class=\"nd\">phrase </span></div><div class=\"children hor wrap \"><div class=\"contnr c0 trm   \" ><div class=\"lbl c0 trm \" ><span class=\"txtu grc\">τὸν </span></div></div><div class=\"contnr c0 trm   \" ><div class=\"lbl c0 trm \" ><span class=\"txtu grc\">Ἀράμ,</span></div></div></div></div></div></div></div></div></div></div></div></div></div>"
      ],
      "text/plain": [
       "<IPython.core.display.HTML object>"
      ]
     },
     "metadata": {},
     "output_type": "display_data"
    },
    {
     "name": "stdout",
     "output_type": "stream",
     "text": [
      "distance from wg-node 226847 to wg-node 226823 = `5`\n",
      "\n",
      "\n"
     ]
    },
    {
     "data": {
      "text/html": [
       "<div class=\"tfsechead \"><span class=\"ltr\"><a target=\"_blank\" href=\"https://public.ETCBC.org/nestle1904/MAT/1/4&amp;version=0.4.0\" title=\"Show this on the website\" sec=\"MAT@1:4\">MAT@1:4</a></span></div><div class=\" children\"><div class=\"contnr c2    \" ><div class=\"lbl c2  \" ><span class=\"nd\">wg </span></div><div class=\"children hor wrap \"><div class=\"contnr c2   r \" ><div class=\"lbl c2  \" ><span class=\"nd\">wg </span></div><div class=\"children hor wrap \"><div class=\"contnr c1   r \" ><div class=\"lbl c1  \" ><span class=\"nd\">clause </span></div><div class=\"children hor wrap \"><div class=\"contnr c0 trm   \" ><div class=\"lbl c0 trm \" ><span class=\"txtu grc\">Ἀρὰμ </span></div></div></div></div></div></div><div class=\"contnr c0 trm   \" ><div class=\"lbl c0 trm \" ><span class=\"txtu grc\">δὲ </span></div></div><div class=\"contnr c2   l \" ><div class=\"lbl c2  \" ><span class=\"nd\">wg </span></div><div class=\"children hor wrap \"><div class=\"contnr c1   l rno \" ><div class=\"lbl c1  \" ><span class=\"nd\">clause </span></div><div class=\"children hor wrap \"><div class=\"contnr c0 trm   \" ><div class=\"lbl c0 trm \" ><span class=\"txtu grc\">ἐγέννησεν </span></div></div></div></div><div class=\"contnr c2    \" ><div class=\"lbl c2  \" ><span class=\"nd\">wg </span></div><div class=\"children hor wrap \"><div class=\"contnr c1   lno \" ><div class=\"lbl c1  \" ><span class=\"nd\">clause </span></div><div class=\"children hor wrap \"><div class=\"contnr c1    \" ><div class=\"lbl c1  \" ><span class=\"nd\">phrase </span></div><div class=\"children hor wrap \"><div class=\"contnr c0 trm   \" ><div class=\"lbl c0 trm \" ><span class=\"txtu grc\">τὸν </span></div></div><div class=\"contnr c0 trm   \" ><div class=\"lbl c0 trm \" ><span class=\"txtu grc\">Ἀμιναδάβ,</span></div></div></div></div></div></div></div></div></div></div></div></div></div>"
      ],
      "text/plain": [
       "<IPython.core.display.HTML object>"
      ]
     },
     "metadata": {},
     "output_type": "display_data"
    },
    {
     "name": "stdout",
     "output_type": "stream",
     "text": [
      "distance from wg-node 226850 to wg-node 226823 = `6`\n",
      "\n",
      "\n"
     ]
    },
    {
     "data": {
      "text/html": [
       "<div class=\"tfsechead \"><span class=\"ltr\"><a target=\"_blank\" href=\"https://public.ETCBC.org/nestle1904/MAT/1/4&amp;version=0.4.0\" title=\"Show this on the website\" sec=\"MAT@1:4\">MAT@1:4</a></span></div><div class=\" children\"><div class=\"contnr c2    \" ><div class=\"lbl c2  \" ><span class=\"nd\">wg </span></div><div class=\"children hor wrap \"><div class=\"contnr c2   r \" ><div class=\"lbl c2  \" ><span class=\"nd\">wg </span></div><div class=\"children hor wrap \"><div class=\"contnr c1   r \" ><div class=\"lbl c1  \" ><span class=\"nd\">clause </span></div><div class=\"children hor wrap \"><div class=\"contnr c0 trm   \" ><div class=\"lbl c0 trm \" ><span class=\"txtu grc\">Ἀμιναδὰβ </span></div></div></div></div></div></div><div class=\"contnr c0 trm   \" ><div class=\"lbl c0 trm \" ><span class=\"txtu grc\">δὲ </span></div></div><div class=\"contnr c2   l \" ><div class=\"lbl c2  \" ><span class=\"nd\">wg </span></div><div class=\"children hor wrap \"><div class=\"contnr c1   l rno \" ><div class=\"lbl c1  \" ><span class=\"nd\">clause </span></div><div class=\"children hor wrap \"><div class=\"contnr c0 trm   \" ><div class=\"lbl c0 trm \" ><span class=\"txtu grc\">ἐγέννησεν </span></div></div></div></div><div class=\"contnr c2    \" ><div class=\"lbl c2  \" ><span class=\"nd\">wg </span></div><div class=\"children hor wrap \"><div class=\"contnr c1   lno \" ><div class=\"lbl c1  \" ><span class=\"nd\">clause </span></div><div class=\"children hor wrap \"><div class=\"contnr c1    \" ><div class=\"lbl c1  \" ><span class=\"nd\">phrase </span></div><div class=\"children hor wrap \"><div class=\"contnr c0 trm   \" ><div class=\"lbl c0 trm \" ><span class=\"txtu grc\">τὸν </span></div></div><div class=\"contnr c0 trm   \" ><div class=\"lbl c0 trm \" ><span class=\"txtu grc\">Ναασσών,</span></div></div></div></div></div></div></div></div></div></div></div></div></div>"
      ],
      "text/plain": [
       "<IPython.core.display.HTML object>"
      ]
     },
     "metadata": {},
     "output_type": "display_data"
    },
    {
     "name": "stdout",
     "output_type": "stream",
     "text": [
      "distance from wg-node 226853 to wg-node 226823 = `7`\n",
      "\n",
      "\n"
     ]
    },
    {
     "data": {
      "text/html": [
       "<div class=\"tfsechead \"><span class=\"ltr\"><a target=\"_blank\" href=\"https://public.ETCBC.org/nestle1904/MAT/1/4&amp;version=0.4.0\" title=\"Show this on the website\" sec=\"MAT@1:4\">MAT@1:4</a></span></div><div class=\" children\"><div class=\"contnr c2    \" ><div class=\"lbl c2  \" ><span class=\"nd\">wg </span></div><div class=\"children hor wrap \"><div class=\"contnr c2   r \" ><div class=\"lbl c2  \" ><span class=\"nd\">wg </span></div><div class=\"children hor wrap \"><div class=\"contnr c1   r \" ><div class=\"lbl c1  \" ><span class=\"nd\">clause </span></div><div class=\"children hor wrap \"><div class=\"contnr c0 trm   \" ><div class=\"lbl c0 trm \" ><span class=\"txtu grc\">Ναασσὼν </span></div></div></div></div></div></div><div class=\"contnr c0 trm   \" ><div class=\"lbl c0 trm \" ><span class=\"txtu grc\">δὲ </span></div></div><div class=\"contnr c2   l \" ><div class=\"lbl c2  \" ><span class=\"nd\">wg </span></div><div class=\"children hor wrap \"><div class=\"contnr c1   l rno \" ><div class=\"lbl c1  \" ><span class=\"nd\">clause </span></div><div class=\"children hor wrap \"><div class=\"contnr c0 trm   \" ><div class=\"lbl c0 trm \" ><span class=\"txtu grc\">ἐγέννησεν </span></div></div></div></div><div class=\"contnr c2    \" ><div class=\"lbl c2  \" ><span class=\"nd\">wg </span></div><div class=\"children hor wrap \"><div class=\"contnr c1   lno \" ><div class=\"lbl c1  \" ><span class=\"nd\">clause </span></div><div class=\"children hor wrap \"><div class=\"contnr c1    \" ><div class=\"lbl c1  \" ><span class=\"nd\">phrase </span></div><div class=\"children hor wrap \"><div class=\"contnr c0 trm   \" ><div class=\"lbl c0 trm \" ><span class=\"txtu grc\">τὸν </span></div></div><div class=\"contnr c0 trm   \" ><div class=\"lbl c0 trm \" ><span class=\"txtu grc\">Σαλμών,</span></div></div></div></div></div></div></div></div></div></div></div></div></div>"
      ],
      "text/plain": [
       "<IPython.core.display.HTML object>"
      ]
     },
     "metadata": {},
     "output_type": "display_data"
    },
    {
     "name": "stdout",
     "output_type": "stream",
     "text": [
      "distance from wg-node 226856 to wg-node 226823 = `8`\n",
      "\n",
      "\n"
     ]
    },
    {
     "data": {
      "text/html": [
       "<div class=\"tfsechead \"><span class=\"ltr\"><a target=\"_blank\" href=\"https://public.ETCBC.org/nestle1904/MAT/1/5&amp;version=0.4.0\" title=\"Show this on the website\" sec=\"MAT@1:5\">MAT@1:5</a></span></div><div class=\" children\"><div class=\"contnr c2    \" ><div class=\"lbl c2  \" ><span class=\"nd\">wg </span></div><div class=\"children hor wrap \"><div class=\"contnr c2   r \" ><div class=\"lbl c2  \" ><span class=\"nd\">wg </span></div><div class=\"children hor wrap \"><div class=\"contnr c1   r \" ><div class=\"lbl c1  \" ><span class=\"nd\">clause </span></div><div class=\"children hor wrap \"><div class=\"contnr c0 trm   \" ><div class=\"lbl c0 trm \" ><span class=\"txtu grc\">Σαλμὼν </span></div></div></div></div></div></div><div class=\"contnr c0 trm   \" ><div class=\"lbl c0 trm \" ><span class=\"txtu grc\">δὲ </span></div></div><div class=\"contnr c2   l \" ><div class=\"lbl c2  \" ><span class=\"nd\">wg </span></div><div class=\"children hor wrap \"><div class=\"contnr c1   l rno \" ><div class=\"lbl c1  \" ><span class=\"nd\">clause </span></div><div class=\"children hor wrap \"><div class=\"contnr c0 trm   \" ><div class=\"lbl c0 trm \" ><span class=\"txtu grc\">ἐγέννησεν </span></div></div></div></div><div class=\"contnr c2    \" ><div class=\"lbl c2  \" ><span class=\"nd\">wg </span></div><div class=\"children hor wrap \"><div class=\"contnr c1   lno rno \" ><div class=\"lbl c1  \" ><span class=\"nd\">clause </span></div><div class=\"children hor wrap \"><div class=\"contnr c1    \" ><div class=\"lbl c1  \" ><span class=\"nd\">phrase </span></div><div class=\"children hor wrap \"><div class=\"contnr c0 trm   \" ><div class=\"lbl c0 trm \" ><span class=\"txtu grc\">τὸν </span></div></div><div class=\"contnr c0 trm   \" ><div class=\"lbl c0 trm \" ><span class=\"txtu grc\">Βόες </span></div></div></div></div></div></div></div></div><div class=\"contnr c2    \" ><div class=\"lbl c2  \" ><span class=\"nd\">wg </span></div><div class=\"children hor wrap \"><div class=\"contnr c1   lno rno \" ><div class=\"lbl c1  \" ><span class=\"nd\">clause </span></div><div class=\"children hor wrap \"><div class=\"contnr c1   rno \" ><div class=\"lbl c1  \" ><span class=\"nd\">phrase </span></div><div class=\"children hor wrap \"><div class=\"contnr c0 trm   \" ><div class=\"lbl c0 trm \" ><span class=\"txtu grc\">ἐκ </span></div></div></div></div></div></div><div class=\"contnr c2    \" ><div class=\"lbl c2  \" ><span class=\"nd\">wg </span></div><div class=\"children hor wrap \"><div class=\"contnr c1   lno \" ><div class=\"lbl c1  \" ><span class=\"nd\">clause </span></div><div class=\"children hor wrap \"><div class=\"contnr c1   lno \" ><div class=\"lbl c1  \" ><span class=\"nd\">phrase </span></div><div class=\"children hor wrap \"><div class=\"contnr c1    \" ><div class=\"lbl c1  \" ><span class=\"nd\">phrase </span></div><div class=\"children hor wrap \"><div class=\"contnr c0 trm   \" ><div class=\"lbl c0 trm \" ><span class=\"txtu grc\">τῆς </span></div></div><div class=\"contnr c0 trm   \" ><div class=\"lbl c0 trm \" ><span class=\"txtu grc\">Ῥαχάβ,</span></div></div></div></div></div></div></div></div></div></div></div></div></div></div></div></div></div>"
      ],
      "text/plain": [
       "<IPython.core.display.HTML object>"
      ]
     },
     "metadata": {},
     "output_type": "display_data"
    },
    {
     "name": "stdout",
     "output_type": "stream",
     "text": [
      "distance from wg-node 226861 to wg-node 226823 = `9`\n",
      "\n",
      "\n"
     ]
    },
    {
     "data": {
      "text/html": [
       "<div class=\"tfsechead \"><span class=\"ltr\"><a target=\"_blank\" href=\"https://public.ETCBC.org/nestle1904/MAT/1/5&amp;version=0.4.0\" title=\"Show this on the website\" sec=\"MAT@1:5\">MAT@1:5</a></span></div><div class=\" children\"><div class=\"contnr c2    \" ><div class=\"lbl c2  \" ><span class=\"nd\">wg </span></div><div class=\"children hor wrap \"><div class=\"contnr c2   r \" ><div class=\"lbl c2  \" ><span class=\"nd\">wg </span></div><div class=\"children hor wrap \"><div class=\"contnr c1   r \" ><div class=\"lbl c1  \" ><span class=\"nd\">clause </span></div><div class=\"children hor wrap \"><div class=\"contnr c0 trm   \" ><div class=\"lbl c0 trm \" ><span class=\"txtu grc\">Βόες </span></div></div></div></div></div></div><div class=\"contnr c0 trm   \" ><div class=\"lbl c0 trm \" ><span class=\"txtu grc\">δὲ </span></div></div><div class=\"contnr c2   l \" ><div class=\"lbl c2  \" ><span class=\"nd\">wg </span></div><div class=\"children hor wrap \"><div class=\"contnr c1   l rno \" ><div class=\"lbl c1  \" ><span class=\"nd\">clause </span></div><div class=\"children hor wrap \"><div class=\"contnr c0 trm   \" ><div class=\"lbl c0 trm \" ><span class=\"txtu grc\">ἐγέννησεν </span></div></div></div></div><div class=\"contnr c2    \" ><div class=\"lbl c2  \" ><span class=\"nd\">wg </span></div><div class=\"children hor wrap \"><div class=\"contnr c1   lno rno \" ><div class=\"lbl c1  \" ><span class=\"nd\">clause </span></div><div class=\"children hor wrap \"><div class=\"contnr c1    \" ><div class=\"lbl c1  \" ><span class=\"nd\">phrase </span></div><div class=\"children hor wrap \"><div class=\"contnr c0 trm   \" ><div class=\"lbl c0 trm \" ><span class=\"txtu grc\">τὸν </span></div></div><div class=\"contnr c0 trm   \" ><div class=\"lbl c0 trm \" ><span class=\"txtu grc\">Ἰωβὴδ </span></div></div></div></div></div></div></div></div><div class=\"contnr c2    \" ><div class=\"lbl c2  \" ><span class=\"nd\">wg </span></div><div class=\"children hor wrap \"><div class=\"contnr c1   lno rno \" ><div class=\"lbl c1  \" ><span class=\"nd\">clause </span></div><div class=\"children hor wrap \"><div class=\"contnr c1   rno \" ><div class=\"lbl c1  \" ><span class=\"nd\">phrase </span></div><div class=\"children hor wrap \"><div class=\"contnr c0 trm   \" ><div class=\"lbl c0 trm \" ><span class=\"txtu grc\">ἐκ </span></div></div></div></div></div></div><div class=\"contnr c2    \" ><div class=\"lbl c2  \" ><span class=\"nd\">wg </span></div><div class=\"children hor wrap \"><div class=\"contnr c1   lno \" ><div class=\"lbl c1  \" ><span class=\"nd\">clause </span></div><div class=\"children hor wrap \"><div class=\"contnr c1   lno \" ><div class=\"lbl c1  \" ><span class=\"nd\">phrase </span></div><div class=\"children hor wrap \"><div class=\"contnr c1    \" ><div class=\"lbl c1  \" ><span class=\"nd\">phrase </span></div><div class=\"children hor wrap \"><div class=\"contnr c0 trm   \" ><div class=\"lbl c0 trm \" ><span class=\"txtu grc\">τῆς </span></div></div><div class=\"contnr c0 trm   \" ><div class=\"lbl c0 trm \" ><span class=\"txtu grc\">Ῥούθ,</span></div></div></div></div></div></div></div></div></div></div></div></div></div></div></div></div></div>"
      ],
      "text/plain": [
       "<IPython.core.display.HTML object>"
      ]
     },
     "metadata": {},
     "output_type": "display_data"
    },
    {
     "name": "stdout",
     "output_type": "stream",
     "text": [
      "distance from wg-node 226866 to wg-node 226823 = `10`\n",
      "\n",
      "\n"
     ]
    },
    {
     "data": {
      "text/html": [
       "<div class=\"tfsechead \"><span class=\"ltr\"><a target=\"_blank\" href=\"https://public.ETCBC.org/nestle1904/MAT/1/5&amp;version=0.4.0\" title=\"Show this on the website\" sec=\"MAT@1:5\">MAT@1:5</a></span></div><div class=\" children\"><div class=\"contnr c2    \" ><div class=\"lbl c2  \" ><span class=\"nd\">wg </span></div><div class=\"children hor wrap \"><div class=\"contnr c2   r \" ><div class=\"lbl c2  \" ><span class=\"nd\">wg </span></div><div class=\"children hor wrap \"><div class=\"contnr c1   r \" ><div class=\"lbl c1  \" ><span class=\"nd\">clause </span></div><div class=\"children hor wrap \"><div class=\"contnr c0 trm   \" ><div class=\"lbl c0 trm \" ><span class=\"txtu grc\">Ἰωβὴδ </span></div></div></div></div></div></div><div class=\"contnr c0 trm   \" ><div class=\"lbl c0 trm \" ><span class=\"txtu grc\">δὲ </span></div></div><div class=\"contnr c2   l \" ><div class=\"lbl c2  \" ><span class=\"nd\">wg </span></div><div class=\"children hor wrap \"><div class=\"contnr c1   l rno \" ><div class=\"lbl c1  \" ><span class=\"nd\">clause </span></div><div class=\"children hor wrap \"><div class=\"contnr c0 trm   \" ><div class=\"lbl c0 trm \" ><span class=\"txtu grc\">ἐγέννησεν </span></div></div></div></div><div class=\"contnr c2    \" ><div class=\"lbl c2  \" ><span class=\"nd\">wg </span></div><div class=\"children hor wrap \"><div class=\"contnr c1   lno \" ><div class=\"lbl c1  \" ><span class=\"nd\">clause </span></div><div class=\"children hor wrap \"><div class=\"contnr c1    \" ><div class=\"lbl c1  \" ><span class=\"nd\">phrase </span></div><div class=\"children hor wrap \"><div class=\"contnr c0 trm   \" ><div class=\"lbl c0 trm \" ><span class=\"txtu grc\">τὸν </span></div></div><div class=\"contnr c0 trm   \" ><div class=\"lbl c0 trm \" ><span class=\"txtu grc\">Ἰεσσαί,</span></div></div></div></div></div></div></div></div></div></div></div></div></div>"
      ],
      "text/plain": [
       "<IPython.core.display.HTML object>"
      ]
     },
     "metadata": {},
     "output_type": "display_data"
    },
    {
     "name": "stdout",
     "output_type": "stream",
     "text": [
      "distance from wg-node 226869 to wg-node 226823 = `11`\n",
      "\n",
      "\n"
     ]
    },
    {
     "data": {
      "text/html": [
       "<div class=\"tfsechead \"><span class=\"ltr\"><a target=\"_blank\" href=\"https://public.ETCBC.org/nestle1904/MAT/1/6&amp;version=0.4.0\" title=\"Show this on the website\" sec=\"MAT@1:6\">MAT@1:6</a></span></div><div class=\" children\"><div class=\"contnr c2    \" ><div class=\"lbl c2  \" ><span class=\"nd\">wg </span></div><div class=\"children hor wrap \"><div class=\"contnr c2   r \" ><div class=\"lbl c2  \" ><span class=\"nd\">wg </span></div><div class=\"children hor wrap \"><div class=\"contnr c1   r \" ><div class=\"lbl c1  \" ><span class=\"nd\">clause </span></div><div class=\"children hor wrap \"><div class=\"contnr c0 trm   \" ><div class=\"lbl c0 trm \" ><span class=\"txtu grc\">Ἰεσσαὶ </span></div></div></div></div></div></div><div class=\"contnr c0 trm   \" ><div class=\"lbl c0 trm \" ><span class=\"txtu grc\">δὲ </span></div></div><div class=\"contnr c2   l \" ><div class=\"lbl c2  \" ><span class=\"nd\">wg </span></div><div class=\"children hor wrap \"><div class=\"contnr c1   l rno \" ><div class=\"lbl c1  \" ><span class=\"nd\">clause </span></div><div class=\"children hor wrap \"><div class=\"contnr c0 trm   \" ><div class=\"lbl c0 trm \" ><span class=\"txtu grc\">ἐγέννησεν </span></div></div></div></div><div class=\"contnr c2    \" ><div class=\"lbl c2  \" ><span class=\"nd\">wg </span></div><div class=\"children hor wrap \"><div class=\"contnr c2    \" ><div class=\"lbl c2  \" ><span class=\"nd\">wg </span></div><div class=\"children hor wrap \"><div class=\"contnr c1   lno rno \" ><div class=\"lbl c1  \" ><span class=\"nd\">clause </span></div><div class=\"children hor wrap \"><div class=\"contnr c1    \" ><div class=\"lbl c1  \" ><span class=\"nd\">phrase </span></div><div class=\"children hor wrap \"><div class=\"contnr c0 trm   \" ><div class=\"lbl c0 trm \" ><span class=\"txtu grc\">τὸν </span></div></div><div class=\"contnr c0 trm   \" ><div class=\"lbl c0 trm \" ><span class=\"txtu grc\">Δαυεὶδ </span></div></div></div></div></div></div></div></div><div class=\"contnr c2    \" ><div class=\"lbl c2  \" ><span class=\"nd\">wg </span></div><div class=\"children hor wrap \"><div class=\"contnr c1   lno \" ><div class=\"lbl c1  \" ><span class=\"nd\">clause </span></div><div class=\"children hor wrap \"><div class=\"contnr c1    \" ><div class=\"lbl c1  \" ><span class=\"nd\">phrase </span></div><div class=\"children hor wrap \"><div class=\"contnr c0 trm   \" ><div class=\"lbl c0 trm \" ><span class=\"txtu grc\">τὸν </span></div></div><div class=\"contnr c0 trm   \" ><div class=\"lbl c0 trm \" ><span class=\"txtu grc\">βασιλέα.</span></div></div></div></div></div></div></div></div></div></div></div></div></div></div></div>"
      ],
      "text/plain": [
       "<IPython.core.display.HTML object>"
      ]
     },
     "metadata": {},
     "output_type": "display_data"
    },
    {
     "data": {
      "text/html": [
       "<div class=\"tfsechead \"><span class=\"ltr\"><a target=\"_blank\" href=\"https://public.saulocantanhede.org/tfgreek2/Matthew/1/2&amp;version=0.5.0\" title=\"Show this on the website\" sec=\"Matthew@1:2\">Matthew@1:2</a></span></div><div class=\" children\"><div class=\"contnr c2    \" ><div class=\"lbl c2  \" ><span class=\"nd\">wg </span></div><div class=\"children hor wrap \"><div class=\"contnr c2    hl\"  style=\"background-color: cyan;\" ><div class=\"lbl c2  hl\"  style=\"background-color: cyan;\" ><span class=\"nd\">wg </span></div><div class=\"children hor wrap \"><div class=\"contnr c1   rno \" ><div class=\"lbl c1  \" ><span class=\"nd\">clause </span></div><div class=\"children hor wrap \"><div class=\"contnr c0 trm   \" ><div class=\"lbl c0 trm \" ><span class=\"txtu\">Ἀβραὰμ </span></div><div class=\"features\"><span class=\"book xft\" ><span class=\"f\">book=</span>Matthew</span></div></div><div class=\"contnr c0 trm   \" ><div class=\"lbl c0 trm \" ><span class=\"txtu\">ἐγέννησεν </span></div><div class=\"features\"><span class=\"book xft\" ><span class=\"f\">book=</span>Matthew</span></div></div></div></div><div class=\"contnr c2    \" ><div class=\"lbl c2  \" ><span class=\"nd\">wg </span></div><div class=\"children hor wrap \"><div class=\"contnr c1   lno \" ><div class=\"lbl c1  \" ><span class=\"nd\">clause </span></div><div class=\"children hor wrap \"><div class=\"contnr c1    \" ><div class=\"lbl c1  \" ><span class=\"nd\">phrase </span></div><div class=\"children hor wrap \"><div class=\"contnr c0 trm   \" ><div class=\"lbl c0 trm \" ><span class=\"txtu\">τὸν </span></div><div class=\"features\"><span class=\"book xft\" ><span class=\"f\">book=</span>Matthew</span></div></div><div class=\"contnr c0 trm   \" ><div class=\"lbl c0 trm \" ><span class=\"txtu\">Ἰσαάκ,</span></div><div class=\"features\"><span class=\"book xft\" ><span class=\"f\">book=</span>Matthew</span></div></div></div></div></div></div></div></div></div></div><div class=\"contnr c2    hl\"  style=\"background-color: salmon;\" ><div class=\"lbl c2  hl\"  style=\"background-color: salmon;\" ><span class=\"nd\">wg </span></div><div class=\"children hor wrap \"><div class=\"contnr c2   r \" ><div class=\"lbl c2  \" ><span class=\"nd\">wg </span></div><div class=\"children hor wrap \"><div class=\"contnr c1   r \" ><div class=\"lbl c1  \" ><span class=\"nd\">clause </span></div><div class=\"children hor wrap \"><div class=\"contnr c0 trm   \" ><div class=\"lbl c0 trm \" ><span class=\"txtu\">Ἰσαὰκ </span></div><div class=\"features\"><span class=\"book xft\" ><span class=\"f\">book=</span>Matthew</span></div></div></div></div></div></div><div class=\"contnr c0 trm   \" ><div class=\"lbl c0 trm \" ><span class=\"txtu\">δὲ </span></div><div class=\"features\"><span class=\"book xft\" ><span class=\"f\">book=</span>Matthew</span></div></div><div class=\"contnr c2   l \" ><div class=\"lbl c2  \" ><span class=\"nd\">wg </span></div><div class=\"children hor wrap \"><div class=\"contnr c1   l rno \" ><div class=\"lbl c1  \" ><span class=\"nd\">clause </span></div><div class=\"children hor wrap \"><div class=\"contnr c0 trm   \" ><div class=\"lbl c0 trm \" ><span class=\"txtu\">ἐγέννησεν </span></div><div class=\"features\"><span class=\"book xft\" ><span class=\"f\">book=</span>Matthew</span></div></div></div></div><div class=\"contnr c2    \" ><div class=\"lbl c2  \" ><span class=\"nd\">wg </span></div><div class=\"children hor wrap \"><div class=\"contnr c1   lno \" ><div class=\"lbl c1  \" ><span class=\"nd\">clause </span></div><div class=\"children hor wrap \"><div class=\"contnr c1    \" ><div class=\"lbl c1  \" ><span class=\"nd\">phrase </span></div><div class=\"children hor wrap \"><div class=\"contnr c0 trm   \" ><div class=\"lbl c0 trm \" ><span class=\"txtu\">τὸν </span></div><div class=\"features\"><span class=\"book xft\" ><span class=\"f\">book=</span>Matthew</span></div></div><div class=\"contnr c0 trm   \" ><div class=\"lbl c0 trm \" ><span class=\"txtu\">Ἰακώβ,</span></div><div class=\"features\"><span class=\"book xft\" ><span class=\"f\">book=</span>Matthew</span></div></div></div></div></div></div></div></div></div></div></div></div><div class=\"contnr c2    hl\"  style=\"background-color: cyan;\" ><div class=\"lbl c2  hl\"  style=\"background-color: cyan;\" ><span class=\"nd\">wg </span></div><div class=\"children hor wrap \"><div class=\"contnr c2   r \" ><div class=\"lbl c2  \" ><span class=\"nd\">wg </span></div><div class=\"children hor wrap \"><div class=\"contnr c1   r \" ><div class=\"lbl c1  \" ><span class=\"nd\">clause </span></div><div class=\"children hor wrap \"><div class=\"contnr c0 trm   \" ><div class=\"lbl c0 trm \" ><span class=\"txtu\">Ἰακὼβ </span></div><div class=\"features\"><span class=\"book xft\" ><span class=\"f\">book=</span>Matthew</span></div></div></div></div></div></div><div class=\"contnr c0 trm   \" ><div class=\"lbl c0 trm \" ><span class=\"txtu\">δὲ </span></div><div class=\"features\"><span class=\"book xft\" ><span class=\"f\">book=</span>Matthew</span></div></div><div class=\"contnr c2   l \" ><div class=\"lbl c2  \" ><span class=\"nd\">wg </span></div><div class=\"children hor wrap \"><div class=\"contnr c1   l rno \" ><div class=\"lbl c1  \" ><span class=\"nd\">clause </span></div><div class=\"children hor wrap \"><div class=\"contnr c0 trm   \" ><div class=\"lbl c0 trm \" ><span class=\"txtu\">ἐγέννησεν </span></div><div class=\"features\"><span class=\"book xft\" ><span class=\"f\">book=</span>Matthew</span></div></div></div></div><div class=\"contnr c2    \" ><div class=\"lbl c2  \" ><span class=\"nd\">wg </span></div><div class=\"children hor wrap \"><div class=\"contnr c2    \" ><div class=\"lbl c2  \" ><span class=\"nd\">wg </span></div><div class=\"children hor wrap \"><div class=\"contnr c1   lno rno \" ><div class=\"lbl c1  \" ><span class=\"nd\">clause </span></div><div class=\"children hor wrap \"><div class=\"contnr c1    \" ><div class=\"lbl c1  \" ><span class=\"nd\">phrase </span></div><div class=\"children hor wrap \"><div class=\"contnr c0 trm   \" ><div class=\"lbl c0 trm \" ><span class=\"txtu\">τὸν </span></div><div class=\"features\"><span class=\"book xft\" ><span class=\"f\">book=</span>Matthew</span></div></div><div class=\"contnr c0 trm   \" ><div class=\"lbl c0 trm \" ><span class=\"txtu\">Ἰούδαν </span></div><div class=\"features\"><span class=\"book xft\" ><span class=\"f\">book=</span>Matthew</span></div></div></div></div></div></div></div></div><div class=\"contnr c2    \" ><div class=\"lbl c2  \" ><span class=\"nd\">wg </span></div><div class=\"children hor wrap \"><div class=\"contnr c1   lno rno \" ><div class=\"lbl c1  \" ><span class=\"nd\">clause </span></div><div class=\"children hor wrap \"><div class=\"contnr c0 trm   \" ><div class=\"lbl c0 trm \" ><span class=\"txtu\">καὶ </span></div><div class=\"features\"><span class=\"book xft\" ><span class=\"f\">book=</span>Matthew</span></div></div></div></div><div class=\"contnr c2    \" ><div class=\"lbl c2  \" ><span class=\"nd\">wg </span></div><div class=\"children hor wrap \"><div class=\"contnr c1   lno rno \" ><div class=\"lbl c1  \" ><span class=\"nd\">clause </span></div><div class=\"children hor wrap \"><div class=\"contnr c1   rno \" ><div class=\"lbl c1  \" ><span class=\"nd\">phrase </span></div><div class=\"children hor wrap \"><div class=\"contnr c0 trm   \" ><div class=\"lbl c0 trm \" ><span class=\"txtu\">τοὺς </span></div><div class=\"features\"><span class=\"book xft\" ><span class=\"f\">book=</span>Matthew</span></div></div></div></div></div></div><div class=\"contnr c2    \" ><div class=\"lbl c2  \" ><span class=\"nd\">wg </span></div><div class=\"children hor wrap \"><div class=\"contnr c1   lno \" ><div class=\"lbl c1  \" ><span class=\"nd\">clause </span></div><div class=\"children hor wrap \"><div class=\"contnr c1   lno \" ><div class=\"lbl c1  \" ><span class=\"nd\">phrase </span></div><div class=\"children hor wrap \"><div class=\"contnr c1    \" ><div class=\"lbl c1  \" ><span class=\"nd\">phrase </span></div><div class=\"children hor wrap \"><div class=\"contnr c0 trm   \" ><div class=\"lbl c0 trm \" ><span class=\"txtu\">ἀδελφοὺς </span></div><div class=\"features\"><span class=\"book xft\" ><span class=\"f\">book=</span>Matthew</span></div></div><div class=\"contnr c0 trm   \" ><div class=\"lbl c0 trm \" ><span class=\"txtu\">αὐτοῦ,</span></div><div class=\"features\"><span class=\"book xft\" ><span class=\"f\">book=</span>Matthew</span></div></div></div></div></div></div></div></div></div></div></div></div></div></div></div></div></div></div></div></div><div class=\"contnr c2    hl\"  style=\"background-color: cyan;\" ><div class=\"lbl c2  hl\"  style=\"background-color: cyan;\" ><span class=\"nd\">wg </span></div><div class=\"children hor wrap \"><div class=\"contnr c2   r \" ><div class=\"lbl c2  \" ><span class=\"nd\">wg </span></div><div class=\"children hor wrap \"><div class=\"contnr c1   r \" ><div class=\"lbl c1  \" ><span class=\"nd\">clause </span></div><div class=\"children hor wrap \"><div class=\"contnr c0 trm   \" ><div class=\"lbl c0 trm \" ><span class=\"txtu\">Ἰούδας </span></div><div class=\"features\"><span class=\"book xft\" ><span class=\"f\">book=</span>Matthew</span></div></div></div></div></div></div><div class=\"contnr c0 trm   \" ><div class=\"lbl c0 trm \" ><span class=\"txtu\">δὲ </span></div><div class=\"features\"><span class=\"book xft\" ><span class=\"f\">book=</span>Matthew</span></div></div><div class=\"contnr c2   l \" ><div class=\"lbl c2  \" ><span class=\"nd\">wg </span></div><div class=\"children hor wrap \"><div class=\"contnr c1   l rno \" ><div class=\"lbl c1  \" ><span class=\"nd\">clause </span></div><div class=\"children hor wrap \"><div class=\"contnr c0 trm   \" ><div class=\"lbl c0 trm \" ><span class=\"txtu\">ἐγέννησεν </span></div><div class=\"features\"><span class=\"book xft\" ><span class=\"f\">book=</span>Matthew</span></div></div></div></div><div class=\"contnr c2    \" ><div class=\"lbl c2  \" ><span class=\"nd\">wg </span></div><div class=\"children hor wrap \"><div class=\"contnr c2    \" ><div class=\"lbl c2  \" ><span class=\"nd\">wg </span></div><div class=\"children hor wrap \"><div class=\"contnr c1   lno rno \" ><div class=\"lbl c1  \" ><span class=\"nd\">clause </span></div><div class=\"children hor wrap \"><div class=\"contnr c1    \" ><div class=\"lbl c1  \" ><span class=\"nd\">phrase </span></div><div class=\"children hor wrap \"><div class=\"contnr c0 trm   \" ><div class=\"lbl c0 trm \" ><span class=\"txtu\">τὸν </span></div><div class=\"features\"><span class=\"book xft\" ><span class=\"f\">book=</span>Matthew</span></div></div><div class=\"contnr c0 trm   \" ><div class=\"lbl c0 trm \" ><span class=\"txtu\">Φαρὲς </span></div><div class=\"features\"><span class=\"book xft\" ><span class=\"f\">book=</span>Matthew</span></div></div></div></div></div></div></div></div><div class=\"contnr c2    \" ><div class=\"lbl c2  \" ><span class=\"nd\">wg </span></div><div class=\"children hor wrap \"><div class=\"contnr c1   lno rno \" ><div class=\"lbl c1  \" ><span class=\"nd\">clause </span></div><div class=\"children hor wrap \"><div class=\"contnr c0 trm   \" ><div class=\"lbl c0 trm \" ><span class=\"txtu\">καὶ </span></div><div class=\"features\"><span class=\"book xft\" ><span class=\"f\">book=</span>Matthew</span></div></div></div></div><div class=\"contnr c2    \" ><div class=\"lbl c2  \" ><span class=\"nd\">wg </span></div><div class=\"children hor wrap \"><div class=\"contnr c1   lno rno \" ><div class=\"lbl c1  \" ><span class=\"nd\">clause </span></div><div class=\"children hor wrap \"><div class=\"contnr c1    \" ><div class=\"lbl c1  \" ><span class=\"nd\">phrase </span></div><div class=\"children hor wrap \"><div class=\"contnr c0 trm   \" ><div class=\"lbl c0 trm \" ><span class=\"txtu\">τὸν </span></div><div class=\"features\"><span class=\"book xft\" ><span class=\"f\">book=</span>Matthew</span></div></div><div class=\"contnr c0 trm   \" ><div class=\"lbl c0 trm \" ><span class=\"txtu\">Ζαρὰ </span></div><div class=\"features\"><span class=\"book xft\" ><span class=\"f\">book=</span>Matthew</span></div></div></div></div></div></div></div></div></div></div></div></div><div class=\"contnr c2    \" ><div class=\"lbl c2  \" ><span class=\"nd\">wg </span></div><div class=\"children hor wrap \"><div class=\"contnr c1   lno rno \" ><div class=\"lbl c1  \" ><span class=\"nd\">clause </span></div><div class=\"children hor wrap \"><div class=\"contnr c1   rno \" ><div class=\"lbl c1  \" ><span class=\"nd\">phrase </span></div><div class=\"children hor wrap \"><div class=\"contnr c0 trm   \" ><div class=\"lbl c0 trm \" ><span class=\"txtu\">ἐκ </span></div><div class=\"features\"><span class=\"book xft\" ><span class=\"f\">book=</span>Matthew</span></div></div></div></div></div></div><div class=\"contnr c2    \" ><div class=\"lbl c2  \" ><span class=\"nd\">wg </span></div><div class=\"children hor wrap \"><div class=\"contnr c1   lno \" ><div class=\"lbl c1  \" ><span class=\"nd\">clause </span></div><div class=\"children hor wrap \"><div class=\"contnr c1   lno \" ><div class=\"lbl c1  \" ><span class=\"nd\">phrase </span></div><div class=\"children hor wrap \"><div class=\"contnr c1    \" ><div class=\"lbl c1  \" ><span class=\"nd\">phrase </span></div><div class=\"children hor wrap \"><div class=\"contnr c0 trm   \" ><div class=\"lbl c0 trm \" ><span class=\"txtu\">τῆς </span></div><div class=\"features\"><span class=\"book xft\" ><span class=\"f\">book=</span>Matthew</span></div></div><div class=\"contnr c0 trm   \" ><div class=\"lbl c0 trm \" ><span class=\"txtu\">Θάμαρ,</span></div><div class=\"features\"><span class=\"book xft\" ><span class=\"f\">book=</span>Matthew</span></div></div></div></div></div></div></div></div></div></div></div></div></div></div></div></div><div class=\"contnr c2    hl\"  style=\"background-color: cyan;\" ><div class=\"lbl c2  hl\"  style=\"background-color: cyan;\" ><span class=\"nd\">wg </span></div><div class=\"children hor wrap \"><div class=\"contnr c2   r \" ><div class=\"lbl c2  \" ><span class=\"nd\">wg </span></div><div class=\"children hor wrap \"><div class=\"contnr c1   r \" ><div class=\"lbl c1  \" ><span class=\"nd\">clause </span></div><div class=\"children hor wrap \"><div class=\"contnr c0 trm   \" ><div class=\"lbl c0 trm \" ><span class=\"txtu\">Φαρὲς </span></div><div class=\"features\"><span class=\"book xft\" ><span class=\"f\">book=</span>Matthew</span></div></div></div></div></div></div><div class=\"contnr c0 trm   \" ><div class=\"lbl c0 trm \" ><span class=\"txtu\">δὲ </span></div><div class=\"features\"><span class=\"book xft\" ><span class=\"f\">book=</span>Matthew</span></div></div><div class=\"contnr c2   l \" ><div class=\"lbl c2  \" ><span class=\"nd\">wg </span></div><div class=\"children hor wrap \"><div class=\"contnr c1   l rno \" ><div class=\"lbl c1  \" ><span class=\"nd\">clause </span></div><div class=\"children hor wrap \"><div class=\"contnr c0 trm   \" ><div class=\"lbl c0 trm \" ><span class=\"txtu\">ἐγέννησεν </span></div><div class=\"features\"><span class=\"book xft\" ><span class=\"f\">book=</span>Matthew</span></div></div></div></div><div class=\"contnr c2    \" ><div class=\"lbl c2  \" ><span class=\"nd\">wg </span></div><div class=\"children hor wrap \"><div class=\"contnr c1   lno \" ><div class=\"lbl c1  \" ><span class=\"nd\">clause </span></div><div class=\"children hor wrap \"><div class=\"contnr c1    \" ><div class=\"lbl c1  \" ><span class=\"nd\">phrase </span></div><div class=\"children hor wrap \"><div class=\"contnr c0 trm   \" ><div class=\"lbl c0 trm \" ><span class=\"txtu\">τὸν </span></div><div class=\"features\"><span class=\"book xft\" ><span class=\"f\">book=</span>Matthew</span></div></div><div class=\"contnr c0 trm   \" ><div class=\"lbl c0 trm \" ><span class=\"txtu\">Ἐσρώμ,</span></div><div class=\"features\"><span class=\"book xft\" ><span class=\"f\">book=</span>Matthew</span></div></div></div></div></div></div></div></div></div></div></div></div><div class=\"contnr c2    hl\"  style=\"background-color: cyan;\" ><div class=\"lbl c2  hl\"  style=\"background-color: cyan;\" ><span class=\"nd\">wg </span></div><div class=\"children hor wrap \"><div class=\"contnr c2   r \" ><div class=\"lbl c2  \" ><span class=\"nd\">wg </span></div><div class=\"children hor wrap \"><div class=\"contnr c1   r \" ><div class=\"lbl c1  \" ><span class=\"nd\">clause </span></div><div class=\"children hor wrap \"><div class=\"contnr c0 trm   \" ><div class=\"lbl c0 trm \" ><span class=\"txtu\">Ἐσρὼμ </span></div><div class=\"features\"><span class=\"book xft\" ><span class=\"f\">book=</span>Matthew</span></div></div></div></div></div></div><div class=\"contnr c0 trm   \" ><div class=\"lbl c0 trm \" ><span class=\"txtu\">δὲ </span></div><div class=\"features\"><span class=\"book xft\" ><span class=\"f\">book=</span>Matthew</span></div></div><div class=\"contnr c2   l \" ><div class=\"lbl c2  \" ><span class=\"nd\">wg </span></div><div class=\"children hor wrap \"><div class=\"contnr c1   l rno \" ><div class=\"lbl c1  \" ><span class=\"nd\">clause </span></div><div class=\"children hor wrap \"><div class=\"contnr c0 trm   \" ><div class=\"lbl c0 trm \" ><span class=\"txtu\">ἐγέννησεν </span></div><div class=\"features\"><span class=\"book xft\" ><span class=\"f\">book=</span>Matthew</span></div></div></div></div><div class=\"contnr c2    \" ><div class=\"lbl c2  \" ><span class=\"nd\">wg </span></div><div class=\"children hor wrap \"><div class=\"contnr c1   lno \" ><div class=\"lbl c1  \" ><span class=\"nd\">clause </span></div><div class=\"children hor wrap \"><div class=\"contnr c1    \" ><div class=\"lbl c1  \" ><span class=\"nd\">phrase </span></div><div class=\"children hor wrap \"><div class=\"contnr c0 trm   \" ><div class=\"lbl c0 trm \" ><span class=\"txtu\">τὸν </span></div><div class=\"features\"><span class=\"book xft\" ><span class=\"f\">book=</span>Matthew</span></div></div><div class=\"contnr c0 trm   \" ><div class=\"lbl c0 trm \" ><span class=\"txtu\">Ἀράμ,</span></div><div class=\"features\"><span class=\"book xft\" ><span class=\"f\">book=</span>Matthew</span></div></div></div></div></div></div></div></div></div></div></div></div><div class=\"contnr c2    hl\"  style=\"background-color: cyan;\" ><div class=\"lbl c2  hl\"  style=\"background-color: cyan;\" ><span class=\"nd\">wg </span></div><div class=\"children hor wrap \"><div class=\"contnr c2   r \" ><div class=\"lbl c2  \" ><span class=\"nd\">wg </span></div><div class=\"children hor wrap \"><div class=\"contnr c1   r \" ><div class=\"lbl c1  \" ><span class=\"nd\">clause </span></div><div class=\"children hor wrap \"><div class=\"contnr c0 trm   \" ><div class=\"lbl c0 trm \" ><span class=\"txtu\">Ἀρὰμ </span></div><div class=\"features\"><span class=\"book xft\" ><span class=\"f\">book=</span>Matthew</span></div></div></div></div></div></div><div class=\"contnr c0 trm   \" ><div class=\"lbl c0 trm \" ><span class=\"txtu\">δὲ </span></div><div class=\"features\"><span class=\"book xft\" ><span class=\"f\">book=</span>Matthew</span></div></div><div class=\"contnr c2   l \" ><div class=\"lbl c2  \" ><span class=\"nd\">wg </span></div><div class=\"children hor wrap \"><div class=\"contnr c1   l rno \" ><div class=\"lbl c1  \" ><span class=\"nd\">clause </span></div><div class=\"children hor wrap \"><div class=\"contnr c0 trm   \" ><div class=\"lbl c0 trm \" ><span class=\"txtu\">ἐγέννησεν </span></div><div class=\"features\"><span class=\"book xft\" ><span class=\"f\">book=</span>Matthew</span></div></div></div></div><div class=\"contnr c2    \" ><div class=\"lbl c2  \" ><span class=\"nd\">wg </span></div><div class=\"children hor wrap \"><div class=\"contnr c1   lno \" ><div class=\"lbl c1  \" ><span class=\"nd\">clause </span></div><div class=\"children hor wrap \"><div class=\"contnr c1    \" ><div class=\"lbl c1  \" ><span class=\"nd\">phrase </span></div><div class=\"children hor wrap \"><div class=\"contnr c0 trm   \" ><div class=\"lbl c0 trm \" ><span class=\"txtu\">τὸν </span></div><div class=\"features\"><span class=\"book xft\" ><span class=\"f\">book=</span>Matthew</span></div></div><div class=\"contnr c0 trm   \" ><div class=\"lbl c0 trm \" ><span class=\"txtu\">Ἀμιναδάβ,</span></div><div class=\"features\"><span class=\"book xft\" ><span class=\"f\">book=</span>Matthew</span></div></div></div></div></div></div></div></div></div></div></div></div><div class=\"contnr c2    hl\"  style=\"background-color: cyan;\" ><div class=\"lbl c2  hl\"  style=\"background-color: cyan;\" ><span class=\"nd\">wg </span></div><div class=\"children hor wrap \"><div class=\"contnr c2   r \" ><div class=\"lbl c2  \" ><span class=\"nd\">wg </span></div><div class=\"children hor wrap \"><div class=\"contnr c1   r \" ><div class=\"lbl c1  \" ><span class=\"nd\">clause </span></div><div class=\"children hor wrap \"><div class=\"contnr c0 trm   \" ><div class=\"lbl c0 trm \" ><span class=\"txtu\">Ἀμιναδὰβ </span></div><div class=\"features\"><span class=\"book xft\" ><span class=\"f\">book=</span>Matthew</span></div></div></div></div></div></div><div class=\"contnr c0 trm   \" ><div class=\"lbl c0 trm \" ><span class=\"txtu\">δὲ </span></div><div class=\"features\"><span class=\"book xft\" ><span class=\"f\">book=</span>Matthew</span></div></div><div class=\"contnr c2   l \" ><div class=\"lbl c2  \" ><span class=\"nd\">wg </span></div><div class=\"children hor wrap \"><div class=\"contnr c1   l rno \" ><div class=\"lbl c1  \" ><span class=\"nd\">clause </span></div><div class=\"children hor wrap \"><div class=\"contnr c0 trm   \" ><div class=\"lbl c0 trm \" ><span class=\"txtu\">ἐγέννησεν </span></div><div class=\"features\"><span class=\"book xft\" ><span class=\"f\">book=</span>Matthew</span></div></div></div></div><div class=\"contnr c2    \" ><div class=\"lbl c2  \" ><span class=\"nd\">wg </span></div><div class=\"children hor wrap \"><div class=\"contnr c1   lno \" ><div class=\"lbl c1  \" ><span class=\"nd\">clause </span></div><div class=\"children hor wrap \"><div class=\"contnr c1    \" ><div class=\"lbl c1  \" ><span class=\"nd\">phrase </span></div><div class=\"children hor wrap \"><div class=\"contnr c0 trm   \" ><div class=\"lbl c0 trm \" ><span class=\"txtu\">τὸν </span></div><div class=\"features\"><span class=\"book xft\" ><span class=\"f\">book=</span>Matthew</span></div></div><div class=\"contnr c0 trm   \" ><div class=\"lbl c0 trm \" ><span class=\"txtu\">Ναασσών,</span></div><div class=\"features\"><span class=\"book xft\" ><span class=\"f\">book=</span>Matthew</span></div></div></div></div></div></div></div></div></div></div></div></div><div class=\"contnr c2    hl\"  style=\"background-color: cyan;\" ><div class=\"lbl c2  hl\"  style=\"background-color: cyan;\" ><span class=\"nd\">wg </span></div><div class=\"children hor wrap \"><div class=\"contnr c2   r \" ><div class=\"lbl c2  \" ><span class=\"nd\">wg </span></div><div class=\"children hor wrap \"><div class=\"contnr c1   r \" ><div class=\"lbl c1  \" ><span class=\"nd\">clause </span></div><div class=\"children hor wrap \"><div class=\"contnr c0 trm   \" ><div class=\"lbl c0 trm \" ><span class=\"txtu\">Ναασσὼν </span></div><div class=\"features\"><span class=\"book xft\" ><span class=\"f\">book=</span>Matthew</span></div></div></div></div></div></div><div class=\"contnr c0 trm   \" ><div class=\"lbl c0 trm \" ><span class=\"txtu\">δὲ </span></div><div class=\"features\"><span class=\"book xft\" ><span class=\"f\">book=</span>Matthew</span></div></div><div class=\"contnr c2   l \" ><div class=\"lbl c2  \" ><span class=\"nd\">wg </span></div><div class=\"children hor wrap \"><div class=\"contnr c1   l rno \" ><div class=\"lbl c1  \" ><span class=\"nd\">clause </span></div><div class=\"children hor wrap \"><div class=\"contnr c0 trm   \" ><div class=\"lbl c0 trm \" ><span class=\"txtu\">ἐγέννησεν </span></div><div class=\"features\"><span class=\"book xft\" ><span class=\"f\">book=</span>Matthew</span></div></div></div></div><div class=\"contnr c2    \" ><div class=\"lbl c2  \" ><span class=\"nd\">wg </span></div><div class=\"children hor wrap \"><div class=\"contnr c1   lno \" ><div class=\"lbl c1  \" ><span class=\"nd\">clause </span></div><div class=\"children hor wrap \"><div class=\"contnr c1    \" ><div class=\"lbl c1  \" ><span class=\"nd\">phrase </span></div><div class=\"children hor wrap \"><div class=\"contnr c0 trm   \" ><div class=\"lbl c0 trm \" ><span class=\"txtu\">τὸν </span></div><div class=\"features\"><span class=\"book xft\" ><span class=\"f\">book=</span>Matthew</span></div></div><div class=\"contnr c0 trm   \" ><div class=\"lbl c0 trm \" ><span class=\"txtu\">Σαλμών,</span></div><div class=\"features\"><span class=\"book xft\" ><span class=\"f\">book=</span>Matthew</span></div></div></div></div></div></div></div></div></div></div></div></div><div class=\"contnr c2    hl\"  style=\"background-color: cyan;\" ><div class=\"lbl c2  hl\"  style=\"background-color: cyan;\" ><span class=\"nd\">wg </span></div><div class=\"children hor wrap \"><div class=\"contnr c2   r \" ><div class=\"lbl c2  \" ><span class=\"nd\">wg </span></div><div class=\"children hor wrap \"><div class=\"contnr c1   r \" ><div class=\"lbl c1  \" ><span class=\"nd\">clause </span></div><div class=\"children hor wrap \"><div class=\"contnr c0 trm   \" ><div class=\"lbl c0 trm \" ><span class=\"txtu\">Σαλμὼν </span></div><div class=\"features\"><span class=\"book xft\" ><span class=\"f\">book=</span>Matthew</span></div></div></div></div></div></div><div class=\"contnr c0 trm   \" ><div class=\"lbl c0 trm \" ><span class=\"txtu\">δὲ </span></div><div class=\"features\"><span class=\"book xft\" ><span class=\"f\">book=</span>Matthew</span></div></div><div class=\"contnr c2   l \" ><div class=\"lbl c2  \" ><span class=\"nd\">wg </span></div><div class=\"children hor wrap \"><div class=\"contnr c1   l rno \" ><div class=\"lbl c1  \" ><span class=\"nd\">clause </span></div><div class=\"children hor wrap \"><div class=\"contnr c0 trm   \" ><div class=\"lbl c0 trm \" ><span class=\"txtu\">ἐγέννησεν </span></div><div class=\"features\"><span class=\"book xft\" ><span class=\"f\">book=</span>Matthew</span></div></div></div></div><div class=\"contnr c2    \" ><div class=\"lbl c2  \" ><span class=\"nd\">wg </span></div><div class=\"children hor wrap \"><div class=\"contnr c1   lno rno \" ><div class=\"lbl c1  \" ><span class=\"nd\">clause </span></div><div class=\"children hor wrap \"><div class=\"contnr c1    \" ><div class=\"lbl c1  \" ><span class=\"nd\">phrase </span></div><div class=\"children hor wrap \"><div class=\"contnr c0 trm   \" ><div class=\"lbl c0 trm \" ><span class=\"txtu\">τὸν </span></div><div class=\"features\"><span class=\"book xft\" ><span class=\"f\">book=</span>Matthew</span></div></div><div class=\"contnr c0 trm   \" ><div class=\"lbl c0 trm \" ><span class=\"txtu\">Βόες </span></div><div class=\"features\"><span class=\"book xft\" ><span class=\"f\">book=</span>Matthew</span></div></div></div></div></div></div></div></div><div class=\"contnr c2    \" ><div class=\"lbl c2  \" ><span class=\"nd\">wg </span></div><div class=\"children hor wrap \"><div class=\"contnr c1   lno rno \" ><div class=\"lbl c1  \" ><span class=\"nd\">clause </span></div><div class=\"children hor wrap \"><div class=\"contnr c1   rno \" ><div class=\"lbl c1  \" ><span class=\"nd\">phrase </span></div><div class=\"children hor wrap \"><div class=\"contnr c0 trm   \" ><div class=\"lbl c0 trm \" ><span class=\"txtu\">ἐκ </span></div><div class=\"features\"><span class=\"book xft\" ><span class=\"f\">book=</span>Matthew</span></div></div></div></div></div></div><div class=\"contnr c2    \" ><div class=\"lbl c2  \" ><span class=\"nd\">wg </span></div><div class=\"children hor wrap \"><div class=\"contnr c1   lno \" ><div class=\"lbl c1  \" ><span class=\"nd\">clause </span></div><div class=\"children hor wrap \"><div class=\"contnr c1   lno \" ><div class=\"lbl c1  \" ><span class=\"nd\">phrase </span></div><div class=\"children hor wrap \"><div class=\"contnr c1    \" ><div class=\"lbl c1  \" ><span class=\"nd\">phrase </span></div><div class=\"children hor wrap \"><div class=\"contnr c0 trm   \" ><div class=\"lbl c0 trm \" ><span class=\"txtu\">τῆς </span></div><div class=\"features\"><span class=\"book xft\" ><span class=\"f\">book=</span>Matthew</span></div></div><div class=\"contnr c0 trm   \" ><div class=\"lbl c0 trm \" ><span class=\"txtu\">Ῥαχάβ,</span></div><div class=\"features\"><span class=\"book xft\" ><span class=\"f\">book=</span>Matthew</span></div></div></div></div></div></div></div></div></div></div></div></div></div></div></div></div><div class=\"contnr c2    hl\"  style=\"background-color: cyan;\" ><div class=\"lbl c2  hl\"  style=\"background-color: cyan;\" ><span class=\"nd\">wg </span></div><div class=\"children hor wrap \"><div class=\"contnr c2   r \" ><div class=\"lbl c2  \" ><span class=\"nd\">wg </span></div><div class=\"children hor wrap \"><div class=\"contnr c1   r \" ><div class=\"lbl c1  \" ><span class=\"nd\">clause </span></div><div class=\"children hor wrap \"><div class=\"contnr c0 trm   \" ><div class=\"lbl c0 trm \" ><span class=\"txtu\">Βόες </span></div><div class=\"features\"><span class=\"book xft\" ><span class=\"f\">book=</span>Matthew</span></div></div></div></div></div></div><div class=\"contnr c0 trm   \" ><div class=\"lbl c0 trm \" ><span class=\"txtu\">δὲ </span></div><div class=\"features\"><span class=\"book xft\" ><span class=\"f\">book=</span>Matthew</span></div></div><div class=\"contnr c2   l \" ><div class=\"lbl c2  \" ><span class=\"nd\">wg </span></div><div class=\"children hor wrap \"><div class=\"contnr c1   l rno \" ><div class=\"lbl c1  \" ><span class=\"nd\">clause </span></div><div class=\"children hor wrap \"><div class=\"contnr c0 trm   \" ><div class=\"lbl c0 trm \" ><span class=\"txtu\">ἐγέννησεν </span></div><div class=\"features\"><span class=\"book xft\" ><span class=\"f\">book=</span>Matthew</span></div></div></div></div><div class=\"contnr c2    \" ><div class=\"lbl c2  \" ><span class=\"nd\">wg </span></div><div class=\"children hor wrap \"><div class=\"contnr c1   lno rno \" ><div class=\"lbl c1  \" ><span class=\"nd\">clause </span></div><div class=\"children hor wrap \"><div class=\"contnr c1    \" ><div class=\"lbl c1  \" ><span class=\"nd\">phrase </span></div><div class=\"children hor wrap \"><div class=\"contnr c0 trm   \" ><div class=\"lbl c0 trm \" ><span class=\"txtu\">τὸν </span></div><div class=\"features\"><span class=\"book xft\" ><span class=\"f\">book=</span>Matthew</span></div></div><div class=\"contnr c0 trm   \" ><div class=\"lbl c0 trm \" ><span class=\"txtu\">Ἰωβὴδ </span></div><div class=\"features\"><span class=\"book xft\" ><span class=\"f\">book=</span>Matthew</span></div></div></div></div></div></div></div></div><div class=\"contnr c2    \" ><div class=\"lbl c2  \" ><span class=\"nd\">wg </span></div><div class=\"children hor wrap \"><div class=\"contnr c1   lno rno \" ><div class=\"lbl c1  \" ><span class=\"nd\">clause </span></div><div class=\"children hor wrap \"><div class=\"contnr c1   rno \" ><div class=\"lbl c1  \" ><span class=\"nd\">phrase </span></div><div class=\"children hor wrap \"><div class=\"contnr c0 trm   \" ><div class=\"lbl c0 trm \" ><span class=\"txtu\">ἐκ </span></div><div class=\"features\"><span class=\"book xft\" ><span class=\"f\">book=</span>Matthew</span></div></div></div></div></div></div><div class=\"contnr c2    \" ><div class=\"lbl c2  \" ><span class=\"nd\">wg </span></div><div class=\"children hor wrap \"><div class=\"contnr c1   lno \" ><div class=\"lbl c1  \" ><span class=\"nd\">clause </span></div><div class=\"children hor wrap \"><div class=\"contnr c1   lno \" ><div class=\"lbl c1  \" ><span class=\"nd\">phrase </span></div><div class=\"children hor wrap \"><div class=\"contnr c1    \" ><div class=\"lbl c1  \" ><span class=\"nd\">phrase </span></div><div class=\"children hor wrap \"><div class=\"contnr c0 trm   \" ><div class=\"lbl c0 trm \" ><span class=\"txtu\">τῆς </span></div><div class=\"features\"><span class=\"book xft\" ><span class=\"f\">book=</span>Matthew</span></div></div><div class=\"contnr c0 trm   \" ><div class=\"lbl c0 trm \" ><span class=\"txtu\">Ῥούθ,</span></div><div class=\"features\"><span class=\"book xft\" ><span class=\"f\">book=</span>Matthew</span></div></div></div></div></div></div></div></div></div></div></div></div></div></div></div></div><div class=\"contnr c2    hl\"  style=\"background-color: cyan;\" ><div class=\"lbl c2  hl\"  style=\"background-color: cyan;\" ><span class=\"nd\">wg </span></div><div class=\"children hor wrap \"><div class=\"contnr c2   r \" ><div class=\"lbl c2  \" ><span class=\"nd\">wg </span></div><div class=\"children hor wrap \"><div class=\"contnr c1   r \" ><div class=\"lbl c1  \" ><span class=\"nd\">clause </span></div><div class=\"children hor wrap \"><div class=\"contnr c0 trm   \" ><div class=\"lbl c0 trm \" ><span class=\"txtu\">Ἰωβὴδ </span></div><div class=\"features\"><span class=\"book xft\" ><span class=\"f\">book=</span>Matthew</span></div></div></div></div></div></div><div class=\"contnr c0 trm   \" ><div class=\"lbl c0 trm \" ><span class=\"txtu\">δὲ </span></div><div class=\"features\"><span class=\"book xft\" ><span class=\"f\">book=</span>Matthew</span></div></div><div class=\"contnr c2   l \" ><div class=\"lbl c2  \" ><span class=\"nd\">wg </span></div><div class=\"children hor wrap \"><div class=\"contnr c1   l rno \" ><div class=\"lbl c1  \" ><span class=\"nd\">clause </span></div><div class=\"children hor wrap \"><div class=\"contnr c0 trm   \" ><div class=\"lbl c0 trm \" ><span class=\"txtu\">ἐγέννησεν </span></div><div class=\"features\"><span class=\"book xft\" ><span class=\"f\">book=</span>Matthew</span></div></div></div></div><div class=\"contnr c2    \" ><div class=\"lbl c2  \" ><span class=\"nd\">wg </span></div><div class=\"children hor wrap \"><div class=\"contnr c1   lno \" ><div class=\"lbl c1  \" ><span class=\"nd\">clause </span></div><div class=\"children hor wrap \"><div class=\"contnr c1    \" ><div class=\"lbl c1  \" ><span class=\"nd\">phrase </span></div><div class=\"children hor wrap \"><div class=\"contnr c0 trm   \" ><div class=\"lbl c0 trm \" ><span class=\"txtu\">τὸν </span></div><div class=\"features\"><span class=\"book xft\" ><span class=\"f\">book=</span>Matthew</span></div></div><div class=\"contnr c0 trm   \" ><div class=\"lbl c0 trm \" ><span class=\"txtu\">Ἰεσσαί,</span></div><div class=\"features\"><span class=\"book xft\" ><span class=\"f\">book=</span>Matthew</span></div></div></div></div></div></div></div></div></div></div></div></div><div class=\"contnr c2    hl\"  style=\"background-color: cyan;\" ><div class=\"lbl c2  hl\"  style=\"background-color: cyan;\" ><span class=\"nd\">wg </span></div><div class=\"children hor wrap \"><div class=\"contnr c2   r \" ><div class=\"lbl c2  \" ><span class=\"nd\">wg </span></div><div class=\"children hor wrap \"><div class=\"contnr c1   r \" ><div class=\"lbl c1  \" ><span class=\"nd\">clause </span></div><div class=\"children hor wrap \"><div class=\"contnr c0 trm   \" ><div class=\"lbl c0 trm \" ><span class=\"txtu\">Ἰεσσαὶ </span></div><div class=\"features\"><span class=\"book xft\" ><span class=\"f\">book=</span>Matthew</span></div></div></div></div></div></div><div class=\"contnr c0 trm   \" ><div class=\"lbl c0 trm \" ><span class=\"txtu\">δὲ </span></div><div class=\"features\"><span class=\"book xft\" ><span class=\"f\">book=</span>Matthew</span></div></div><div class=\"contnr c2   l \" ><div class=\"lbl c2  \" ><span class=\"nd\">wg </span></div><div class=\"children hor wrap \"><div class=\"contnr c1   l rno \" ><div class=\"lbl c1  \" ><span class=\"nd\">clause </span></div><div class=\"children hor wrap \"><div class=\"contnr c0 trm   \" ><div class=\"lbl c0 trm \" ><span class=\"txtu\">ἐγέννησεν </span></div><div class=\"features\"><span class=\"book xft\" ><span class=\"f\">book=</span>Matthew</span></div></div></div></div><div class=\"contnr c2    \" ><div class=\"lbl c2  \" ><span class=\"nd\">wg </span></div><div class=\"children hor wrap \"><div class=\"contnr c2    \" ><div class=\"lbl c2  \" ><span class=\"nd\">wg </span></div><div class=\"children hor wrap \"><div class=\"contnr c1   lno rno \" ><div class=\"lbl c1  \" ><span class=\"nd\">clause </span></div><div class=\"children hor wrap \"><div class=\"contnr c1    \" ><div class=\"lbl c1  \" ><span class=\"nd\">phrase </span></div><div class=\"children hor wrap \"><div class=\"contnr c0 trm   \" ><div class=\"lbl c0 trm \" ><span class=\"txtu\">τὸν </span></div><div class=\"features\"><span class=\"book xft\" ><span class=\"f\">book=</span>Matthew</span></div></div><div class=\"contnr c0 trm   \" ><div class=\"lbl c0 trm \" ><span class=\"txtu\">Δαυεὶδ </span></div><div class=\"features\"><span class=\"book xft\" ><span class=\"f\">book=</span>Matthew</span></div></div></div></div></div></div></div></div><div class=\"contnr c2    \" ><div class=\"lbl c2  \" ><span class=\"nd\">wg </span></div><div class=\"children hor wrap \"><div class=\"contnr c1   lno \" ><div class=\"lbl c1  \" ><span class=\"nd\">clause </span></div><div class=\"children hor wrap \"><div class=\"contnr c1    \" ><div class=\"lbl c1  \" ><span class=\"nd\">phrase </span></div><div class=\"children hor wrap \"><div class=\"contnr c0 trm   \" ><div class=\"lbl c0 trm \" ><span class=\"txtu\">τὸν </span></div><div class=\"features\"><span class=\"book xft\" ><span class=\"f\">book=</span>Matthew</span></div></div><div class=\"contnr c0 trm   \" ><div class=\"lbl c0 trm \" ><span class=\"txtu\">βασιλέα.</span></div><div class=\"features\"><span class=\"book xft\" ><span class=\"f\">book=</span>Matthew</span></div></div></div></div></div></div></div></div></div></div></div></div></div></div></div></div></div>"
      ],
      "text/plain": [
       "<IPython.core.display.HTML object>"
      ]
     },
     "metadata": {},
     "output_type": "display_data"
    }
   ],
   "source": [
    "wg = L.d(s, otype=\"wg\")[4]\n",
    "parent = E.parent.f(wg)[0]\n",
    "siblings = E.sibling.b(wg)\n",
    "\n",
    "for (sib, dist) in siblings:\n",
    "    print(f\"distance from {F.otype.v(sib)}-node {sib} to wg-node {wg} = `{dist}`\\n\\n\")\n",
    "    NA.pretty(sib, queryFeatures=False)\n",
    "    \n",
    "highlights = {sib[0]: \"cyan\" for sib in siblings}\n",
    "highlights[wg] = \"salmon\"\n",
    "\n",
    "A.pretty(parent, highlights=highlights)"
   ]
  },
  {
   "cell_type": "markdown",
   "id": "49ad3407-aeac-44f8-b28d-c4b0753bb050",
   "metadata": {},
   "source": [
    "Look for `word` siblings with distance greater than 3 in Jude:"
   ]
  },
  {
   "cell_type": "code",
   "execution_count": 9,
   "id": "88f4acd3-c3c3-488c-a996-c6beaab40aaf",
   "metadata": {},
   "outputs": [
    {
     "name": "stdout",
     "output_type": "stream",
     "text": [
      "  0.64s 146 results\n"
     ]
    },
    {
     "data": {
      "text/html": [
       "<p><b>result</b> <i>1</i>"
      ],
      "text/plain": [
       "<IPython.core.display.HTML object>"
      ]
     },
     "metadata": {},
     "output_type": "display_data"
    },
    {
     "data": {
      "text/html": [
       "<div class=\"tfsechead \"><span class=\"ltr\"><a target=\"_blank\" href=\"https://public.saulocantanhede.org/tfgreek2/Jude/1/1&amp;version=0.5.0\" title=\"Show this on the website\" sec=\"Jude\">Jude</a></span></div><div class=\" children\"><div class=\"contnr c4 trm   \" ><div class=\"lbl c4 trm \" ><span class=\"nd\">book </span> <span class=\"txtu\"><span class=\"tfsechead ltr\"><span class=\"ltr\">Jude</span></span></span></div></div></div>"
      ],
      "text/plain": [
       "<IPython.core.display.HTML object>"
      ]
     },
     "metadata": {},
     "output_type": "display_data"
    },
    {
     "data": {
      "text/html": [
       "<div class=\"tfsechead \"><span class=\"ltr\"><a target=\"_blank\" href=\"https://public.saulocantanhede.org/tfgreek2/Jude/1/1&amp;version=0.5.0\" title=\"Show this on the website\" sec=\"Jude@1:1\">Jude@1:1</a></span></div><div class=\" children\"><div class=\"contnr c2    \" ><div class=\"lbl c2  \" ><span class=\"nd\">wg </span></div><div class=\"children hor wrap \"><div class=\"contnr c1   lno rno \" ><div class=\"lbl c1  \" ><span class=\"nd\">clause </span></div><div class=\"children hor wrap \"><div class=\"contnr c1   rno \" ><div class=\"lbl c1  \" ><span class=\"nd\">phrase </span></div><div class=\"children hor wrap \"><div class=\"contnr c0 trm   hl\" ><div class=\"lbl c0 trm hl\" ><span class=\"txtu\">Ἰησοῦ </span></div></div><div class=\"contnr c0 trm   hl\" ><div class=\"lbl c0 trm hl\" ><span class=\"txtu\">Χριστοῦ </span></div></div></div></div></div></div></div></div></div>"
      ],
      "text/plain": [
       "<IPython.core.display.HTML object>"
      ]
     },
     "metadata": {},
     "output_type": "display_data"
    }
   ],
   "source": [
    "results = A.search(\"\"\"\n",
    "book book=Jude\n",
    "  word\n",
    "  -sibling> word\n",
    "\"\"\")\n",
    "A.show(results, end=1, condenseType=\"wg\", queryFeatures=False, hiddenTypes={\"wg\"})"
   ]
  },
  {
   "cell_type": "markdown",
   "id": "3a5c32aa-6c21-4c62-8f92-90294f0d2958",
   "metadata": {},
   "source": [
    "# Sibling distance\n",
    "\n",
    "What is the biggest distance between siblings?"
   ]
  },
  {
   "cell_type": "code",
   "execution_count": 16,
   "id": "ee7da44c-c304-4c18-b85c-49c4f68713cb",
   "metadata": {},
   "outputs": [],
   "source": [
    "maxDist = -1\n",
    "pair = None\n",
    "\n",
    "for (fro, tos) in E.sibling.items():\n",
    "    for (to, dist) in tos.items():\n",
    "        if int(dist) > int(maxDist):\n",
    "            maxDist = dist\n",
    "            pair = (fro, to)\n",
    "        \n",
    "(fro, to) = pair"
   ]
  },
  {
   "cell_type": "code",
   "execution_count": 18,
   "id": "7e8e6737-2410-45ee-9568-11caaa614507",
   "metadata": {},
   "outputs": [
    {
     "name": "stdout",
     "output_type": "stream",
     "text": [
      "\n",
      "The maximum distance between siblings is **20**\n",
      "\n",
      "* from wg-node 308878\n",
      "* to wg-node 308912\n",
      "\n"
     ]
    },
    {
     "data": {
      "text/html": [
       "<div class=\"\"><span class=\"tfsechead \"><span class=\"ltr\"><a target=\"_blank\" href=\"https://public.saulocantanhede.org/tfgreek2/2Corinthians/6/4&amp;version=0.5.0\" title=\"Show this on the website\" sec=\"2Corinthians@6:4\">2Corinthians@6:4</a></span></span>  <span class=\"txtu\">ἐν </span><span class=\"txtu\">ὑπομονῇ </span><span class=\"txtu\">πολλῇ,</span></div>"
      ],
      "text/plain": [
       "<IPython.core.display.HTML object>"
      ]
     },
     "metadata": {},
     "output_type": "display_data"
    },
    {
     "data": {
      "text/html": [
       "<div class=\"\"><span class=\"tfsechead \"><span class=\"ltr\"><a target=\"_blank\" href=\"https://public.saulocantanhede.org/tfgreek2/2Corinthians/6/8&amp;version=0.5.0\" title=\"Show this on the website\" sec=\"2Corinthians@6:8\">2Corinthians@6:8</a></span></span>  <span class=\"txtu\">διὰ </span><span class=\"txtu\">δυσφημίας </span><span class=\"txtu\">καὶ </span><span class=\"txtu\">εὐφημίας·</span></div>"
      ],
      "text/plain": [
       "<IPython.core.display.HTML object>"
      ]
     },
     "metadata": {},
     "output_type": "display_data"
    },
    {
     "data": {
      "text/html": [
       "<div class=\"tfsechead \"><span class=\"ltr\"><a target=\"_blank\" href=\"https://public.saulocantanhede.org/tfgreek2/2Corinthians/6/4&amp;version=0.5.0\" title=\"Show this on the website\" sec=\"2Corinthians@6:4\">2Corinthians@6:4</a></span></div><div class=\" children\"><div class=\"contnr c2    \" ><div class=\"lbl c2  \" ><span class=\"nd\">wg </span></div><div class=\"children hor wrap \"><div class=\"contnr c2    hl\" ><div class=\"lbl c2  hl\" ><span class=\"nd\">wg </span></div><div class=\"children hor wrap \"><div class=\"contnr c1   lno rno \" ><div class=\"lbl c1  \" ><span class=\"nd\">clause </span></div><div class=\"children hor wrap \"><div class=\"contnr c1   rno \" ><div class=\"lbl c1  \" ><span class=\"nd\">phrase </span></div><div class=\"children hor wrap \"><div class=\"contnr c0 trm   \" ><div class=\"lbl c0 trm \" ><span class=\"txtu\">ἐν </span></div></div></div></div></div></div><div class=\"contnr c2    \" ><div class=\"lbl c2  \" ><span class=\"nd\">wg </span></div><div class=\"children hor wrap \"><div class=\"contnr c1   lno rno \" ><div class=\"lbl c1  \" ><span class=\"nd\">clause </span></div><div class=\"children hor wrap \"><div class=\"contnr c1   lno \" ><div class=\"lbl c1  \" ><span class=\"nd\">phrase </span></div><div class=\"children hor wrap \"><div class=\"contnr c1    \" ><div class=\"lbl c1  \" ><span class=\"nd\">phrase </span></div><div class=\"children hor wrap \"><div class=\"contnr c0 trm   \" ><div class=\"lbl c0 trm \" ><span class=\"txtu\">ὑπομονῇ </span></div></div><div class=\"contnr c0 trm   \" ><div class=\"lbl c0 trm \" ><span class=\"txtu\">πολλῇ,</span></div></div></div></div></div></div></div></div></div></div></div></div><div class=\"contnr c2    \" ><div class=\"lbl c2  \" ><span class=\"nd\">wg </span></div><div class=\"children hor wrap \"><div class=\"contnr c1   lno rno \" ><div class=\"lbl c1  \" ><span class=\"nd\">clause </span></div><div class=\"children hor wrap \"><div class=\"contnr c1    \" ><div class=\"lbl c1  \" ><span class=\"nd\">phrase </span></div><div class=\"children hor wrap \"><div class=\"contnr c0 trm   \" ><div class=\"lbl c0 trm \" ><span class=\"txtu\">ἐν </span></div></div><div class=\"contnr c0 trm   \" ><div class=\"lbl c0 trm \" ><span class=\"txtu\">θλίψεσιν,</span></div></div></div></div></div></div></div></div><div class=\"contnr c2    \" ><div class=\"lbl c2  \" ><span class=\"nd\">wg </span></div><div class=\"children hor wrap \"><div class=\"contnr c1   lno rno \" ><div class=\"lbl c1  \" ><span class=\"nd\">clause </span></div><div class=\"children hor wrap \"><div class=\"contnr c1    \" ><div class=\"lbl c1  \" ><span class=\"nd\">phrase </span></div><div class=\"children hor wrap \"><div class=\"contnr c0 trm   \" ><div class=\"lbl c0 trm \" ><span class=\"txtu\">ἐν </span></div></div><div class=\"contnr c0 trm   \" ><div class=\"lbl c0 trm \" ><span class=\"txtu\">ἀνάγκαις,</span></div></div></div></div></div></div></div></div><div class=\"contnr c2    \" ><div class=\"lbl c2  \" ><span class=\"nd\">wg </span></div><div class=\"children hor wrap \"><div class=\"contnr c1   lno rno \" ><div class=\"lbl c1  \" ><span class=\"nd\">clause </span></div><div class=\"children hor wrap \"><div class=\"contnr c1    \" ><div class=\"lbl c1  \" ><span class=\"nd\">phrase </span></div><div class=\"children hor wrap \"><div class=\"contnr c0 trm   \" ><div class=\"lbl c0 trm \" ><span class=\"txtu\">ἐν </span></div></div><div class=\"contnr c0 trm   \" ><div class=\"lbl c0 trm \" ><span class=\"txtu\">στενοχωρίαις,</span></div></div></div></div></div></div></div></div><div class=\"contnr c2    \" ><div class=\"lbl c2  \" ><span class=\"nd\">wg </span></div><div class=\"children hor wrap \"><div class=\"contnr c1   lno rno \" ><div class=\"lbl c1  \" ><span class=\"nd\">clause </span></div><div class=\"children hor wrap \"><div class=\"contnr c1    \" ><div class=\"lbl c1  \" ><span class=\"nd\">phrase </span></div><div class=\"children hor wrap \"><div class=\"contnr c0 trm   \" ><div class=\"lbl c0 trm \" ><span class=\"txtu\">ἐν </span></div></div><div class=\"contnr c0 trm   \" ><div class=\"lbl c0 trm \" ><span class=\"txtu\">πληγαῖς,</span></div></div></div></div></div></div></div></div><div class=\"contnr c2    \" ><div class=\"lbl c2  \" ><span class=\"nd\">wg </span></div><div class=\"children hor wrap \"><div class=\"contnr c1   lno rno \" ><div class=\"lbl c1  \" ><span class=\"nd\">clause </span></div><div class=\"children hor wrap \"><div class=\"contnr c1    \" ><div class=\"lbl c1  \" ><span class=\"nd\">phrase </span></div><div class=\"children hor wrap \"><div class=\"contnr c0 trm   \" ><div class=\"lbl c0 trm \" ><span class=\"txtu\">ἐν </span></div></div><div class=\"contnr c0 trm   \" ><div class=\"lbl c0 trm \" ><span class=\"txtu\">φυλακαῖς,</span></div></div></div></div></div></div></div></div><div class=\"contnr c2    \" ><div class=\"lbl c2  \" ><span class=\"nd\">wg </span></div><div class=\"children hor wrap \"><div class=\"contnr c1   lno rno \" ><div class=\"lbl c1  \" ><span class=\"nd\">clause </span></div><div class=\"children hor wrap \"><div class=\"contnr c1    \" ><div class=\"lbl c1  \" ><span class=\"nd\">phrase </span></div><div class=\"children hor wrap \"><div class=\"contnr c0 trm   \" ><div class=\"lbl c0 trm \" ><span class=\"txtu\">ἐν </span></div></div><div class=\"contnr c0 trm   \" ><div class=\"lbl c0 trm \" ><span class=\"txtu\">ἀκαταστασίαις,</span></div></div></div></div></div></div></div></div><div class=\"contnr c2    \" ><div class=\"lbl c2  \" ><span class=\"nd\">wg </span></div><div class=\"children hor wrap \"><div class=\"contnr c1   lno rno \" ><div class=\"lbl c1  \" ><span class=\"nd\">clause </span></div><div class=\"children hor wrap \"><div class=\"contnr c1    \" ><div class=\"lbl c1  \" ><span class=\"nd\">phrase </span></div><div class=\"children hor wrap \"><div class=\"contnr c0 trm   \" ><div class=\"lbl c0 trm \" ><span class=\"txtu\">ἐν </span></div></div><div class=\"contnr c0 trm   \" ><div class=\"lbl c0 trm \" ><span class=\"txtu\">κόποις,</span></div></div></div></div></div></div></div></div><div class=\"contnr c2    \" ><div class=\"lbl c2  \" ><span class=\"nd\">wg </span></div><div class=\"children hor wrap \"><div class=\"contnr c1   lno rno \" ><div class=\"lbl c1  \" ><span class=\"nd\">clause </span></div><div class=\"children hor wrap \"><div class=\"contnr c1    \" ><div class=\"lbl c1  \" ><span class=\"nd\">phrase </span></div><div class=\"children hor wrap \"><div class=\"contnr c0 trm   \" ><div class=\"lbl c0 trm \" ><span class=\"txtu\">ἐν </span></div></div><div class=\"contnr c0 trm   \" ><div class=\"lbl c0 trm \" ><span class=\"txtu\">ἀγρυπνίαις,</span></div></div></div></div></div></div></div></div><div class=\"contnr c2    \" ><div class=\"lbl c2  \" ><span class=\"nd\">wg </span></div><div class=\"children hor wrap \"><div class=\"contnr c1   lno rno \" ><div class=\"lbl c1  \" ><span class=\"nd\">clause </span></div><div class=\"children hor wrap \"><div class=\"contnr c1    \" ><div class=\"lbl c1  \" ><span class=\"nd\">phrase </span></div><div class=\"children hor wrap \"><div class=\"contnr c0 trm   \" ><div class=\"lbl c0 trm \" ><span class=\"txtu\">ἐν </span></div></div><div class=\"contnr c0 trm   \" ><div class=\"lbl c0 trm \" ><span class=\"txtu\">νηστείαις,</span></div></div></div></div></div></div></div></div><div class=\"contnr c2    \" ><div class=\"lbl c2  \" ><span class=\"nd\">wg </span></div><div class=\"children hor wrap \"><div class=\"contnr c1   lno rno \" ><div class=\"lbl c1  \" ><span class=\"nd\">clause </span></div><div class=\"children hor wrap \"><div class=\"contnr c1    \" ><div class=\"lbl c1  \" ><span class=\"nd\">phrase </span></div><div class=\"children hor wrap \"><div class=\"contnr c0 trm   \" ><div class=\"lbl c0 trm \" ><span class=\"txtu\">ἐν </span></div></div><div class=\"contnr c0 trm   \" ><div class=\"lbl c0 trm \" ><span class=\"txtu\">ἁγνότητι,</span></div></div></div></div></div></div></div></div><div class=\"contnr c2    \" ><div class=\"lbl c2  \" ><span class=\"nd\">wg </span></div><div class=\"children hor wrap \"><div class=\"contnr c1   lno rno \" ><div class=\"lbl c1  \" ><span class=\"nd\">clause </span></div><div class=\"children hor wrap \"><div class=\"contnr c1    \" ><div class=\"lbl c1  \" ><span class=\"nd\">phrase </span></div><div class=\"children hor wrap \"><div class=\"contnr c0 trm   \" ><div class=\"lbl c0 trm \" ><span class=\"txtu\">ἐν </span></div></div><div class=\"contnr c0 trm   \" ><div class=\"lbl c0 trm \" ><span class=\"txtu\">γνώσει,</span></div></div></div></div></div></div></div></div><div class=\"contnr c2    \" ><div class=\"lbl c2  \" ><span class=\"nd\">wg </span></div><div class=\"children hor wrap \"><div class=\"contnr c1   lno rno \" ><div class=\"lbl c1  \" ><span class=\"nd\">clause </span></div><div class=\"children hor wrap \"><div class=\"contnr c1    \" ><div class=\"lbl c1  \" ><span class=\"nd\">phrase </span></div><div class=\"children hor wrap \"><div class=\"contnr c0 trm   \" ><div class=\"lbl c0 trm \" ><span class=\"txtu\">ἐν </span></div></div><div class=\"contnr c0 trm   \" ><div class=\"lbl c0 trm \" ><span class=\"txtu\">μακροθυμίᾳ,</span></div></div></div></div></div></div></div></div><div class=\"contnr c2    \" ><div class=\"lbl c2  \" ><span class=\"nd\">wg </span></div><div class=\"children hor wrap \"><div class=\"contnr c1   lno rno \" ><div class=\"lbl c1  \" ><span class=\"nd\">clause </span></div><div class=\"children hor wrap \"><div class=\"contnr c1    \" ><div class=\"lbl c1  \" ><span class=\"nd\">phrase </span></div><div class=\"children hor wrap \"><div class=\"contnr c0 trm   \" ><div class=\"lbl c0 trm \" ><span class=\"txtu\">ἐν </span></div></div><div class=\"contnr c0 trm   \" ><div class=\"lbl c0 trm \" ><span class=\"txtu\">χρηστότητι,</span></div></div></div></div></div></div></div></div><div class=\"contnr c2    \" ><div class=\"lbl c2  \" ><span class=\"nd\">wg </span></div><div class=\"children hor wrap \"><div class=\"contnr c1   lno rno \" ><div class=\"lbl c1  \" ><span class=\"nd\">clause </span></div><div class=\"children hor wrap \"><div class=\"contnr c1   rno \" ><div class=\"lbl c1  \" ><span class=\"nd\">phrase </span></div><div class=\"children hor wrap \"><div class=\"contnr c0 trm   \" ><div class=\"lbl c0 trm \" ><span class=\"txtu\">ἐν </span></div></div></div></div></div></div><div class=\"contnr c2    \" ><div class=\"lbl c2  \" ><span class=\"nd\">wg </span></div><div class=\"children hor wrap \"><div class=\"contnr c1   lno rno \" ><div class=\"lbl c1  \" ><span class=\"nd\">clause </span></div><div class=\"children hor wrap \"><div class=\"contnr c1   lno \" ><div class=\"lbl c1  \" ><span class=\"nd\">phrase </span></div><div class=\"children hor wrap \"><div class=\"contnr c1    \" ><div class=\"lbl c1  \" ><span class=\"nd\">phrase </span></div><div class=\"children hor wrap \"><div class=\"contnr c0 trm   \" ><div class=\"lbl c0 trm \" ><span class=\"txtu\">Πνεύματι </span></div></div><div class=\"contnr c0 trm   \" ><div class=\"lbl c0 trm \" ><span class=\"txtu\">Ἁγίῳ,</span></div></div></div></div></div></div></div></div></div></div></div></div><div class=\"contnr c2    \" ><div class=\"lbl c2  \" ><span class=\"nd\">wg </span></div><div class=\"children hor wrap \"><div class=\"contnr c1   lno rno \" ><div class=\"lbl c1  \" ><span class=\"nd\">clause </span></div><div class=\"children hor wrap \"><div class=\"contnr c1   rno \" ><div class=\"lbl c1  \" ><span class=\"nd\">phrase </span></div><div class=\"children hor wrap \"><div class=\"contnr c0 trm   \" ><div class=\"lbl c0 trm \" ><span class=\"txtu\">ἐν </span></div></div></div></div></div></div><div class=\"contnr c2    \" ><div class=\"lbl c2  \" ><span class=\"nd\">wg </span></div><div class=\"children hor wrap \"><div class=\"contnr c1   lno rno \" ><div class=\"lbl c1  \" ><span class=\"nd\">clause </span></div><div class=\"children hor wrap \"><div class=\"contnr c1   lno \" ><div class=\"lbl c1  \" ><span class=\"nd\">phrase </span></div><div class=\"children hor wrap \"><div class=\"contnr c1    \" ><div class=\"lbl c1  \" ><span class=\"nd\">phrase </span></div><div class=\"children hor wrap \"><div class=\"contnr c0 trm   \" ><div class=\"lbl c0 trm \" ><span class=\"txtu\">ἀγάπῃ </span></div></div><div class=\"contnr c0 trm   \" ><div class=\"lbl c0 trm \" ><span class=\"txtu\">ἀνυποκρίτῳ,</span></div></div></div></div></div></div></div></div></div></div></div></div><div class=\"contnr c2    \" ><div class=\"lbl c2  \" ><span class=\"nd\">wg </span></div><div class=\"children hor wrap \"><div class=\"contnr c1   lno rno \" ><div class=\"lbl c1  \" ><span class=\"nd\">clause </span></div><div class=\"children hor wrap \"><div class=\"contnr c1   rno \" ><div class=\"lbl c1  \" ><span class=\"nd\">phrase </span></div><div class=\"children hor wrap \"><div class=\"contnr c0 trm   \" ><div class=\"lbl c0 trm \" ><span class=\"txtu\">ἐν </span></div></div></div></div></div></div><div class=\"contnr c2    \" ><div class=\"lbl c2  \" ><span class=\"nd\">wg </span></div><div class=\"children hor wrap \"><div class=\"contnr c1   lno rno \" ><div class=\"lbl c1  \" ><span class=\"nd\">clause </span></div><div class=\"children hor wrap \"><div class=\"contnr c1   lno \" ><div class=\"lbl c1  \" ><span class=\"nd\">phrase </span></div><div class=\"children hor wrap \"><div class=\"contnr c1    \" ><div class=\"lbl c1  \" ><span class=\"nd\">phrase </span></div><div class=\"children hor wrap \"><div class=\"contnr c0 trm   \" ><div class=\"lbl c0 trm \" ><span class=\"txtu\">λόγῳ </span></div></div><div class=\"contnr c0 trm   \" ><div class=\"lbl c0 trm \" ><span class=\"txtu\">ἀληθείας,</span></div></div></div></div></div></div></div></div></div></div></div></div><div class=\"contnr c2    \" ><div class=\"lbl c2  \" ><span class=\"nd\">wg </span></div><div class=\"children hor wrap \"><div class=\"contnr c1   lno rno \" ><div class=\"lbl c1  \" ><span class=\"nd\">clause </span></div><div class=\"children hor wrap \"><div class=\"contnr c1   rno \" ><div class=\"lbl c1  \" ><span class=\"nd\">phrase </span></div><div class=\"children hor wrap \"><div class=\"contnr c0 trm   \" ><div class=\"lbl c0 trm \" ><span class=\"txtu\">ἐν </span></div></div></div></div></div></div><div class=\"contnr c2    \" ><div class=\"lbl c2  \" ><span class=\"nd\">wg </span></div><div class=\"children hor wrap \"><div class=\"contnr c1   lno rno \" ><div class=\"lbl c1  \" ><span class=\"nd\">clause </span></div><div class=\"children hor wrap \"><div class=\"contnr c1   lno \" ><div class=\"lbl c1  \" ><span class=\"nd\">phrase </span></div><div class=\"children hor wrap \"><div class=\"contnr c1    \" ><div class=\"lbl c1  \" ><span class=\"nd\">phrase </span></div><div class=\"children hor wrap \"><div class=\"contnr c0 trm   \" ><div class=\"lbl c0 trm \" ><span class=\"txtu\">δυνάμει </span></div></div><div class=\"contnr c0 trm   \" ><div class=\"lbl c0 trm \" ><span class=\"txtu\">Θεοῦ·</span></div></div></div></div></div></div></div></div></div></div></div></div><div class=\"contnr c2    \" ><div class=\"lbl c2  \" ><span class=\"nd\">wg </span></div><div class=\"children hor wrap \"><div class=\"contnr c1   lno rno \" ><div class=\"lbl c1  \" ><span class=\"nd\">clause </span></div><div class=\"children hor wrap \"><div class=\"contnr c1   rno \" ><div class=\"lbl c1  \" ><span class=\"nd\">phrase </span></div><div class=\"children hor wrap \"><div class=\"contnr c0 trm   \" ><div class=\"lbl c0 trm \" ><span class=\"txtu\">διὰ </span></div></div></div></div></div></div><div class=\"contnr c2    \" ><div class=\"lbl c2  \" ><span class=\"nd\">wg </span></div><div class=\"children hor wrap \"><div class=\"contnr c1   lno rno \" ><div class=\"lbl c1  \" ><span class=\"nd\">clause </span></div><div class=\"children hor wrap \"><div class=\"contnr c1   lno rno \" ><div class=\"lbl c1  \" ><span class=\"nd\">phrase </span></div><div class=\"children hor wrap \"><div class=\"contnr c1   rno \" ><div class=\"lbl c1  \" ><span class=\"nd\">phrase </span></div><div class=\"children hor wrap \"><div class=\"contnr c0 trm   \" ><div class=\"lbl c0 trm \" ><span class=\"txtu\">τῶν </span></div></div></div></div></div></div></div></div><div class=\"contnr c2    \" ><div class=\"lbl c2  \" ><span class=\"nd\">wg </span></div><div class=\"children hor wrap \"><div class=\"contnr c1   lno rno \" ><div class=\"lbl c1  \" ><span class=\"nd\">clause </span></div><div class=\"children hor wrap \"><div class=\"contnr c1   lno rno \" ><div class=\"lbl c1  \" ><span class=\"nd\">phrase </span></div><div class=\"children hor wrap \"><div class=\"contnr c1   lno rno \" ><div class=\"lbl c1  \" ><span class=\"nd\">phrase </span></div><div class=\"children hor wrap \"><div class=\"contnr c1   rno \" ><div class=\"lbl c1  \" ><span class=\"nd\">phrase </span></div><div class=\"children hor wrap \"><div class=\"contnr c0 trm   \" ><div class=\"lbl c0 trm \" ><span class=\"txtu\">ὅπλων </span></div></div></div></div></div></div></div></div></div></div><div class=\"contnr c2    \" ><div class=\"lbl c2  \" ><span class=\"nd\">wg </span></div><div class=\"children hor wrap \"><div class=\"contnr c1   lno rno \" ><div class=\"lbl c1  \" ><span class=\"nd\">clause </span></div><div class=\"children hor wrap \"><div class=\"contnr c1   lno rno \" ><div class=\"lbl c1  \" ><span class=\"nd\">phrase </span></div><div class=\"children hor wrap \"><div class=\"contnr c1   lno rno \" ><div class=\"lbl c1  \" ><span class=\"nd\">phrase </span></div><div class=\"children hor wrap \"><div class=\"contnr c1   lno rno \" ><div class=\"lbl c1  \" ><span class=\"nd\">phrase </span></div><div class=\"children hor wrap \"><div class=\"contnr c1   rno \" ><div class=\"lbl c1  \" ><span class=\"nd\">phrase </span></div><div class=\"children hor wrap \"><div class=\"contnr c0 trm   \" ><div class=\"lbl c0 trm \" ><span class=\"txtu\">τῆς </span></div></div></div></div></div></div></div></div></div></div></div></div><div class=\"contnr c2    \" ><div class=\"lbl c2  \" ><span class=\"nd\">wg </span></div><div class=\"children hor wrap \"><div class=\"contnr c1   lno rno \" ><div class=\"lbl c1  \" ><span class=\"nd\">clause </span></div><div class=\"children hor wrap \"><div class=\"contnr c1   lno rno \" ><div class=\"lbl c1  \" ><span class=\"nd\">phrase </span></div><div class=\"children hor wrap \"><div class=\"contnr c1   lno rno \" ><div class=\"lbl c1  \" ><span class=\"nd\">phrase </span></div><div class=\"children hor wrap \"><div class=\"contnr c1   lno rno \" ><div class=\"lbl c1  \" ><span class=\"nd\">phrase </span></div><div class=\"children hor wrap \"><div class=\"contnr c1   lno rno \" ><div class=\"lbl c1  \" ><span class=\"nd\">phrase </span></div><div class=\"children hor wrap \"><div class=\"contnr c1   rno \" ><div class=\"lbl c1  \" ><span class=\"nd\">phrase </span></div><div class=\"children hor wrap \"><div class=\"contnr c0 trm   \" ><div class=\"lbl c0 trm \" ><span class=\"txtu\">δικαιοσύνης </span></div></div></div></div></div></div></div></div></div></div></div></div></div></div><div class=\"contnr c2    \" ><div class=\"lbl c2  \" ><span class=\"nd\">wg </span></div><div class=\"children hor wrap \"><div class=\"contnr c1   lno rno \" ><div class=\"lbl c1  \" ><span class=\"nd\">clause </span></div><div class=\"children hor wrap \"><div class=\"contnr c1   lno rno \" ><div class=\"lbl c1  \" ><span class=\"nd\">phrase </span></div><div class=\"children hor wrap \"><div class=\"contnr c1   lno rno \" ><div class=\"lbl c1  \" ><span class=\"nd\">phrase </span></div><div class=\"children hor wrap \"><div class=\"contnr c1   lno rno \" ><div class=\"lbl c1  \" ><span class=\"nd\">phrase </span></div><div class=\"children hor wrap \"><div class=\"contnr c1   lno rno \" ><div class=\"lbl c1  \" ><span class=\"nd\">phrase </span></div><div class=\"children hor wrap \"><div class=\"contnr c1   lno rno \" ><div class=\"lbl c1  \" ><span class=\"nd\">phrase </span></div><div class=\"children hor wrap \"><div class=\"contnr c1   rno \" ><div class=\"lbl c1  \" ><span class=\"nd\">phrase </span></div><div class=\"children hor wrap \"><div class=\"contnr c0 trm   \" ><div class=\"lbl c0 trm \" ><span class=\"txtu\">τῶν </span></div></div></div></div></div></div></div></div></div></div></div></div></div></div></div></div><div class=\"contnr c2    \" ><div class=\"lbl c2  \" ><span class=\"nd\">wg </span></div><div class=\"children hor wrap \"><div class=\"contnr c1   lno rno \" ><div class=\"lbl c1  \" ><span class=\"nd\">clause </span></div><div class=\"children hor wrap \"><div class=\"contnr c1   lno rno \" ><div class=\"lbl c1  \" ><span class=\"nd\">phrase </span></div><div class=\"children hor wrap \"><div class=\"contnr c1   lno rno \" ><div class=\"lbl c1  \" ><span class=\"nd\">phrase </span></div><div class=\"children hor wrap \"><div class=\"contnr c1   lno rno \" ><div class=\"lbl c1  \" ><span class=\"nd\">phrase </span></div><div class=\"children hor wrap \"><div class=\"contnr c1   lno rno \" ><div class=\"lbl c1  \" ><span class=\"nd\">phrase </span></div><div class=\"children hor wrap \"><div class=\"contnr c1   lno rno \" ><div class=\"lbl c1  \" ><span class=\"nd\">phrase </span></div><div class=\"children hor wrap \"><div class=\"contnr c1   lno rno \" ><div class=\"lbl c1  \" ><span class=\"nd\">phrase </span></div><div class=\"children hor wrap \"><div class=\"contnr c0 trm   \" ><div class=\"lbl c0 trm \" ><span class=\"txtu\">δεξιῶν </span></div></div></div></div></div></div></div></div></div></div></div></div></div></div></div></div><div class=\"contnr c2    \" ><div class=\"lbl c2  \" ><span class=\"nd\">wg </span></div><div class=\"children hor wrap \"><div class=\"contnr c1   lno rno \" ><div class=\"lbl c1  \" ><span class=\"nd\">clause </span></div><div class=\"children hor wrap \"><div class=\"contnr c1   lno \" ><div class=\"lbl c1  \" ><span class=\"nd\">phrase </span></div><div class=\"children hor wrap \"><div class=\"contnr c1   lno \" ><div class=\"lbl c1  \" ><span class=\"nd\">phrase </span></div><div class=\"children hor wrap \"><div class=\"contnr c1   lno \" ><div class=\"lbl c1  \" ><span class=\"nd\">phrase </span></div><div class=\"children hor wrap \"><div class=\"contnr c1   lno \" ><div class=\"lbl c1  \" ><span class=\"nd\">phrase </span></div><div class=\"children hor wrap \"><div class=\"contnr c1   lno \" ><div class=\"lbl c1  \" ><span class=\"nd\">phrase </span></div><div class=\"children hor wrap \"><div class=\"contnr c1   lno \" ><div class=\"lbl c1  \" ><span class=\"nd\">phrase </span></div><div class=\"children hor wrap \"><div class=\"contnr c0 trm   \" ><div class=\"lbl c0 trm \" ><span class=\"txtu\">καὶ </span></div></div><div class=\"contnr c0 trm   \" ><div class=\"lbl c0 trm \" ><span class=\"txtu\">ἀριστερῶν,</span></div></div></div></div></div></div></div></div></div></div></div></div></div></div></div></div></div></div></div></div></div></div></div></div></div></div></div></div></div></div></div></div><div class=\"contnr c2    \" ><div class=\"lbl c2  \" ><span class=\"nd\">wg </span></div><div class=\"children hor wrap \"><div class=\"contnr c1   lno rno \" ><div class=\"lbl c1  \" ><span class=\"nd\">clause </span></div><div class=\"children hor wrap \"><div class=\"contnr c1   rno \" ><div class=\"lbl c1  \" ><span class=\"nd\">phrase </span></div><div class=\"children hor wrap \"><div class=\"contnr c0 trm   \" ><div class=\"lbl c0 trm \" ><span class=\"txtu\">διὰ </span></div></div></div></div></div></div><div class=\"contnr c2    \" ><div class=\"lbl c2  \" ><span class=\"nd\">wg </span></div><div class=\"children hor wrap \"><div class=\"contnr c1   lno rno \" ><div class=\"lbl c1  \" ><span class=\"nd\">clause </span></div><div class=\"children hor wrap \"><div class=\"contnr c1   lno rno \" ><div class=\"lbl c1  \" ><span class=\"nd\">phrase </span></div><div class=\"children hor wrap \"><div class=\"contnr c0 trm   \" ><div class=\"lbl c0 trm \" ><span class=\"txtu\">δόξης </span></div></div></div></div></div></div><div class=\"contnr c2    \" ><div class=\"lbl c2  \" ><span class=\"nd\">wg </span></div><div class=\"children hor wrap \"><div class=\"contnr c1   lno rno \" ><div class=\"lbl c1  \" ><span class=\"nd\">clause </span></div><div class=\"children hor wrap \"><div class=\"contnr c1   lno \" ><div class=\"lbl c1  \" ><span class=\"nd\">phrase </span></div><div class=\"children hor wrap \"><div class=\"contnr c0 trm   \" ><div class=\"lbl c0 trm \" ><span class=\"txtu\">καὶ </span></div></div><div class=\"contnr c0 trm   \" ><div class=\"lbl c0 trm \" ><span class=\"txtu\">ἀτιμίας,</span></div></div></div></div></div></div></div></div></div></div></div></div><div class=\"contnr c2    hl\" ><div class=\"lbl c2  hl\" ><span class=\"nd\">wg </span></div><div class=\"children hor wrap \"><div class=\"contnr c1   lno rno \" ><div class=\"lbl c1  \" ><span class=\"nd\">clause </span></div><div class=\"children hor wrap \"><div class=\"contnr c1   rno \" ><div class=\"lbl c1  \" ><span class=\"nd\">phrase </span></div><div class=\"children hor wrap \"><div class=\"contnr c0 trm   \" ><div class=\"lbl c0 trm \" ><span class=\"txtu\">διὰ </span></div></div></div></div></div></div><div class=\"contnr c2    \" ><div class=\"lbl c2  \" ><span class=\"nd\">wg </span></div><div class=\"children hor wrap \"><div class=\"contnr c1   lno rno \" ><div class=\"lbl c1  \" ><span class=\"nd\">clause </span></div><div class=\"children hor wrap \"><div class=\"contnr c1   lno rno \" ><div class=\"lbl c1  \" ><span class=\"nd\">phrase </span></div><div class=\"children hor wrap \"><div class=\"contnr c0 trm   \" ><div class=\"lbl c0 trm \" ><span class=\"txtu\">δυσφημίας </span></div></div></div></div></div></div><div class=\"contnr c2    \" ><div class=\"lbl c2  \" ><span class=\"nd\">wg </span></div><div class=\"children hor wrap \"><div class=\"contnr c1   lno \" ><div class=\"lbl c1  \" ><span class=\"nd\">clause </span></div><div class=\"children hor wrap \"><div class=\"contnr c1   lno \" ><div class=\"lbl c1  \" ><span class=\"nd\">phrase </span></div><div class=\"children hor wrap \"><div class=\"contnr c0 trm   \" ><div class=\"lbl c0 trm \" ><span class=\"txtu\">καὶ </span></div></div><div class=\"contnr c0 trm   \" ><div class=\"lbl c0 trm \" ><span class=\"txtu\">εὐφημίας·</span></div></div></div></div></div></div></div></div></div></div></div></div></div></div></div>"
      ],
      "text/plain": [
       "<IPython.core.display.HTML object>"
      ]
     },
     "metadata": {},
     "output_type": "display_data"
    }
   ],
   "source": [
    "print(f\"\"\"\n",
    "The maximum distance between siblings is **{maxDist}**\n",
    "\n",
    "* from {F.otype.v(fro)}-node {fro}\n",
    "* to {F.otype.v(to)}-node {to}\n",
    "\"\"\")\n",
    "\n",
    "A.plain(fro)\n",
    "A.plain(to)\n",
    "parent = E.parent.f(fro)[0]\n",
    "\n",
    "A.pretty(parent, highlights={fro, to}, queryFeatures=False)"
   ]
  },
  {
   "cell_type": "markdown",
   "id": "da70f397-cd47-4b70-ab75-e2e91c0dff51",
   "metadata": {},
   "source": [
    "# Frames\n",
    "\n",
    "We show a few verbal frames."
   ]
  },
  {
   "cell_type": "code",
   "execution_count": 19,
   "id": "61810d29-b3ff-4a90-8eaa-82df29694e18",
   "metadata": {},
   "outputs": [
    {
     "name": "stdout",
     "output_type": "stream",
     "text": [
      "  0.40s 145 results\n"
     ]
    },
    {
     "data": {
      "text/html": [
       "<p><b>result</b> <i>3</i>"
      ],
      "text/plain": [
       "<IPython.core.display.HTML object>"
      ]
     },
     "metadata": {},
     "output_type": "display_data"
    },
    {
     "data": {
      "text/html": [
       "<div class=\"tfsechead \"><span class=\"ltr\"><a target=\"_blank\" href=\"https://public.saulocantanhede.org/tfgreek2/Jude/1/1&amp;version=0.5.0\" title=\"Show this on the website\" sec=\"Jude\">Jude</a></span></div><div class=\" children\"><div class=\"contnr c4 trm   \" ><div class=\"lbl c4 trm \" ><span class=\"nd\">book </span> <span class=\"txtu\"><span class=\"tfsechead ltr\"><span class=\"ltr\">Jude</span></span></span></div><div class=\"features\"><span class=\"book xft\" ><span class=\"f\">book=</span>Jude</span></div></div></div>"
      ],
      "text/plain": [
       "<IPython.core.display.HTML object>"
      ]
     },
     "metadata": {},
     "output_type": "display_data"
    },
    {
     "data": {
      "text/html": [
       "<div class=\"tfsechead \"><span class=\"ltr\"><a target=\"_blank\" href=\"https://public.saulocantanhede.org/tfgreek2/Jude/1/2&amp;version=0.5.0\" title=\"Show this on the website\" sec=\"Jude@1:2\">Jude@1:2</a></span></div><div class=\" children\"><div class=\"contnr c3    \" ><div class=\"lbl c3  \" ><span class=\"nd\">verse </span></div><div class=\"features\"><span class=\"book xft\" ><span class=\"f\">book=</span>Jude</span></div><div class=\"children hor wrap \"><div class=\"contnr c2    \" ><div class=\"lbl c2  \" ><span class=\"nd\">sentence </span></div><div class=\"children hor wrap \"><div class=\"contnr c2    \" ><div class=\"lbl c2  \" ><span class=\"nd\">wg </span></div><div class=\"children hor wrap \"><div class=\"contnr c2    \" ><div class=\"lbl c2  \" ><span class=\"nd\">wg </span></div><div class=\"children hor wrap \"><div class=\"contnr c2   r \" ><div class=\"lbl c2  \" ><span class=\"nd\">wg </span></div><div class=\"children hor wrap \"><div class=\"contnr c1   rno \" ><div class=\"lbl c1  \" ><span class=\"nd\">clause </span></div><div class=\"children hor wrap \"><div class=\"contnr c0 trm   hl\"  style=\"background-color: salmon;\" ><div class=\"lbl c0 trm hl\"  style=\"background-color: salmon;\" ><span class=\"txtu\">ἔλεος </span></div><div class=\"features\"><span class=\"book xft\" ><span class=\"f\">book=</span>Jude</span></div></div></div></div></div></div><div class=\"contnr c1   lno rno \" ><div class=\"lbl c1  \" ><span class=\"nd\">clause </span></div><div class=\"children hor wrap \"><div class=\"contnr c0 trm   \" ><div class=\"lbl c0 trm \" ><span class=\"txtu\">ὑμῖν </span></div><div class=\"features\"><span class=\"book xft\" ><span class=\"f\">book=</span>Jude</span></div></div></div></div><div class=\"contnr c2   l \" ><div class=\"lbl c2  \" ><span class=\"nd\">wg </span></div><div class=\"children hor wrap \"><div class=\"contnr c2    \" ><div class=\"lbl c2  \" ><span class=\"nd\">wg </span></div><div class=\"children hor wrap \"><div class=\"contnr c1   lno rno \" ><div class=\"lbl c1  \" ><span class=\"nd\">clause </span></div><div class=\"children hor wrap \"><div class=\"contnr c0 trm   \" ><div class=\"lbl c0 trm \" ><span class=\"txtu\">καὶ </span></div><div class=\"features\"><span class=\"book xft\" ><span class=\"f\">book=</span>Jude</span></div></div><div class=\"contnr c0 trm   \" ><div class=\"lbl c0 trm \" ><span class=\"txtu\">εἰρήνη </span></div><div class=\"features\"><span class=\"book xft\" ><span class=\"f\">book=</span>Jude</span></div></div></div></div></div></div><div class=\"contnr c2    \" ><div class=\"lbl c2  \" ><span class=\"nd\">wg </span></div><div class=\"children hor wrap \"><div class=\"contnr c1   lno rno \" ><div class=\"lbl c1  \" ><span class=\"nd\">clause </span></div><div class=\"children hor wrap \"><div class=\"contnr c0 trm   \" ><div class=\"lbl c0 trm \" ><span class=\"txtu\">καὶ </span></div><div class=\"features\"><span class=\"book xft\" ><span class=\"f\">book=</span>Jude</span></div></div><div class=\"contnr c0 trm   \" ><div class=\"lbl c0 trm \" ><span class=\"txtu\">ἀγάπη </span></div><div class=\"features\"><span class=\"book xft\" ><span class=\"f\">book=</span>Jude</span></div></div></div></div></div></div></div></div><div class=\"contnr c1   lno \" ><div class=\"lbl c1  \" ><span class=\"nd\">clause </span></div><div class=\"children hor wrap \"><div class=\"contnr c0 trm   hl\"  style=\"background-color: cyan;\" ><div class=\"lbl c0 trm hl\"  style=\"background-color: cyan;\" ><span class=\"txtu\">πληθυνθείη.</span></div><div class=\"features\"><span class=\"book xft\" ><span class=\"f\">book=</span>Jude</span><span class=\"framespec xft\" ><span class=\"f\">framespec=</span>A2:n65001002002 A1:n65001002001;n65001002004;n65001002006</span></div></div></div></div></div></div></div></div></div></div></div></div></div>"
      ],
      "text/plain": [
       "<IPython.core.display.HTML object>"
      ]
     },
     "metadata": {},
     "output_type": "display_data"
    },
    {
     "data": {
      "text/html": [
       "<p><b>result</b> <i>4</i>"
      ],
      "text/plain": [
       "<IPython.core.display.HTML object>"
      ]
     },
     "metadata": {},
     "output_type": "display_data"
    },
    {
     "data": {
      "text/html": [
       "<div class=\"tfsechead \"><span class=\"ltr\"><a target=\"_blank\" href=\"https://public.saulocantanhede.org/tfgreek2/Jude/1/1&amp;version=0.5.0\" title=\"Show this on the website\" sec=\"Jude\">Jude</a></span></div><div class=\" children\"><div class=\"contnr c4 trm   \" ><div class=\"lbl c4 trm \" ><span class=\"nd\">book </span> <span class=\"txtu\"><span class=\"tfsechead ltr\"><span class=\"ltr\">Jude</span></span></span></div><div class=\"features\"><span class=\"book xft\" ><span class=\"f\">book=</span>Jude</span></div></div></div>"
      ],
      "text/plain": [
       "<IPython.core.display.HTML object>"
      ]
     },
     "metadata": {},
     "output_type": "display_data"
    },
    {
     "data": {
      "text/html": [
       "<div class=\"tfsechead \"><span class=\"ltr\"><a target=\"_blank\" href=\"https://public.saulocantanhede.org/tfgreek2/Jude/1/2&amp;version=0.5.0\" title=\"Show this on the website\" sec=\"Jude@1:2\">Jude@1:2</a></span></div><div class=\" children\"><div class=\"contnr c3    \" ><div class=\"lbl c3  \" ><span class=\"nd\">verse </span></div><div class=\"features\"><span class=\"book xft\" ><span class=\"f\">book=</span>Jude</span></div><div class=\"children hor wrap \"><div class=\"contnr c2    \" ><div class=\"lbl c2  \" ><span class=\"nd\">sentence </span></div><div class=\"children hor wrap \"><div class=\"contnr c2    \" ><div class=\"lbl c2  \" ><span class=\"nd\">wg </span></div><div class=\"children hor wrap \"><div class=\"contnr c2    \" ><div class=\"lbl c2  \" ><span class=\"nd\">wg </span></div><div class=\"children hor wrap \"><div class=\"contnr c2   r \" ><div class=\"lbl c2  \" ><span class=\"nd\">wg </span></div><div class=\"children hor wrap \"><div class=\"contnr c1   rno \" ><div class=\"lbl c1  \" ><span class=\"nd\">clause </span></div><div class=\"children hor wrap \"><div class=\"contnr c0 trm   \" ><div class=\"lbl c0 trm \" ><span class=\"txtu\">ἔλεος </span></div><div class=\"features\"><span class=\"book xft\" ><span class=\"f\">book=</span>Jude</span></div></div></div></div></div></div><div class=\"contnr c1   lno rno \" ><div class=\"lbl c1  \" ><span class=\"nd\">clause </span></div><div class=\"children hor wrap \"><div class=\"contnr c0 trm   hl\"  style=\"background-color: salmon;\" ><div class=\"lbl c0 trm hl\"  style=\"background-color: salmon;\" ><span class=\"txtu\">ὑμῖν </span></div><div class=\"features\"><span class=\"book xft\" ><span class=\"f\">book=</span>Jude</span></div></div></div></div><div class=\"contnr c2   l \" ><div class=\"lbl c2  \" ><span class=\"nd\">wg </span></div><div class=\"children hor wrap \"><div class=\"contnr c2    \" ><div class=\"lbl c2  \" ><span class=\"nd\">wg </span></div><div class=\"children hor wrap \"><div class=\"contnr c1   lno rno \" ><div class=\"lbl c1  \" ><span class=\"nd\">clause </span></div><div class=\"children hor wrap \"><div class=\"contnr c0 trm   \" ><div class=\"lbl c0 trm \" ><span class=\"txtu\">καὶ </span></div><div class=\"features\"><span class=\"book xft\" ><span class=\"f\">book=</span>Jude</span></div></div><div class=\"contnr c0 trm   \" ><div class=\"lbl c0 trm \" ><span class=\"txtu\">εἰρήνη </span></div><div class=\"features\"><span class=\"book xft\" ><span class=\"f\">book=</span>Jude</span></div></div></div></div></div></div><div class=\"contnr c2    \" ><div class=\"lbl c2  \" ><span class=\"nd\">wg </span></div><div class=\"children hor wrap \"><div class=\"contnr c1   lno rno \" ><div class=\"lbl c1  \" ><span class=\"nd\">clause </span></div><div class=\"children hor wrap \"><div class=\"contnr c0 trm   \" ><div class=\"lbl c0 trm \" ><span class=\"txtu\">καὶ </span></div><div class=\"features\"><span class=\"book xft\" ><span class=\"f\">book=</span>Jude</span></div></div><div class=\"contnr c0 trm   \" ><div class=\"lbl c0 trm \" ><span class=\"txtu\">ἀγάπη </span></div><div class=\"features\"><span class=\"book xft\" ><span class=\"f\">book=</span>Jude</span></div></div></div></div></div></div></div></div><div class=\"contnr c1   lno \" ><div class=\"lbl c1  \" ><span class=\"nd\">clause </span></div><div class=\"children hor wrap \"><div class=\"contnr c0 trm   hl\"  style=\"background-color: cyan;\" ><div class=\"lbl c0 trm hl\"  style=\"background-color: cyan;\" ><span class=\"txtu\">πληθυνθείη.</span></div><div class=\"features\"><span class=\"book xft\" ><span class=\"f\">book=</span>Jude</span><span class=\"framespec xft\" ><span class=\"f\">framespec=</span>A2:n65001002002 A1:n65001002001;n65001002004;n65001002006</span></div></div></div></div></div></div></div></div></div></div></div></div></div>"
      ],
      "text/plain": [
       "<IPython.core.display.HTML object>"
      ]
     },
     "metadata": {},
     "output_type": "display_data"
    },
    {
     "data": {
      "text/html": [
       "<p><b>result</b> <i>5</i>"
      ],
      "text/plain": [
       "<IPython.core.display.HTML object>"
      ]
     },
     "metadata": {},
     "output_type": "display_data"
    },
    {
     "data": {
      "text/html": [
       "<div class=\"tfsechead \"><span class=\"ltr\"><a target=\"_blank\" href=\"https://public.saulocantanhede.org/tfgreek2/Jude/1/1&amp;version=0.5.0\" title=\"Show this on the website\" sec=\"Jude\">Jude</a></span></div><div class=\" children\"><div class=\"contnr c4 trm   \" ><div class=\"lbl c4 trm \" ><span class=\"nd\">book </span> <span class=\"txtu\"><span class=\"tfsechead ltr\"><span class=\"ltr\">Jude</span></span></span></div><div class=\"features\"><span class=\"book xft\" ><span class=\"f\">book=</span>Jude</span></div></div></div>"
      ],
      "text/plain": [
       "<IPython.core.display.HTML object>"
      ]
     },
     "metadata": {},
     "output_type": "display_data"
    },
    {
     "data": {
      "text/html": [
       "<div class=\"tfsechead \"><span class=\"ltr\"><a target=\"_blank\" href=\"https://public.saulocantanhede.org/tfgreek2/Jude/1/2&amp;version=0.5.0\" title=\"Show this on the website\" sec=\"Jude@1:2\">Jude@1:2</a></span></div><div class=\" children\"><div class=\"contnr c3    \" ><div class=\"lbl c3  \" ><span class=\"nd\">verse </span></div><div class=\"features\"><span class=\"book xft\" ><span class=\"f\">book=</span>Jude</span></div><div class=\"children hor wrap \"><div class=\"contnr c2    \" ><div class=\"lbl c2  \" ><span class=\"nd\">sentence </span></div><div class=\"children hor wrap \"><div class=\"contnr c2    \" ><div class=\"lbl c2  \" ><span class=\"nd\">wg </span></div><div class=\"children hor wrap \"><div class=\"contnr c2    \" ><div class=\"lbl c2  \" ><span class=\"nd\">wg </span></div><div class=\"children hor wrap \"><div class=\"contnr c2   r \" ><div class=\"lbl c2  \" ><span class=\"nd\">wg </span></div><div class=\"children hor wrap \"><div class=\"contnr c1   rno \" ><div class=\"lbl c1  \" ><span class=\"nd\">clause </span></div><div class=\"children hor wrap \"><div class=\"contnr c0 trm   \" ><div class=\"lbl c0 trm \" ><span class=\"txtu\">ἔλεος </span></div><div class=\"features\"><span class=\"book xft\" ><span class=\"f\">book=</span>Jude</span></div></div></div></div></div></div><div class=\"contnr c1   lno rno \" ><div class=\"lbl c1  \" ><span class=\"nd\">clause </span></div><div class=\"children hor wrap \"><div class=\"contnr c0 trm   \" ><div class=\"lbl c0 trm \" ><span class=\"txtu\">ὑμῖν </span></div><div class=\"features\"><span class=\"book xft\" ><span class=\"f\">book=</span>Jude</span></div></div></div></div><div class=\"contnr c2   l \" ><div class=\"lbl c2  \" ><span class=\"nd\">wg </span></div><div class=\"children hor wrap \"><div class=\"contnr c2    \" ><div class=\"lbl c2  \" ><span class=\"nd\">wg </span></div><div class=\"children hor wrap \"><div class=\"contnr c1   lno rno \" ><div class=\"lbl c1  \" ><span class=\"nd\">clause </span></div><div class=\"children hor wrap \"><div class=\"contnr c0 trm   \" ><div class=\"lbl c0 trm \" ><span class=\"txtu\">καὶ </span></div><div class=\"features\"><span class=\"book xft\" ><span class=\"f\">book=</span>Jude</span></div></div><div class=\"contnr c0 trm   hl\"  style=\"background-color: salmon;\" ><div class=\"lbl c0 trm hl\"  style=\"background-color: salmon;\" ><span class=\"txtu\">εἰρήνη </span></div><div class=\"features\"><span class=\"book xft\" ><span class=\"f\">book=</span>Jude</span></div></div></div></div></div></div><div class=\"contnr c2    \" ><div class=\"lbl c2  \" ><span class=\"nd\">wg </span></div><div class=\"children hor wrap \"><div class=\"contnr c1   lno rno \" ><div class=\"lbl c1  \" ><span class=\"nd\">clause </span></div><div class=\"children hor wrap \"><div class=\"contnr c0 trm   \" ><div class=\"lbl c0 trm \" ><span class=\"txtu\">καὶ </span></div><div class=\"features\"><span class=\"book xft\" ><span class=\"f\">book=</span>Jude</span></div></div><div class=\"contnr c0 trm   \" ><div class=\"lbl c0 trm \" ><span class=\"txtu\">ἀγάπη </span></div><div class=\"features\"><span class=\"book xft\" ><span class=\"f\">book=</span>Jude</span></div></div></div></div></div></div></div></div><div class=\"contnr c1   lno \" ><div class=\"lbl c1  \" ><span class=\"nd\">clause </span></div><div class=\"children hor wrap \"><div class=\"contnr c0 trm   hl\"  style=\"background-color: cyan;\" ><div class=\"lbl c0 trm hl\"  style=\"background-color: cyan;\" ><span class=\"txtu\">πληθυνθείη.</span></div><div class=\"features\"><span class=\"book xft\" ><span class=\"f\">book=</span>Jude</span><span class=\"framespec xft\" ><span class=\"f\">framespec=</span>A2:n65001002002 A1:n65001002001;n65001002004;n65001002006</span></div></div></div></div></div></div></div></div></div></div></div></div></div>"
      ],
      "text/plain": [
       "<IPython.core.display.HTML object>"
      ]
     },
     "metadata": {},
     "output_type": "display_data"
    },
    {
     "data": {
      "text/html": [
       "<p><b>result</b> <i>6</i>"
      ],
      "text/plain": [
       "<IPython.core.display.HTML object>"
      ]
     },
     "metadata": {},
     "output_type": "display_data"
    },
    {
     "data": {
      "text/html": [
       "<div class=\"tfsechead \"><span class=\"ltr\"><a target=\"_blank\" href=\"https://public.saulocantanhede.org/tfgreek2/Jude/1/1&amp;version=0.5.0\" title=\"Show this on the website\" sec=\"Jude\">Jude</a></span></div><div class=\" children\"><div class=\"contnr c4 trm   \" ><div class=\"lbl c4 trm \" ><span class=\"nd\">book </span> <span class=\"txtu\"><span class=\"tfsechead ltr\"><span class=\"ltr\">Jude</span></span></span></div><div class=\"features\"><span class=\"book xft\" ><span class=\"f\">book=</span>Jude</span></div></div></div>"
      ],
      "text/plain": [
       "<IPython.core.display.HTML object>"
      ]
     },
     "metadata": {},
     "output_type": "display_data"
    },
    {
     "data": {
      "text/html": [
       "<div class=\"tfsechead \"><span class=\"ltr\"><a target=\"_blank\" href=\"https://public.saulocantanhede.org/tfgreek2/Jude/1/2&amp;version=0.5.0\" title=\"Show this on the website\" sec=\"Jude@1:2\">Jude@1:2</a></span></div><div class=\" children\"><div class=\"contnr c3    \" ><div class=\"lbl c3  \" ><span class=\"nd\">verse </span></div><div class=\"features\"><span class=\"book xft\" ><span class=\"f\">book=</span>Jude</span></div><div class=\"children hor wrap \"><div class=\"contnr c2    \" ><div class=\"lbl c2  \" ><span class=\"nd\">sentence </span></div><div class=\"children hor wrap \"><div class=\"contnr c2    \" ><div class=\"lbl c2  \" ><span class=\"nd\">wg </span></div><div class=\"children hor wrap \"><div class=\"contnr c2    \" ><div class=\"lbl c2  \" ><span class=\"nd\">wg </span></div><div class=\"children hor wrap \"><div class=\"contnr c2   r \" ><div class=\"lbl c2  \" ><span class=\"nd\">wg </span></div><div class=\"children hor wrap \"><div class=\"contnr c1   rno \" ><div class=\"lbl c1  \" ><span class=\"nd\">clause </span></div><div class=\"children hor wrap \"><div class=\"contnr c0 trm   \" ><div class=\"lbl c0 trm \" ><span class=\"txtu\">ἔλεος </span></div><div class=\"features\"><span class=\"book xft\" ><span class=\"f\">book=</span>Jude</span></div></div></div></div></div></div><div class=\"contnr c1   lno rno \" ><div class=\"lbl c1  \" ><span class=\"nd\">clause </span></div><div class=\"children hor wrap \"><div class=\"contnr c0 trm   \" ><div class=\"lbl c0 trm \" ><span class=\"txtu\">ὑμῖν </span></div><div class=\"features\"><span class=\"book xft\" ><span class=\"f\">book=</span>Jude</span></div></div></div></div><div class=\"contnr c2   l \" ><div class=\"lbl c2  \" ><span class=\"nd\">wg </span></div><div class=\"children hor wrap \"><div class=\"contnr c2    \" ><div class=\"lbl c2  \" ><span class=\"nd\">wg </span></div><div class=\"children hor wrap \"><div class=\"contnr c1   lno rno \" ><div class=\"lbl c1  \" ><span class=\"nd\">clause </span></div><div class=\"children hor wrap \"><div class=\"contnr c0 trm   \" ><div class=\"lbl c0 trm \" ><span class=\"txtu\">καὶ </span></div><div class=\"features\"><span class=\"book xft\" ><span class=\"f\">book=</span>Jude</span></div></div><div class=\"contnr c0 trm   \" ><div class=\"lbl c0 trm \" ><span class=\"txtu\">εἰρήνη </span></div><div class=\"features\"><span class=\"book xft\" ><span class=\"f\">book=</span>Jude</span></div></div></div></div></div></div><div class=\"contnr c2    \" ><div class=\"lbl c2  \" ><span class=\"nd\">wg </span></div><div class=\"children hor wrap \"><div class=\"contnr c1   lno rno \" ><div class=\"lbl c1  \" ><span class=\"nd\">clause </span></div><div class=\"children hor wrap \"><div class=\"contnr c0 trm   \" ><div class=\"lbl c0 trm \" ><span class=\"txtu\">καὶ </span></div><div class=\"features\"><span class=\"book xft\" ><span class=\"f\">book=</span>Jude</span></div></div><div class=\"contnr c0 trm   hl\"  style=\"background-color: salmon;\" ><div class=\"lbl c0 trm hl\"  style=\"background-color: salmon;\" ><span class=\"txtu\">ἀγάπη </span></div><div class=\"features\"><span class=\"book xft\" ><span class=\"f\">book=</span>Jude</span></div></div></div></div></div></div></div></div><div class=\"contnr c1   lno \" ><div class=\"lbl c1  \" ><span class=\"nd\">clause </span></div><div class=\"children hor wrap \"><div class=\"contnr c0 trm   hl\"  style=\"background-color: cyan;\" ><div class=\"lbl c0 trm hl\"  style=\"background-color: cyan;\" ><span class=\"txtu\">πληθυνθείη.</span></div><div class=\"features\"><span class=\"book xft\" ><span class=\"f\">book=</span>Jude</span><span class=\"framespec xft\" ><span class=\"f\">framespec=</span>A2:n65001002002 A1:n65001002001;n65001002004;n65001002006</span></div></div></div></div></div></div></div></div></div></div></div></div></div>"
      ],
      "text/plain": [
       "<IPython.core.display.HTML object>"
      ]
     },
     "metadata": {},
     "output_type": "display_data"
    }
   ],
   "source": [
    "frames = A.search(\"\"\"\n",
    "book book=Jude\n",
    "    word framespec\n",
    "    -frame> word\n",
    "\"\"\")\n",
    "A.show(frames, start=3, end=6, colorMap={2: \"cyan\", 3: \"salmon\"}, queryFeatures=True)"
   ]
  },
  {
   "cell_type": "markdown",
   "id": "f99c6766-20c3-4982-b1b8-99ffcd2ca6a6",
   "metadata": {},
   "source": [
    "With hand coding we can get a better display:"
   ]
  },
  {
   "cell_type": "code",
   "execution_count": 20,
   "id": "86b3d0ed-992d-4c7a-a813-324c1bbcb769",
   "metadata": {},
   "outputs": [
    {
     "data": {
      "text/html": [
       "<div class=\"tfsechead \"><span class=\"ltr\"><a target=\"_blank\" href=\"https://public.saulocantanhede.org/tfgreek2/Jude/1/2&amp;version=0.5.0\" title=\"Show this on the website\" sec=\"Jude@1:2\">Jude@1:2</a></span></div><div class=\" children\"><div class=\"contnr c2    \" ><div class=\"lbl c2  \" ><span class=\"nd\">wg </span></div><div class=\"children hor wrap \"><div class=\"contnr c2   r \" ><div class=\"lbl c2  \" ><span class=\"nd\">wg </span></div><div class=\"children hor wrap \"><div class=\"contnr c1   rno \" ><div class=\"lbl c1  \" ><span class=\"nd\">clause </span></div><div class=\"children hor wrap \"><div class=\"contnr c0 trm   hl\"  style=\"background-color: salmon;\" ><div class=\"lbl c0 trm hl\"  style=\"background-color: salmon;\" ><span class=\"txtu\">ἔλεος </span></div><div class=\"features\"><span class=\"book xft\" ><span class=\"f\">book=</span>Jude</span></div></div></div></div></div></div><div class=\"contnr c1   lno rno \" ><div class=\"lbl c1  \" ><span class=\"nd\">clause </span></div><div class=\"children hor wrap \"><div class=\"contnr c0 trm   hl\"  style=\"background-color: goldenrod;\" ><div class=\"lbl c0 trm hl\"  style=\"background-color: goldenrod;\" ><span class=\"txtu\">ὑμῖν </span></div><div class=\"features\"><span class=\"book xft\" ><span class=\"f\">book=</span>Jude</span></div></div></div></div><div class=\"contnr c2   l \" ><div class=\"lbl c2  \" ><span class=\"nd\">wg </span></div><div class=\"children hor wrap \"><div class=\"contnr c2    \" ><div class=\"lbl c2  \" ><span class=\"nd\">wg </span></div><div class=\"children hor wrap \"><div class=\"contnr c1   lno rno \" ><div class=\"lbl c1  \" ><span class=\"nd\">clause </span></div><div class=\"children hor wrap \"><div class=\"contnr c0 trm   \" ><div class=\"lbl c0 trm \" ><span class=\"txtu\">καὶ </span></div><div class=\"features\"><span class=\"book xft\" ><span class=\"f\">book=</span>Jude</span></div></div><div class=\"contnr c0 trm   hl\"  style=\"background-color: salmon;\" ><div class=\"lbl c0 trm hl\"  style=\"background-color: salmon;\" ><span class=\"txtu\">εἰρήνη </span></div><div class=\"features\"><span class=\"book xft\" ><span class=\"f\">book=</span>Jude</span></div></div></div></div></div></div><div class=\"contnr c2    \" ><div class=\"lbl c2  \" ><span class=\"nd\">wg </span></div><div class=\"children hor wrap \"><div class=\"contnr c1   lno rno \" ><div class=\"lbl c1  \" ><span class=\"nd\">clause </span></div><div class=\"children hor wrap \"><div class=\"contnr c0 trm   \" ><div class=\"lbl c0 trm \" ><span class=\"txtu\">καὶ </span></div><div class=\"features\"><span class=\"book xft\" ><span class=\"f\">book=</span>Jude</span></div></div><div class=\"contnr c0 trm   hl\"  style=\"background-color: salmon;\" ><div class=\"lbl c0 trm hl\"  style=\"background-color: salmon;\" ><span class=\"txtu\">ἀγάπη </span></div><div class=\"features\"><span class=\"book xft\" ><span class=\"f\">book=</span>Jude</span></div></div></div></div></div></div></div></div><div class=\"contnr c1   lno \" ><div class=\"lbl c1  \" ><span class=\"nd\">clause </span></div><div class=\"children hor wrap \"><div class=\"contnr c0 trm   hl\"  style=\"background-color: cyan;\" ><div class=\"lbl c0 trm hl\"  style=\"background-color: cyan;\" ><span class=\"txtu\">πληθυνθείη.</span></div><div class=\"features\"><span class=\"book xft\" ><span class=\"f\">book=</span>Jude</span><span class=\"framespec xft\" ><span class=\"f\">framespec=</span>A2:n65001002002 A1:n65001002001;n65001002004;n65001002006</span></div></div></div></div></div></div></div>"
      ],
      "text/plain": [
       "<IPython.core.display.HTML object>"
      ]
     },
     "metadata": {},
     "output_type": "display_data"
    }
   ],
   "source": [
    "colors = dict(A1=\"salmon\", A2=\"goldenrod\", self=\"cyan\")\n",
    "highlights = {}\n",
    "\n",
    "self = frames[2][1]\n",
    "parent = E.parent.f(self)[0]\n",
    "\n",
    "highlights[self] = colors[\"self\"]\n",
    "\n",
    "for (arg, label) in E.frame.f(self):\n",
    "    highlights[arg] = colors[label]\n",
    "    \n",
    "A.pretty(parent, highlights=highlights, queryFeatures=True)"
   ]
  },
  {
   "cell_type": "code",
   "execution_count": 21,
   "id": "aee05072-152f-4c2b-9cb5-66ac2a5aced6",
   "metadata": {},
   "outputs": [
    {
     "name": "stdout",
     "output_type": "stream",
     "text": [
      "  0.36s 17 results\n"
     ]
    },
    {
     "data": {
      "text/html": [
       "<p><b>result</b> <i>1</i>"
      ],
      "text/plain": [
       "<IPython.core.display.HTML object>"
      ]
     },
     "metadata": {},
     "output_type": "display_data"
    },
    {
     "data": {
      "text/html": [
       "<div class=\"tfsechead \"><span class=\"ltr\"><a target=\"_blank\" href=\"https://public.saulocantanhede.org/tfgreek2/John/1/1&amp;version=0.5.0\" title=\"Show this on the website\" sec=\"John@1:1\">John@1:1</a></span></div><div class=\" children\"><div class=\"contnr c3    \" ><div class=\"lbl c3  \" ><span class=\"nd\">verse </span></div><div class=\"children hor wrap \"><div class=\"contnr c2    \" ><div class=\"lbl c2  \" ><span class=\"nd\">sentence </span></div><div class=\"children hor wrap \"><div class=\"contnr c1    \" ><div class=\"lbl c1  \" ><span class=\"nd\">clause </span></div><div class=\"children hor wrap \"><div class=\"contnr c1    \" ><div class=\"lbl c1  \" ><span class=\"nd\">phrase </span></div><div class=\"children hor wrap \"><div class=\"contnr c0 trm   hl\" ><div class=\"lbl c0 trm hl\" ><span class=\"txtu\">Ἐν </span></div></div><div class=\"contnr c0 trm   \" ><div class=\"lbl c0 trm \" ><span class=\"txtu\">ἀρχῇ </span></div></div></div></div><div class=\"contnr c0 trm   \" ><div class=\"lbl c0 trm \" ><span class=\"txtu\">ἦν </span></div></div><div class=\"contnr c1    \" ><div class=\"lbl c1  \" ><span class=\"nd\">phrase </span></div><div class=\"children hor wrap \"><div class=\"contnr c0 trm   \" ><div class=\"lbl c0 trm \" ><span class=\"txtu\">ὁ </span></div></div><div class=\"contnr c0 trm   \" ><div class=\"lbl c0 trm \" ><span class=\"txtu\">Λόγος,</span></div></div></div></div></div></div><div class=\"contnr c0 trm   \" ><div class=\"lbl c0 trm \" ><span class=\"txtu\">καὶ </span></div></div><div class=\"contnr c1    \" ><div class=\"lbl c1  \" ><span class=\"nd\">clause </span></div><div class=\"children hor wrap \"><div class=\"contnr c1    \" ><div class=\"lbl c1  \" ><span class=\"nd\">phrase </span></div><div class=\"children hor wrap \"><div class=\"contnr c0 trm   \" ><div class=\"lbl c0 trm \" ><span class=\"txtu\">ὁ </span></div></div><div class=\"contnr c0 trm   \" ><div class=\"lbl c0 trm \" ><span class=\"txtu\">Λόγος </span></div></div></div></div><div class=\"contnr c0 trm   \" ><div class=\"lbl c0 trm \" ><span class=\"txtu\">ἦν </span></div></div><div class=\"contnr c1    \" ><div class=\"lbl c1  \" ><span class=\"nd\">phrase </span></div><div class=\"children hor wrap \"><div class=\"contnr c0 trm   \" ><div class=\"lbl c0 trm \" ><span class=\"txtu\">πρὸς </span></div></div><div class=\"contnr c1    \" ><div class=\"lbl c1  \" ><span class=\"nd\">phrase </span></div><div class=\"children hor wrap \"><div class=\"contnr c0 trm   \" ><div class=\"lbl c0 trm \" ><span class=\"txtu\">τὸν </span></div></div><div class=\"contnr c0 trm   \" ><div class=\"lbl c0 trm \" ><span class=\"txtu\">Θεόν,</span></div></div></div></div></div></div></div></div><div class=\"contnr c0 trm   \" ><div class=\"lbl c0 trm \" ><span class=\"txtu\">καὶ </span></div></div><div class=\"contnr c1    \" ><div class=\"lbl c1  \" ><span class=\"nd\">clause </span></div><div class=\"children hor wrap \"><div class=\"contnr c0 trm   \" ><div class=\"lbl c0 trm \" ><span class=\"txtu\">Θεὸς </span></div></div><div class=\"contnr c0 trm   \" ><div class=\"lbl c0 trm \" ><span class=\"txtu\">ἦν </span></div></div><div class=\"contnr c1    \" ><div class=\"lbl c1  \" ><span class=\"nd\">phrase </span></div><div class=\"children hor wrap \"><div class=\"contnr c0 trm   \" ><div class=\"lbl c0 trm \" ><span class=\"txtu\">ὁ </span></div></div><div class=\"contnr c0 trm   \" ><div class=\"lbl c0 trm \" ><span class=\"txtu\">Λόγος.</span></div></div></div></div></div></div></div></div></div></div></div>"
      ],
      "text/plain": [
       "<IPython.core.display.HTML object>"
      ]
     },
     "metadata": {},
     "output_type": "display_data"
    }
   ],
   "source": [
    "results='''\n",
    "word book=John chapter=1 verse=1\n",
    "'''\n",
    "results=A.search(results)\n",
    "A.show(results, start=1, end=1, multiFeatures=False, queryFeatures=False, hiddenTypes={\"wg\"})"
   ]
  },
  {
   "cell_type": "code",
   "execution_count": null,
   "id": "f2e72cfc-73ed-4845-9a5d-35b82c1797f2",
   "metadata": {},
   "outputs": [],
   "source": []
  }
 ],
 "metadata": {
  "kernelspec": {
   "display_name": "Python 3 (ipykernel)",
   "language": "python",
   "name": "python3"
  },
  "language_info": {
   "codemirror_mode": {
    "name": "ipython",
    "version": 3
   },
   "file_extension": ".py",
   "mimetype": "text/x-python",
   "name": "python",
   "nbconvert_exporter": "python",
   "pygments_lexer": "ipython3",
   "version": "3.9.13"
  }
 },
 "nbformat": 4,
 "nbformat_minor": 5
}
